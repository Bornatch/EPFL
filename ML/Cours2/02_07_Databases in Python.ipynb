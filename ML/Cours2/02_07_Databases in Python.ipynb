{
 "metadata": {
  "language_info": {
   "codemirror_mode": {
    "name": "ipython",
    "version": 3
   },
   "file_extension": ".py",
   "mimetype": "text/x-python",
   "name": "python",
   "nbconvert_exporter": "python",
   "pygments_lexer": "ipython3",
   "version": "3.6.13"
  },
  "orig_nbformat": 2,
  "kernelspec": {
   "name": "python3613jvsc74a57bd096112b273da02500fca82f24d37a320def3fe5535540567717f501ae01de40a6",
   "display_name": "Python 3.6.13 64-bit ('exts-ml': conda)"
  }
 },
 "nbformat": 4,
 "nbformat_minor": 2,
 "cells": [
  {
   "source": [
    "# 07. Databases in Python"
   ],
   "cell_type": "markdown",
   "metadata": {}
  },
  {
   "cell_type": "code",
   "execution_count": 9,
   "metadata": {},
   "outputs": [],
   "source": [
    "import sqlite3 as sql\n",
    "import pandas as pd"
   ]
  },
  {
   "cell_type": "code",
   "execution_count": 8,
   "metadata": {},
   "outputs": [],
   "source": [
    "db = sql.connect('data\\database.sqlite')"
   ]
  },
  {
   "cell_type": "code",
   "execution_count": 11,
   "metadata": {},
   "outputs": [],
   "source": [
    "def run_query(query):\n",
    "    return pd.read_sql_query(query,db)"
   ]
  },
  {
   "cell_type": "code",
   "execution_count": 12,
   "metadata": {},
   "outputs": [
    {
     "output_type": "execute_result",
     "data": {
      "text/plain": [
       "  tbl_name\n",
       "0  station\n",
       "1   status\n",
       "2     trip\n",
       "3  weather"
      ],
      "text/html": "<div>\n<style scoped>\n    .dataframe tbody tr th:only-of-type {\n        vertical-align: middle;\n    }\n\n    .dataframe tbody tr th {\n        vertical-align: top;\n    }\n\n    .dataframe thead th {\n        text-align: right;\n    }\n</style>\n<table border=\"1\" class=\"dataframe\">\n  <thead>\n    <tr style=\"text-align: right;\">\n      <th></th>\n      <th>tbl_name</th>\n    </tr>\n  </thead>\n  <tbody>\n    <tr>\n      <th>0</th>\n      <td>station</td>\n    </tr>\n    <tr>\n      <th>1</th>\n      <td>status</td>\n    </tr>\n    <tr>\n      <th>2</th>\n      <td>trip</td>\n    </tr>\n    <tr>\n      <th>3</th>\n      <td>weather</td>\n    </tr>\n  </tbody>\n</table>\n</div>"
     },
     "metadata": {},
     "execution_count": 12
    }
   ],
   "source": [
    " run_query(\"SELECT tbl_name FROM sqlite_master;\")"
   ]
  },
  {
   "cell_type": "code",
   "execution_count": 13,
   "metadata": {},
   "outputs": [
    {
     "output_type": "execute_result",
     "data": {
      "text/plain": [
       "     start_station_name                   end_station_name  duration\n",
       "0  Paseo de San Antonio                   Adobe on Almaden     12280\n",
       "1  Paseo de San Antonio  San Jose Diridon Caltrain Station       454\n",
       "2  Paseo de San Antonio               Paseo de San Antonio      1481\n",
       "3  Paseo de San Antonio               Paseo de San Antonio      1475\n",
       "4  Paseo de San Antonio  San Jose Diridon Caltrain Station       573"
      ],
      "text/html": "<div>\n<style scoped>\n    .dataframe tbody tr th:only-of-type {\n        vertical-align: middle;\n    }\n\n    .dataframe tbody tr th {\n        vertical-align: top;\n    }\n\n    .dataframe thead th {\n        text-align: right;\n    }\n</style>\n<table border=\"1\" class=\"dataframe\">\n  <thead>\n    <tr style=\"text-align: right;\">\n      <th></th>\n      <th>start_station_name</th>\n      <th>end_station_name</th>\n      <th>duration</th>\n    </tr>\n  </thead>\n  <tbody>\n    <tr>\n      <th>0</th>\n      <td>Paseo de San Antonio</td>\n      <td>Adobe on Almaden</td>\n      <td>12280</td>\n    </tr>\n    <tr>\n      <th>1</th>\n      <td>Paseo de San Antonio</td>\n      <td>San Jose Diridon Caltrain Station</td>\n      <td>454</td>\n    </tr>\n    <tr>\n      <th>2</th>\n      <td>Paseo de San Antonio</td>\n      <td>Paseo de San Antonio</td>\n      <td>1481</td>\n    </tr>\n    <tr>\n      <th>3</th>\n      <td>Paseo de San Antonio</td>\n      <td>Paseo de San Antonio</td>\n      <td>1475</td>\n    </tr>\n    <tr>\n      <th>4</th>\n      <td>Paseo de San Antonio</td>\n      <td>San Jose Diridon Caltrain Station</td>\n      <td>573</td>\n    </tr>\n  </tbody>\n</table>\n</div>"
     },
     "metadata": {},
     "execution_count": 13
    }
   ],
   "source": [
    "query = '''\n",
    "SELECT start_station_name, end_station_name, duration FROM trip \n",
    "WHERE start_station_name = 'Paseo de San Antonio' \n",
    "LIMIT 5;\n",
    "'''\n",
    "run_query(query)"
   ]
  },
  {
   "source": [
    "## 04. Advanced SQL queries"
   ],
   "cell_type": "markdown",
   "metadata": {}
  },
  {
   "cell_type": "code",
   "execution_count": 14,
   "metadata": {},
   "outputs": [
    {
     "output_type": "execute_result",
     "data": {
      "text/plain": [
       "   Average Duration\n",
       "0       1107.949846"
      ],
      "text/html": "<div>\n<style scoped>\n    .dataframe tbody tr th:only-of-type {\n        vertical-align: middle;\n    }\n\n    .dataframe tbody tr th {\n        vertical-align: top;\n    }\n\n    .dataframe thead th {\n        text-align: right;\n    }\n</style>\n<table border=\"1\" class=\"dataframe\">\n  <thead>\n    <tr style=\"text-align: right;\">\n      <th></th>\n      <th>Average Duration</th>\n    </tr>\n  </thead>\n  <tbody>\n    <tr>\n      <th>0</th>\n      <td>1107.949846</td>\n    </tr>\n  </tbody>\n</table>\n</div>"
     },
     "metadata": {},
     "execution_count": 14
    }
   ],
   "source": [
    "run_query(\"SELECT AVG(duration) AS 'Average Duration' FROM trip;\")"
   ]
  },
  {
   "cell_type": "code",
   "execution_count": 15,
   "metadata": {},
   "outputs": [
    {
     "output_type": "execute_result",
     "data": {
      "text/plain": [
       "  subscription_type  Average Duration\n",
       "0          Customer       3951.761329\n",
       "1        Subscriber        590.048856"
      ],
      "text/html": "<div>\n<style scoped>\n    .dataframe tbody tr th:only-of-type {\n        vertical-align: middle;\n    }\n\n    .dataframe tbody tr th {\n        vertical-align: top;\n    }\n\n    .dataframe thead th {\n        text-align: right;\n    }\n</style>\n<table border=\"1\" class=\"dataframe\">\n  <thead>\n    <tr style=\"text-align: right;\">\n      <th></th>\n      <th>subscription_type</th>\n      <th>Average Duration</th>\n    </tr>\n  </thead>\n  <tbody>\n    <tr>\n      <th>0</th>\n      <td>Customer</td>\n      <td>3951.761329</td>\n    </tr>\n    <tr>\n      <th>1</th>\n      <td>Subscriber</td>\n      <td>590.048856</td>\n    </tr>\n  </tbody>\n</table>\n</div>"
     },
     "metadata": {},
     "execution_count": 15
    }
   ],
   "source": [
    "query='''\n",
    "SELECT subscription_type, AVG(duration) AS 'Average Duration'  FROM trip \n",
    "GROUP BY subscription_type;\n",
    "'''\n",
    "run_query(query)"
   ]
  },
  {
   "cell_type": "code",
   "execution_count": 16,
   "metadata": {},
   "outputs": [
    {
     "output_type": "execute_result",
     "data": {
      "text/plain": [
       "            City   Count\n",
       "0  Mountain View   18167\n",
       "1      Palo Alto    6773\n",
       "2   Redwood City    3366\n",
       "3  San Francisco  592456\n",
       "4       San Jose   37855"
      ],
      "text/html": "<div>\n<style scoped>\n    .dataframe tbody tr th:only-of-type {\n        vertical-align: middle;\n    }\n\n    .dataframe tbody tr th {\n        vertical-align: top;\n    }\n\n    .dataframe thead th {\n        text-align: right;\n    }\n</style>\n<table border=\"1\" class=\"dataframe\">\n  <thead>\n    <tr style=\"text-align: right;\">\n      <th></th>\n      <th>City</th>\n      <th>Count</th>\n    </tr>\n  </thead>\n  <tbody>\n    <tr>\n      <th>0</th>\n      <td>Mountain View</td>\n      <td>18167</td>\n    </tr>\n    <tr>\n      <th>1</th>\n      <td>Palo Alto</td>\n      <td>6773</td>\n    </tr>\n    <tr>\n      <th>2</th>\n      <td>Redwood City</td>\n      <td>3366</td>\n    </tr>\n    <tr>\n      <th>3</th>\n      <td>San Francisco</td>\n      <td>592456</td>\n    </tr>\n    <tr>\n      <th>4</th>\n      <td>San Jose</td>\n      <td>37855</td>\n    </tr>\n  </tbody>\n</table>\n</div>"
     },
     "metadata": {},
     "execution_count": 16
    }
   ],
   "source": [
    "query = '''\n",
    "SELECT station.city AS \"City\", COUNT(*) AS \"Count\"\n",
    "FROM trip \n",
    "INNER JOIN station\n",
    "ON trip.start_station_name = station.name\n",
    "GROUP BY station.city;\n",
    "'''\n",
    "run_query(query)"
   ]
  },
  {
   "cell_type": "code",
   "execution_count": 17,
   "metadata": {},
   "outputs": [
    {
     "output_type": "execute_result",
     "data": {
      "text/plain": [
       "  Start city       End city  duration\n",
       "0  Palo Alto  Mountain View    611240"
      ],
      "text/html": "<div>\n<style scoped>\n    .dataframe tbody tr th:only-of-type {\n        vertical-align: middle;\n    }\n\n    .dataframe tbody tr th {\n        vertical-align: top;\n    }\n\n    .dataframe thead th {\n        text-align: right;\n    }\n</style>\n<table border=\"1\" class=\"dataframe\">\n  <thead>\n    <tr style=\"text-align: right;\">\n      <th></th>\n      <th>Start city</th>\n      <th>End city</th>\n      <th>duration</th>\n    </tr>\n  </thead>\n  <tbody>\n    <tr>\n      <th>0</th>\n      <td>Palo Alto</td>\n      <td>Mountain View</td>\n      <td>611240</td>\n    </tr>\n  </tbody>\n</table>\n</div>"
     },
     "metadata": {},
     "execution_count": 17
    }
   ],
   "source": [
    "query = '''\n",
    "SELECT start.city AS \"Start city\", end.city AS \"End city\", trip.duration\n",
    "FROM trip\n",
    "INNER JOIN station AS start\n",
    "ON trip.start_station_name = start.name\n",
    "INNER JOIN station AS end\n",
    "ON trip.end_station_name = end.name\n",
    "WHERE start.city != end.city\n",
    "ORDER BY duration DESC\n",
    "LIMIT 1;\n",
    "'''\n",
    "run_query(query)"
   ]
  },
  {
   "source": [
    "## 05. Exercise: SQL queries"
   ],
   "cell_type": "markdown",
   "metadata": {}
  },
  {
   "cell_type": "code",
   "execution_count": 18,
   "metadata": {},
   "outputs": [
    {
     "output_type": "execute_result",
     "data": {
      "text/plain": [
       "   max(duration)\n",
       "0       17270400"
      ],
      "text/html": "<div>\n<style scoped>\n    .dataframe tbody tr th:only-of-type {\n        vertical-align: middle;\n    }\n\n    .dataframe tbody tr th {\n        vertical-align: top;\n    }\n\n    .dataframe thead th {\n        text-align: right;\n    }\n</style>\n<table border=\"1\" class=\"dataframe\">\n  <thead>\n    <tr style=\"text-align: right;\">\n      <th></th>\n      <th>max(duration)</th>\n    </tr>\n  </thead>\n  <tbody>\n    <tr>\n      <th>0</th>\n      <td>17270400</td>\n    </tr>\n  </tbody>\n</table>\n</div>"
     },
     "metadata": {},
     "execution_count": 18
    }
   ],
   "source": [
    "# 1) What was the duration of the longest trip?\n",
    "query = '''\n",
    "SELECT max(duration) FROM trip \n",
    ";\n",
    "'''\n",
    "run_query(query)"
   ]
  },
  {
   "cell_type": "code",
   "execution_count": 27,
   "metadata": {},
   "outputs": [
    {
     "output_type": "execute_result",
     "data": {
      "text/plain": [
       "   count(*)\n",
       "0     16843"
      ],
      "text/html": "<div>\n<style scoped>\n    .dataframe tbody tr th:only-of-type {\n        vertical-align: middle;\n    }\n\n    .dataframe tbody tr th {\n        vertical-align: top;\n    }\n\n    .dataframe thead th {\n        text-align: right;\n    }\n</style>\n<table border=\"1\" class=\"dataframe\">\n  <thead>\n    <tr style=\"text-align: right;\">\n      <th></th>\n      <th>count(*)</th>\n    </tr>\n  </thead>\n  <tbody>\n    <tr>\n      <th>0</th>\n      <td>16843</td>\n    </tr>\n  </tbody>\n</table>\n</div>"
     },
     "metadata": {},
     "execution_count": 27
    }
   ],
   "source": [
    "# 2) How many trips were ended at the station '2nd at South Park '?\n",
    "query = '''\n",
    "SELECT count(*) FROM trip \n",
    "where end_station_name like '2nd at South Park'\n",
    ";\n",
    "'''\n",
    "run_query(query)"
   ]
  },
  {
   "cell_type": "code",
   "execution_count": 28,
   "metadata": {},
   "outputs": [
    {
     "output_type": "execute_result",
     "data": {
      "text/plain": [
       "   count(*)\n",
       "0     56705"
      ],
      "text/html": "<div>\n<style scoped>\n    .dataframe tbody tr th:only-of-type {\n        vertical-align: middle;\n    }\n\n    .dataframe tbody tr th {\n        vertical-align: top;\n    }\n\n    .dataframe thead th {\n        text-align: right;\n    }\n</style>\n<table border=\"1\" class=\"dataframe\">\n  <thead>\n    <tr style=\"text-align: right;\">\n      <th></th>\n      <th>count(*)</th>\n    </tr>\n  </thead>\n  <tbody>\n    <tr>\n      <th>0</th>\n      <td>56705</td>\n    </tr>\n  </tbody>\n</table>\n</div>"
     },
     "metadata": {},
     "execution_count": 28
    }
   ],
   "source": [
    "# 3) How many trips had a duration between 1000 and 2000?\n",
    "query = '''\n",
    "SELECT count(*) FROM trip \n",
    "where duration <2000\n",
    "and duration > 1000\n",
    ";\n",
    "'''\n",
    "run_query(query)"
   ]
  },
  {
   "cell_type": "code",
   "execution_count": 33,
   "metadata": {},
   "outputs": [
    {
     "output_type": "execute_result",
     "data": {
      "text/plain": [
       "   bike_id  max(count)\n",
       "0      392        2061"
      ],
      "text/html": "<div>\n<style scoped>\n    .dataframe tbody tr th:only-of-type {\n        vertical-align: middle;\n    }\n\n    .dataframe tbody tr th {\n        vertical-align: top;\n    }\n\n    .dataframe thead th {\n        text-align: right;\n    }\n</style>\n<table border=\"1\" class=\"dataframe\">\n  <thead>\n    <tr style=\"text-align: right;\">\n      <th></th>\n      <th>bike_id</th>\n      <th>max(count)</th>\n    </tr>\n  </thead>\n  <tbody>\n    <tr>\n      <th>0</th>\n      <td>392</td>\n      <td>2061</td>\n    </tr>\n  </tbody>\n</table>\n</div>"
     },
     "metadata": {},
     "execution_count": 33
    }
   ],
   "source": [
    "# 4) Which bike was used for the most trips?\n",
    "query = '''\n",
    "select bike_id, max(count) from (\n",
    "SELECT bike_id, count(bike_id) as count FROM trip \n",
    "group by bike_ID\n",
    ")\n",
    ";\n",
    "'''\n",
    "run_query(query)"
   ]
  },
  {
   "cell_type": "code",
   "execution_count": 39,
   "metadata": {},
   "outputs": [
    {
     "output_type": "execute_result",
     "data": {
      "text/plain": [
       "              start_station_name\n",
       "0              2nd at South Park\n",
       "1  Redwood City Caltrain Station\n",
       "2       South Van Ness at Market\n",
       "3        Mountain View City Hall\n",
       "4       Commercial at Montgomery"
      ],
      "text/html": "<div>\n<style scoped>\n    .dataframe tbody tr th:only-of-type {\n        vertical-align: middle;\n    }\n\n    .dataframe tbody tr th {\n        vertical-align: top;\n    }\n\n    .dataframe thead th {\n        text-align: right;\n    }\n</style>\n<table border=\"1\" class=\"dataframe\">\n  <thead>\n    <tr style=\"text-align: right;\">\n      <th></th>\n      <th>start_station_name</th>\n    </tr>\n  </thead>\n  <tbody>\n    <tr>\n      <th>0</th>\n      <td>2nd at South Park</td>\n    </tr>\n    <tr>\n      <th>1</th>\n      <td>Redwood City Caltrain Station</td>\n    </tr>\n    <tr>\n      <th>2</th>\n      <td>South Van Ness at Market</td>\n    </tr>\n    <tr>\n      <th>3</th>\n      <td>Mountain View City Hall</td>\n    </tr>\n    <tr>\n      <th>4</th>\n      <td>Commercial at Montgomery</td>\n    </tr>\n  </tbody>\n</table>\n</div>"
     },
     "metadata": {},
     "execution_count": 39
    }
   ],
   "source": [
    "# 5) Which are the top five stations for the number of round trips? (round trips start and end at the same station).\n",
    "squery = '''SELECT bidistinct start_station_nameROM trip \n",
    "growhere start_station_name = end_station_name\n",
    "'limit 5'\n",
    "run_query(query)"
   ]
  },
  {
   "cell_type": "code",
   "execution_count": null,
   "metadata": {},
   "outputs": [],
   "source": []
  }
 ]
}