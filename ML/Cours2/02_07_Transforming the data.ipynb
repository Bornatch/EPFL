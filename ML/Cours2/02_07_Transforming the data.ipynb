{
 "metadata": {
  "language_info": {
   "codemirror_mode": {
    "name": "ipython",
    "version": 3
   },
   "file_extension": ".py",
   "mimetype": "text/x-python",
   "name": "python",
   "nbconvert_exporter": "python",
   "pygments_lexer": "ipython3",
   "version": "3.6.13"
  },
  "orig_nbformat": 2,
  "kernelspec": {
   "name": "python3613jvsc74a57bd02b5dd82ba0b5c4c71e3709f7a8b2ae779d21657f4b77a998e948f0a91d5bc895",
   "display_name": "Python 3.6.13 64-bit ('exts-ml': conda)"
  }
 },
 "nbformat": 4,
 "nbformat_minor": 2,
 "cells": [
  {
   "source": [
    "# 07. Transforming the data\n",
    "\n",
    "Maybe the values are not in the correct units or data types. \n",
    "Or maybe there is some incorrect data. "
   ],
   "cell_type": "markdown",
   "metadata": {}
  },
  {
   "cell_type": "code",
   "execution_count": 1,
   "metadata": {},
   "outputs": [],
   "source": [
    "import pandas as pd\n",
    "import numpy as np"
   ]
  },
  {
   "cell_type": "code",
   "execution_count": 3,
   "metadata": {},
   "outputs": [
    {
     "output_type": "execute_result",
     "data": {
      "text/plain": [
       "   class  score  result performance\n",
       "0      1     10       0      strong\n",
       "1      1     21       1        weak\n",
       "2      1     35       0      normal\n",
       "3      2     11       1        weak\n",
       "4      2     26       0      strong"
      ],
      "text/html": "<div>\n<style scoped>\n    .dataframe tbody tr th:only-of-type {\n        vertical-align: middle;\n    }\n\n    .dataframe tbody tr th {\n        vertical-align: top;\n    }\n\n    .dataframe thead th {\n        text-align: right;\n    }\n</style>\n<table border=\"1\" class=\"dataframe\">\n  <thead>\n    <tr style=\"text-align: right;\">\n      <th></th>\n      <th>class</th>\n      <th>score</th>\n      <th>result</th>\n      <th>performance</th>\n    </tr>\n  </thead>\n  <tbody>\n    <tr>\n      <th>0</th>\n      <td>1</td>\n      <td>10</td>\n      <td>0</td>\n      <td>strong</td>\n    </tr>\n    <tr>\n      <th>1</th>\n      <td>1</td>\n      <td>21</td>\n      <td>1</td>\n      <td>weak</td>\n    </tr>\n    <tr>\n      <th>2</th>\n      <td>1</td>\n      <td>35</td>\n      <td>0</td>\n      <td>normal</td>\n    </tr>\n    <tr>\n      <th>3</th>\n      <td>2</td>\n      <td>11</td>\n      <td>1</td>\n      <td>weak</td>\n    </tr>\n    <tr>\n      <th>4</th>\n      <td>2</td>\n      <td>26</td>\n      <td>0</td>\n      <td>strong</td>\n    </tr>\n  </tbody>\n</table>\n</div>"
     },
     "metadata": {},
     "execution_count": 3
    }
   ],
   "source": [
    "data = {'class': [1, 1, 1, 2, 2],\n",
    "        'score': [10, 21, 35, 11, 26],\n",
    "        'result': [0, 1, 0, 1, 0],\n",
    "        'performance': ['strong', 'weak', 'normal', 'weak', 'strong']}\n",
    "df = pd.DataFrame(data)\n",
    "df"
   ]
  },
  {
   "source": [
    "## Mapping\n",
    "This function is for Series and we can use it to map an existing value of a Series to a different set of values. "
   ],
   "cell_type": "markdown",
   "metadata": {}
  },
  {
   "cell_type": "code",
   "execution_count": 4,
   "metadata": {},
   "outputs": [
    {
     "output_type": "execute_result",
     "data": {
      "text/plain": [
       "   class  score  result performance pass or fail\n",
       "0      1     10       0      strong         fail\n",
       "1      1     21       1        weak         pass\n",
       "2      1     35       0      normal         fail\n",
       "3      2     11       1        weak         pass\n",
       "4      2     26       0      strong         fail"
      ],
      "text/html": "<div>\n<style scoped>\n    .dataframe tbody tr th:only-of-type {\n        vertical-align: middle;\n    }\n\n    .dataframe tbody tr th {\n        vertical-align: top;\n    }\n\n    .dataframe thead th {\n        text-align: right;\n    }\n</style>\n<table border=\"1\" class=\"dataframe\">\n  <thead>\n    <tr style=\"text-align: right;\">\n      <th></th>\n      <th>class</th>\n      <th>score</th>\n      <th>result</th>\n      <th>performance</th>\n      <th>pass or fail</th>\n    </tr>\n  </thead>\n  <tbody>\n    <tr>\n      <th>0</th>\n      <td>1</td>\n      <td>10</td>\n      <td>0</td>\n      <td>strong</td>\n      <td>fail</td>\n    </tr>\n    <tr>\n      <th>1</th>\n      <td>1</td>\n      <td>21</td>\n      <td>1</td>\n      <td>weak</td>\n      <td>pass</td>\n    </tr>\n    <tr>\n      <th>2</th>\n      <td>1</td>\n      <td>35</td>\n      <td>0</td>\n      <td>normal</td>\n      <td>fail</td>\n    </tr>\n    <tr>\n      <th>3</th>\n      <td>2</td>\n      <td>11</td>\n      <td>1</td>\n      <td>weak</td>\n      <td>pass</td>\n    </tr>\n    <tr>\n      <th>4</th>\n      <td>2</td>\n      <td>26</td>\n      <td>0</td>\n      <td>strong</td>\n      <td>fail</td>\n    </tr>\n  </tbody>\n</table>\n</div>"
     },
     "metadata": {},
     "execution_count": 4
    }
   ],
   "source": [
    "df['pass or fail'] = df.result.map({0:'fail', 1:'pass'})\n",
    "df"
   ]
  },
  {
   "source": [
    "## Applying functions\n",
    " There are several ways in which we might do this: to individual elements, to entire columns, to entire rows, or to the entire DataFrame. There are two main functions that we can use for this: apply() and applymap()."
   ],
   "cell_type": "markdown",
   "metadata": {}
  },
  {
   "cell_type": "code",
   "execution_count": 5,
   "metadata": {},
   "outputs": [],
   "source": [
    "# function \n",
    "def stand(x):\n",
    "    mean=df.score.mean()\n",
    "    std=df.score.std()\n",
    "    y = (x-mean)/std\n",
    "    return y"
   ]
  },
  {
   "cell_type": "code",
   "execution_count": 7,
   "metadata": {},
   "outputs": [
    {
     "output_type": "execute_result",
     "data": {
      "text/plain": [
       "   class  score  result performance pass or fail  score standard\n",
       "0      1     10       0      strong         fail       -1.009295\n",
       "1      1     21       1        weak         pass        0.038087\n",
       "2      1     35       0      normal         fail        1.371118\n",
       "3      2     11       1        weak         pass       -0.914078\n",
       "4      2     26       0      strong         fail        0.514169"
      ],
      "text/html": "<div>\n<style scoped>\n    .dataframe tbody tr th:only-of-type {\n        vertical-align: middle;\n    }\n\n    .dataframe tbody tr th {\n        vertical-align: top;\n    }\n\n    .dataframe thead th {\n        text-align: right;\n    }\n</style>\n<table border=\"1\" class=\"dataframe\">\n  <thead>\n    <tr style=\"text-align: right;\">\n      <th></th>\n      <th>class</th>\n      <th>score</th>\n      <th>result</th>\n      <th>performance</th>\n      <th>pass or fail</th>\n      <th>score standard</th>\n    </tr>\n  </thead>\n  <tbody>\n    <tr>\n      <th>0</th>\n      <td>1</td>\n      <td>10</td>\n      <td>0</td>\n      <td>strong</td>\n      <td>fail</td>\n      <td>-1.009295</td>\n    </tr>\n    <tr>\n      <th>1</th>\n      <td>1</td>\n      <td>21</td>\n      <td>1</td>\n      <td>weak</td>\n      <td>pass</td>\n      <td>0.038087</td>\n    </tr>\n    <tr>\n      <th>2</th>\n      <td>1</td>\n      <td>35</td>\n      <td>0</td>\n      <td>normal</td>\n      <td>fail</td>\n      <td>1.371118</td>\n    </tr>\n    <tr>\n      <th>3</th>\n      <td>2</td>\n      <td>11</td>\n      <td>1</td>\n      <td>weak</td>\n      <td>pass</td>\n      <td>-0.914078</td>\n    </tr>\n    <tr>\n      <th>4</th>\n      <td>2</td>\n      <td>26</td>\n      <td>0</td>\n      <td>strong</td>\n      <td>fail</td>\n      <td>0.514169</td>\n    </tr>\n  </tbody>\n</table>\n</div>"
     },
     "metadata": {},
     "execution_count": 7
    }
   ],
   "source": [
    "#apply it \n",
    "df['score standard']=df.score.apply(stand)\n",
    "df"
   ]
  },
  {
   "cell_type": "code",
   "execution_count": 10,
   "metadata": {},
   "outputs": [
    {
     "output_type": "execute_result",
     "data": {
      "text/plain": [
       "   class  result  score  score standard\n",
       "0      1       0     10       -1.009295\n",
       "1      1       1     21        0.038087\n",
       "2      1       0     35        1.371118\n",
       "3      2       1     11       -0.914078\n",
       "4      2       0     26        0.514169"
      ],
      "text/html": "<div>\n<style scoped>\n    .dataframe tbody tr th:only-of-type {\n        vertical-align: middle;\n    }\n\n    .dataframe tbody tr th {\n        vertical-align: top;\n    }\n\n    .dataframe thead th {\n        text-align: right;\n    }\n</style>\n<table border=\"1\" class=\"dataframe\">\n  <thead>\n    <tr style=\"text-align: right;\">\n      <th></th>\n      <th>class</th>\n      <th>result</th>\n      <th>score</th>\n      <th>score standard</th>\n    </tr>\n  </thead>\n  <tbody>\n    <tr>\n      <th>0</th>\n      <td>1</td>\n      <td>0</td>\n      <td>10</td>\n      <td>-1.009295</td>\n    </tr>\n    <tr>\n      <th>1</th>\n      <td>1</td>\n      <td>1</td>\n      <td>21</td>\n      <td>0.038087</td>\n    </tr>\n    <tr>\n      <th>2</th>\n      <td>1</td>\n      <td>0</td>\n      <td>35</td>\n      <td>1.371118</td>\n    </tr>\n    <tr>\n      <th>3</th>\n      <td>2</td>\n      <td>1</td>\n      <td>11</td>\n      <td>-0.914078</td>\n    </tr>\n    <tr>\n      <th>4</th>\n      <td>2</td>\n      <td>0</td>\n      <td>26</td>\n      <td>0.514169</td>\n    </tr>\n  </tbody>\n</table>\n</div>"
     },
     "metadata": {},
     "execution_count": 10
    }
   ],
   "source": [
    "# aplly on numerical column (or row if axis=1)\n",
    "df_num =df.loc[:, ['class', 'result', 'score', 'score standard']]\n",
    "df_num"
   ]
  },
  {
   "cell_type": "code",
   "execution_count": 12,
   "metadata": {},
   "outputs": [
    {
     "output_type": "execute_result",
     "data": {
      "text/plain": [
       "class              2.000000\n",
       "result             1.000000\n",
       "score             35.000000\n",
       "score standard     1.371118\n",
       "dtype: float64"
      ]
     },
     "metadata": {},
     "execution_count": 12
    }
   ],
   "source": [
    "df_num.apply(max, axis=0)"
   ]
  },
  {
   "cell_type": "code",
   "execution_count": 14,
   "metadata": {},
   "outputs": [
    {
     "output_type": "execute_result",
     "data": {
      "text/plain": [
       "  class result score        score standard\n",
       "0    $1     $0   $10  $-1.0092949703936966\n",
       "1    $1     $1   $21  $0.03808660265636577\n",
       "2    $1     $0   $35   $1.3711176956291724\n",
       "3    $2     $1   $11  $-0.9140784637527819\n",
       "4    $2     $0   $26   $0.5141691358609396"
      ],
      "text/html": "<div>\n<style scoped>\n    .dataframe tbody tr th:only-of-type {\n        vertical-align: middle;\n    }\n\n    .dataframe tbody tr th {\n        vertical-align: top;\n    }\n\n    .dataframe thead th {\n        text-align: right;\n    }\n</style>\n<table border=\"1\" class=\"dataframe\">\n  <thead>\n    <tr style=\"text-align: right;\">\n      <th></th>\n      <th>class</th>\n      <th>result</th>\n      <th>score</th>\n      <th>score standard</th>\n    </tr>\n  </thead>\n  <tbody>\n    <tr>\n      <th>0</th>\n      <td>$1</td>\n      <td>$0</td>\n      <td>$10</td>\n      <td>$-1.0092949703936966</td>\n    </tr>\n    <tr>\n      <th>1</th>\n      <td>$1</td>\n      <td>$1</td>\n      <td>$21</td>\n      <td>$0.03808660265636577</td>\n    </tr>\n    <tr>\n      <th>2</th>\n      <td>$1</td>\n      <td>$0</td>\n      <td>$35</td>\n      <td>$1.3711176956291724</td>\n    </tr>\n    <tr>\n      <th>3</th>\n      <td>$2</td>\n      <td>$1</td>\n      <td>$11</td>\n      <td>$-0.9140784637527819</td>\n    </tr>\n    <tr>\n      <th>4</th>\n      <td>$2</td>\n      <td>$0</td>\n      <td>$26</td>\n      <td>$0.5141691358609396</td>\n    </tr>\n  </tbody>\n</table>\n</div>"
     },
     "metadata": {},
     "execution_count": 14
    }
   ],
   "source": [
    "# applymap() to all dataframe\n",
    "df_num.applymap(lambda x: '$' + str(x))"
   ]
  },
  {
   "cell_type": "code",
   "execution_count": null,
   "metadata": {},
   "outputs": [],
   "source": []
  },
  {
   "cell_type": "code",
   "execution_count": null,
   "metadata": {},
   "outputs": [],
   "source": []
  }
 ]
}