{
 "metadata": {
  "language_info": {
   "codemirror_mode": {
    "name": "ipython",
    "version": 3
   },
   "file_extension": ".py",
   "mimetype": "text/x-python",
   "name": "python",
   "nbconvert_exporter": "python",
   "pygments_lexer": "ipython3",
   "version": "3.6.13"
  },
  "orig_nbformat": 2,
  "kernelspec": {
   "name": "python3613jvsc74a57bd096112b273da02500fca82f24d37a320def3fe5535540567717f501ae01de40a6",
   "display_name": "Python 3.6.13 64-bit ('exts-ml': conda)"
  }
 },
 "nbformat": 4,
 "nbformat_minor": 2,
 "cells": [
  {
   "source": [
    "# 04. Manipulating the data\n"
   ],
   "cell_type": "markdown",
   "metadata": {}
  },
  {
   "cell_type": "code",
   "execution_count": 88,
   "metadata": {},
   "outputs": [],
   "source": [
    "import pandas as pd\n",
    "import numpy as np"
   ]
  },
  {
   "source": [
    "## 02. Concatenating"
   ],
   "cell_type": "markdown",
   "metadata": {}
  },
  {
   "cell_type": "code",
   "execution_count": 89,
   "metadata": {},
   "outputs": [
    {
     "output_type": "execute_result",
     "data": {
      "text/plain": [
       "   A  B  C\n",
       "0  x  x  x\n",
       "1  x  x  x"
      ],
      "text/html": "<div>\n<style scoped>\n    .dataframe tbody tr th:only-of-type {\n        vertical-align: middle;\n    }\n\n    .dataframe tbody tr th {\n        vertical-align: top;\n    }\n\n    .dataframe thead th {\n        text-align: right;\n    }\n</style>\n<table border=\"1\" class=\"dataframe\">\n  <thead>\n    <tr style=\"text-align: right;\">\n      <th></th>\n      <th>A</th>\n      <th>B</th>\n      <th>C</th>\n    </tr>\n  </thead>\n  <tbody>\n    <tr>\n      <th>0</th>\n      <td>x</td>\n      <td>x</td>\n      <td>x</td>\n    </tr>\n    <tr>\n      <th>1</th>\n      <td>x</td>\n      <td>x</td>\n      <td>x</td>\n    </tr>\n  </tbody>\n</table>\n</div>"
     },
     "metadata": {},
     "execution_count": 89
    }
   ],
   "source": [
    "df1 = pd.DataFrame(np.full((2,3),'x', dtype=object), columns=['A', 'B', 'C'])\n",
    "df1"
   ]
  },
  {
   "cell_type": "code",
   "execution_count": 90,
   "metadata": {},
   "outputs": [
    {
     "output_type": "execute_result",
     "data": {
      "text/plain": [
       "   A  B  C\n",
       "0  o  o  o\n",
       "1  o  o  o\n",
       "2  o  o  o"
      ],
      "text/html": "<div>\n<style scoped>\n    .dataframe tbody tr th:only-of-type {\n        vertical-align: middle;\n    }\n\n    .dataframe tbody tr th {\n        vertical-align: top;\n    }\n\n    .dataframe thead th {\n        text-align: right;\n    }\n</style>\n<table border=\"1\" class=\"dataframe\">\n  <thead>\n    <tr style=\"text-align: right;\">\n      <th></th>\n      <th>A</th>\n      <th>B</th>\n      <th>C</th>\n    </tr>\n  </thead>\n  <tbody>\n    <tr>\n      <th>0</th>\n      <td>o</td>\n      <td>o</td>\n      <td>o</td>\n    </tr>\n    <tr>\n      <th>1</th>\n      <td>o</td>\n      <td>o</td>\n      <td>o</td>\n    </tr>\n    <tr>\n      <th>2</th>\n      <td>o</td>\n      <td>o</td>\n      <td>o</td>\n    </tr>\n  </tbody>\n</table>\n</div>"
     },
     "metadata": {},
     "execution_count": 90
    }
   ],
   "source": [
    "df2 = pd.DataFrame(np.full((3,3),'o', dtype=object), columns=['A', 'B', 'C'])\n",
    "df2 "
   ]
  },
  {
   "cell_type": "code",
   "execution_count": 91,
   "metadata": {},
   "outputs": [
    {
     "output_type": "execute_result",
     "data": {
      "text/plain": [
       "   D  E\n",
       "0  v  v\n",
       "1  v  v"
      ],
      "text/html": "<div>\n<style scoped>\n    .dataframe tbody tr th:only-of-type {\n        vertical-align: middle;\n    }\n\n    .dataframe tbody tr th {\n        vertical-align: top;\n    }\n\n    .dataframe thead th {\n        text-align: right;\n    }\n</style>\n<table border=\"1\" class=\"dataframe\">\n  <thead>\n    <tr style=\"text-align: right;\">\n      <th></th>\n      <th>D</th>\n      <th>E</th>\n    </tr>\n  </thead>\n  <tbody>\n    <tr>\n      <th>0</th>\n      <td>v</td>\n      <td>v</td>\n    </tr>\n    <tr>\n      <th>1</th>\n      <td>v</td>\n      <td>v</td>\n    </tr>\n  </tbody>\n</table>\n</div>"
     },
     "metadata": {},
     "execution_count": 91
    }
   ],
   "source": [
    "df3 = pd.DataFrame(np.full((2,2),'v', dtype=object), columns=['D', 'E'])\n",
    "df3"
   ]
  },
  {
   "source": [
    "### Concatenation along axis 0"
   ],
   "cell_type": "markdown",
   "metadata": {}
  },
  {
   "cell_type": "code",
   "execution_count": 92,
   "metadata": {},
   "outputs": [
    {
     "output_type": "execute_result",
     "data": {
      "text/plain": [
       "   A  B  C\n",
       "0  x  x  x\n",
       "1  x  x  x\n",
       "0  o  o  o\n",
       "1  o  o  o\n",
       "2  o  o  o"
      ],
      "text/html": "<div>\n<style scoped>\n    .dataframe tbody tr th:only-of-type {\n        vertical-align: middle;\n    }\n\n    .dataframe tbody tr th {\n        vertical-align: top;\n    }\n\n    .dataframe thead th {\n        text-align: right;\n    }\n</style>\n<table border=\"1\" class=\"dataframe\">\n  <thead>\n    <tr style=\"text-align: right;\">\n      <th></th>\n      <th>A</th>\n      <th>B</th>\n      <th>C</th>\n    </tr>\n  </thead>\n  <tbody>\n    <tr>\n      <th>0</th>\n      <td>x</td>\n      <td>x</td>\n      <td>x</td>\n    </tr>\n    <tr>\n      <th>1</th>\n      <td>x</td>\n      <td>x</td>\n      <td>x</td>\n    </tr>\n    <tr>\n      <th>0</th>\n      <td>o</td>\n      <td>o</td>\n      <td>o</td>\n    </tr>\n    <tr>\n      <th>1</th>\n      <td>o</td>\n      <td>o</td>\n      <td>o</td>\n    </tr>\n    <tr>\n      <th>2</th>\n      <td>o</td>\n      <td>o</td>\n      <td>o</td>\n    </tr>\n  </tbody>\n</table>\n</div>"
     },
     "metadata": {},
     "execution_count": 92
    }
   ],
   "source": [
    "pd.concat([df1,df2])"
   ]
  },
  {
   "cell_type": "code",
   "execution_count": 93,
   "metadata": {},
   "outputs": [
    {
     "output_type": "execute_result",
     "data": {
      "text/plain": [
       "   A  B  C\n",
       "0  x  x  x\n",
       "1  x  x  x\n",
       "2  o  o  o\n",
       "3  o  o  o\n",
       "4  o  o  o"
      ],
      "text/html": "<div>\n<style scoped>\n    .dataframe tbody tr th:only-of-type {\n        vertical-align: middle;\n    }\n\n    .dataframe tbody tr th {\n        vertical-align: top;\n    }\n\n    .dataframe thead th {\n        text-align: right;\n    }\n</style>\n<table border=\"1\" class=\"dataframe\">\n  <thead>\n    <tr style=\"text-align: right;\">\n      <th></th>\n      <th>A</th>\n      <th>B</th>\n      <th>C</th>\n    </tr>\n  </thead>\n  <tbody>\n    <tr>\n      <th>0</th>\n      <td>x</td>\n      <td>x</td>\n      <td>x</td>\n    </tr>\n    <tr>\n      <th>1</th>\n      <td>x</td>\n      <td>x</td>\n      <td>x</td>\n    </tr>\n    <tr>\n      <th>2</th>\n      <td>o</td>\n      <td>o</td>\n      <td>o</td>\n    </tr>\n    <tr>\n      <th>3</th>\n      <td>o</td>\n      <td>o</td>\n      <td>o</td>\n    </tr>\n    <tr>\n      <th>4</th>\n      <td>o</td>\n      <td>o</td>\n      <td>o</td>\n    </tr>\n  </tbody>\n</table>\n</div>"
     },
     "metadata": {},
     "execution_count": 93
    }
   ],
   "source": [
    "# reset index\n",
    "pd.concat([df1,df2]).reset_index(drop=True)"
   ]
  },
  {
   "cell_type": "code",
   "execution_count": 94,
   "metadata": {},
   "outputs": [
    {
     "output_type": "stream",
     "name": "stderr",
     "text": [
      "C:\\Users\\valen\\anaconda3\\envs\\exts-ml\\lib\\site-packages\\ipykernel_launcher.py:1: FutureWarning: Sorting because non-concatenation axis is not aligned. A future version\nof pandas will change to not sort by default.\n\nTo accept the future behavior, pass 'sort=False'.\n\nTo retain the current behavior and silence the warning, pass 'sort=True'.\n\n  \"\"\"Entry point for launching an IPython kernel.\n"
     ]
    },
    {
     "output_type": "execute_result",
     "data": {
      "text/plain": [
       "     A    B    C    D    E\n",
       "0    x    x    x  NaN  NaN\n",
       "1    x    x    x  NaN  NaN\n",
       "0  NaN  NaN  NaN    v    v\n",
       "1  NaN  NaN  NaN    v    v"
      ],
      "text/html": "<div>\n<style scoped>\n    .dataframe tbody tr th:only-of-type {\n        vertical-align: middle;\n    }\n\n    .dataframe tbody tr th {\n        vertical-align: top;\n    }\n\n    .dataframe thead th {\n        text-align: right;\n    }\n</style>\n<table border=\"1\" class=\"dataframe\">\n  <thead>\n    <tr style=\"text-align: right;\">\n      <th></th>\n      <th>A</th>\n      <th>B</th>\n      <th>C</th>\n      <th>D</th>\n      <th>E</th>\n    </tr>\n  </thead>\n  <tbody>\n    <tr>\n      <th>0</th>\n      <td>x</td>\n      <td>x</td>\n      <td>x</td>\n      <td>NaN</td>\n      <td>NaN</td>\n    </tr>\n    <tr>\n      <th>1</th>\n      <td>x</td>\n      <td>x</td>\n      <td>x</td>\n      <td>NaN</td>\n      <td>NaN</td>\n    </tr>\n    <tr>\n      <th>0</th>\n      <td>NaN</td>\n      <td>NaN</td>\n      <td>NaN</td>\n      <td>v</td>\n      <td>v</td>\n    </tr>\n    <tr>\n      <th>1</th>\n      <td>NaN</td>\n      <td>NaN</td>\n      <td>NaN</td>\n      <td>v</td>\n      <td>v</td>\n    </tr>\n  </tbody>\n</table>\n</div>"
     },
     "metadata": {},
     "execution_count": 94
    }
   ],
   "source": [
    "pd.concat([df1,df3])"
   ]
  },
  {
   "source": [
    "### The keys parameter"
   ],
   "cell_type": "markdown",
   "metadata": {}
  },
  {
   "cell_type": "code",
   "execution_count": 95,
   "metadata": {},
   "outputs": [
    {
     "output_type": "execute_result",
     "data": {
      "text/plain": [
       "       A  B  C\n",
       "df1 0  x  x  x\n",
       "    1  x  x  x\n",
       "df2 0  o  o  o\n",
       "    1  o  o  o\n",
       "    2  o  o  o"
      ],
      "text/html": "<div>\n<style scoped>\n    .dataframe tbody tr th:only-of-type {\n        vertical-align: middle;\n    }\n\n    .dataframe tbody tr th {\n        vertical-align: top;\n    }\n\n    .dataframe thead th {\n        text-align: right;\n    }\n</style>\n<table border=\"1\" class=\"dataframe\">\n  <thead>\n    <tr style=\"text-align: right;\">\n      <th></th>\n      <th></th>\n      <th>A</th>\n      <th>B</th>\n      <th>C</th>\n    </tr>\n  </thead>\n  <tbody>\n    <tr>\n      <th rowspan=\"2\" valign=\"top\">df1</th>\n      <th>0</th>\n      <td>x</td>\n      <td>x</td>\n      <td>x</td>\n    </tr>\n    <tr>\n      <th>1</th>\n      <td>x</td>\n      <td>x</td>\n      <td>x</td>\n    </tr>\n    <tr>\n      <th rowspan=\"3\" valign=\"top\">df2</th>\n      <th>0</th>\n      <td>o</td>\n      <td>o</td>\n      <td>o</td>\n    </tr>\n    <tr>\n      <th>1</th>\n      <td>o</td>\n      <td>o</td>\n      <td>o</td>\n    </tr>\n    <tr>\n      <th>2</th>\n      <td>o</td>\n      <td>o</td>\n      <td>o</td>\n    </tr>\n  </tbody>\n</table>\n</div>"
     },
     "metadata": {},
     "execution_count": 95
    }
   ],
   "source": [
    "df4 = pd.concat([df1,df2], keys=['df1', 'df2'])\n",
    "df4"
   ]
  },
  {
   "cell_type": "code",
   "execution_count": 96,
   "metadata": {},
   "outputs": [
    {
     "output_type": "execute_result",
     "data": {
      "text/plain": [
       "   A  B  C\n",
       "0  o  o  o\n",
       "1  o  o  o\n",
       "2  o  o  o"
      ],
      "text/html": "<div>\n<style scoped>\n    .dataframe tbody tr th:only-of-type {\n        vertical-align: middle;\n    }\n\n    .dataframe tbody tr th {\n        vertical-align: top;\n    }\n\n    .dataframe thead th {\n        text-align: right;\n    }\n</style>\n<table border=\"1\" class=\"dataframe\">\n  <thead>\n    <tr style=\"text-align: right;\">\n      <th></th>\n      <th>A</th>\n      <th>B</th>\n      <th>C</th>\n    </tr>\n  </thead>\n  <tbody>\n    <tr>\n      <th>0</th>\n      <td>o</td>\n      <td>o</td>\n      <td>o</td>\n    </tr>\n    <tr>\n      <th>1</th>\n      <td>o</td>\n      <td>o</td>\n      <td>o</td>\n    </tr>\n    <tr>\n      <th>2</th>\n      <td>o</td>\n      <td>o</td>\n      <td>o</td>\n    </tr>\n  </tbody>\n</table>\n</div>"
     },
     "metadata": {},
     "execution_count": 96
    }
   ],
   "source": [
    "df4.loc['df2',:]"
   ]
  },
  {
   "source": [
    "### Concatenating along axis 1"
   ],
   "cell_type": "markdown",
   "metadata": {}
  },
  {
   "cell_type": "code",
   "execution_count": 97,
   "metadata": {},
   "outputs": [
    {
     "output_type": "execute_result",
     "data": {
      "text/plain": [
       "   A  B  C  D  E\n",
       "0  x  x  x  v  v\n",
       "1  x  x  x  v  v"
      ],
      "text/html": "<div>\n<style scoped>\n    .dataframe tbody tr th:only-of-type {\n        vertical-align: middle;\n    }\n\n    .dataframe tbody tr th {\n        vertical-align: top;\n    }\n\n    .dataframe thead th {\n        text-align: right;\n    }\n</style>\n<table border=\"1\" class=\"dataframe\">\n  <thead>\n    <tr style=\"text-align: right;\">\n      <th></th>\n      <th>A</th>\n      <th>B</th>\n      <th>C</th>\n      <th>D</th>\n      <th>E</th>\n    </tr>\n  </thead>\n  <tbody>\n    <tr>\n      <th>0</th>\n      <td>x</td>\n      <td>x</td>\n      <td>x</td>\n      <td>v</td>\n      <td>v</td>\n    </tr>\n    <tr>\n      <th>1</th>\n      <td>x</td>\n      <td>x</td>\n      <td>x</td>\n      <td>v</td>\n      <td>v</td>\n    </tr>\n  </tbody>\n</table>\n</div>"
     },
     "metadata": {},
     "execution_count": 97
    }
   ],
   "source": [
    "pd.concat([df1, df3], axis=1)"
   ]
  },
  {
   "cell_type": "code",
   "execution_count": 98,
   "metadata": {},
   "outputs": [
    {
     "output_type": "execute_result",
     "data": {
      "text/plain": [
       "     A    B    C  A  B  C\n",
       "0    x    x    x  o  o  o\n",
       "1    x    x    x  o  o  o\n",
       "2  NaN  NaN  NaN  o  o  o"
      ],
      "text/html": "<div>\n<style scoped>\n    .dataframe tbody tr th:only-of-type {\n        vertical-align: middle;\n    }\n\n    .dataframe tbody tr th {\n        vertical-align: top;\n    }\n\n    .dataframe thead th {\n        text-align: right;\n    }\n</style>\n<table border=\"1\" class=\"dataframe\">\n  <thead>\n    <tr style=\"text-align: right;\">\n      <th></th>\n      <th>A</th>\n      <th>B</th>\n      <th>C</th>\n      <th>A</th>\n      <th>B</th>\n      <th>C</th>\n    </tr>\n  </thead>\n  <tbody>\n    <tr>\n      <th>0</th>\n      <td>x</td>\n      <td>x</td>\n      <td>x</td>\n      <td>o</td>\n      <td>o</td>\n      <td>o</td>\n    </tr>\n    <tr>\n      <th>1</th>\n      <td>x</td>\n      <td>x</td>\n      <td>x</td>\n      <td>o</td>\n      <td>o</td>\n      <td>o</td>\n    </tr>\n    <tr>\n      <th>2</th>\n      <td>NaN</td>\n      <td>NaN</td>\n      <td>NaN</td>\n      <td>o</td>\n      <td>o</td>\n      <td>o</td>\n    </tr>\n  </tbody>\n</table>\n</div>"
     },
     "metadata": {},
     "execution_count": 98
    }
   ],
   "source": [
    "pd.concat([df1,df2], axis=1)"
   ]
  },
  {
   "source": [
    "### The join parameter"
   ],
   "cell_type": "markdown",
   "metadata": {}
  },
  {
   "cell_type": "code",
   "execution_count": 99,
   "metadata": {},
   "outputs": [
    {
     "output_type": "execute_result",
     "data": {
      "text/plain": [
       "   A  B  C  A  B  C\n",
       "0  x  x  x  o  o  o\n",
       "1  x  x  x  o  o  o"
      ],
      "text/html": "<div>\n<style scoped>\n    .dataframe tbody tr th:only-of-type {\n        vertical-align: middle;\n    }\n\n    .dataframe tbody tr th {\n        vertical-align: top;\n    }\n\n    .dataframe thead th {\n        text-align: right;\n    }\n</style>\n<table border=\"1\" class=\"dataframe\">\n  <thead>\n    <tr style=\"text-align: right;\">\n      <th></th>\n      <th>A</th>\n      <th>B</th>\n      <th>C</th>\n      <th>A</th>\n      <th>B</th>\n      <th>C</th>\n    </tr>\n  </thead>\n  <tbody>\n    <tr>\n      <th>0</th>\n      <td>x</td>\n      <td>x</td>\n      <td>x</td>\n      <td>o</td>\n      <td>o</td>\n      <td>o</td>\n    </tr>\n    <tr>\n      <th>1</th>\n      <td>x</td>\n      <td>x</td>\n      <td>x</td>\n      <td>o</td>\n      <td>o</td>\n      <td>o</td>\n    </tr>\n  </tbody>\n</table>\n</div>"
     },
     "metadata": {},
     "execution_count": 99
    }
   ],
   "source": [
    "pd.concat([df1,df2], axis=1, join='inner')"
   ]
  },
  {
   "cell_type": "code",
   "execution_count": 100,
   "metadata": {},
   "outputs": [
    {
     "output_type": "execute_result",
     "data": {
      "text/plain": [
       "Empty DataFrame\n",
       "Columns: []\n",
       "Index: [0, 1, 0, 1]"
      ],
      "text/html": "<div>\n<style scoped>\n    .dataframe tbody tr th:only-of-type {\n        vertical-align: middle;\n    }\n\n    .dataframe tbody tr th {\n        vertical-align: top;\n    }\n\n    .dataframe thead th {\n        text-align: right;\n    }\n</style>\n<table border=\"1\" class=\"dataframe\">\n  <thead>\n    <tr style=\"text-align: right;\">\n      <th></th>\n    </tr>\n  </thead>\n  <tbody>\n    <tr>\n      <th>0</th>\n    </tr>\n    <tr>\n      <th>1</th>\n    </tr>\n    <tr>\n      <th>0</th>\n    </tr>\n    <tr>\n      <th>1</th>\n    </tr>\n  </tbody>\n</table>\n</div>"
     },
     "metadata": {},
     "execution_count": 100
    }
   ],
   "source": [
    "pd.concat([df1,df3], join='inner')"
   ]
  },
  {
   "source": [
    "##  03. Merging and joining"
   ],
   "cell_type": "markdown",
   "metadata": {}
  },
  {
   "source": [
    "### Merging on a single column"
   ],
   "cell_type": "markdown",
   "metadata": {}
  },
  {
   "cell_type": "code",
   "execution_count": 101,
   "metadata": {},
   "outputs": [
    {
     "output_type": "execute_result",
     "data": {
      "text/plain": [
       "   userID   First Name Last Name\n",
       "0    5672  Christopher      Boyd\n",
       "1    3452      Johnnie   Baldwin\n",
       "2    2878       Debbie   Alvarez\n",
       "3    3234         Teri      Gill"
      ],
      "text/html": "<div>\n<style scoped>\n    .dataframe tbody tr th:only-of-type {\n        vertical-align: middle;\n    }\n\n    .dataframe tbody tr th {\n        vertical-align: top;\n    }\n\n    .dataframe thead th {\n        text-align: right;\n    }\n</style>\n<table border=\"1\" class=\"dataframe\">\n  <thead>\n    <tr style=\"text-align: right;\">\n      <th></th>\n      <th>userID</th>\n      <th>First Name</th>\n      <th>Last Name</th>\n    </tr>\n  </thead>\n  <tbody>\n    <tr>\n      <th>0</th>\n      <td>5672</td>\n      <td>Christopher</td>\n      <td>Boyd</td>\n    </tr>\n    <tr>\n      <th>1</th>\n      <td>3452</td>\n      <td>Johnnie</td>\n      <td>Baldwin</td>\n    </tr>\n    <tr>\n      <th>2</th>\n      <td>2878</td>\n      <td>Debbie</td>\n      <td>Alvarez</td>\n    </tr>\n    <tr>\n      <th>3</th>\n      <td>3234</td>\n      <td>Teri</td>\n      <td>Gill</td>\n    </tr>\n  </tbody>\n</table>\n</div>"
     },
     "metadata": {},
     "execution_count": 101
    }
   ],
   "source": [
    "users = pd.DataFrame( {'userID': [5672, 3452, 2878, 3234],\n",
    "                'First Name': ['Christopher', 'Johnnie', 'Debbie', 'Teri'],\n",
    "                'Last Name': ['Boyd','Baldwin', 'Alvarez', 'Gill']})\n",
    "users"
   ]
  },
  {
   "cell_type": "code",
   "execution_count": 102,
   "metadata": {},
   "outputs": [
    {
     "output_type": "execute_result",
     "data": {
      "text/plain": [
       "   userID  Score\n",
       "0    2878     84\n",
       "1    5672     56\n",
       "2    3234     72\n",
       "3    5672     77\n",
       "4    2878     88"
      ],
      "text/html": "<div>\n<style scoped>\n    .dataframe tbody tr th:only-of-type {\n        vertical-align: middle;\n    }\n\n    .dataframe tbody tr th {\n        vertical-align: top;\n    }\n\n    .dataframe thead th {\n        text-align: right;\n    }\n</style>\n<table border=\"1\" class=\"dataframe\">\n  <thead>\n    <tr style=\"text-align: right;\">\n      <th></th>\n      <th>userID</th>\n      <th>Score</th>\n    </tr>\n  </thead>\n  <tbody>\n    <tr>\n      <th>0</th>\n      <td>2878</td>\n      <td>84</td>\n    </tr>\n    <tr>\n      <th>1</th>\n      <td>5672</td>\n      <td>56</td>\n    </tr>\n    <tr>\n      <th>2</th>\n      <td>3234</td>\n      <td>72</td>\n    </tr>\n    <tr>\n      <th>3</th>\n      <td>5672</td>\n      <td>77</td>\n    </tr>\n    <tr>\n      <th>4</th>\n      <td>2878</td>\n      <td>88</td>\n    </tr>\n  </tbody>\n</table>\n</div>"
     },
     "metadata": {},
     "execution_count": 102
    }
   ],
   "source": [
    "scores = pd.DataFrame( {'userID': [2878, 5672, 3234, 5672, 2878],\n",
    "                'Score': [84,56,72,77,88]})\n",
    "scores\n"
   ]
  },
  {
   "cell_type": "code",
   "execution_count": 103,
   "metadata": {},
   "outputs": [
    {
     "output_type": "execute_result",
     "data": {
      "text/plain": [
       "   userID   First Name Last Name  Score\n",
       "0    5672  Christopher      Boyd     56\n",
       "1    5672  Christopher      Boyd     77\n",
       "2    2878       Debbie   Alvarez     84\n",
       "3    2878       Debbie   Alvarez     88\n",
       "4    3234         Teri      Gill     72"
      ],
      "text/html": "<div>\n<style scoped>\n    .dataframe tbody tr th:only-of-type {\n        vertical-align: middle;\n    }\n\n    .dataframe tbody tr th {\n        vertical-align: top;\n    }\n\n    .dataframe thead th {\n        text-align: right;\n    }\n</style>\n<table border=\"1\" class=\"dataframe\">\n  <thead>\n    <tr style=\"text-align: right;\">\n      <th></th>\n      <th>userID</th>\n      <th>First Name</th>\n      <th>Last Name</th>\n      <th>Score</th>\n    </tr>\n  </thead>\n  <tbody>\n    <tr>\n      <th>0</th>\n      <td>5672</td>\n      <td>Christopher</td>\n      <td>Boyd</td>\n      <td>56</td>\n    </tr>\n    <tr>\n      <th>1</th>\n      <td>5672</td>\n      <td>Christopher</td>\n      <td>Boyd</td>\n      <td>77</td>\n    </tr>\n    <tr>\n      <th>2</th>\n      <td>2878</td>\n      <td>Debbie</td>\n      <td>Alvarez</td>\n      <td>84</td>\n    </tr>\n    <tr>\n      <th>3</th>\n      <td>2878</td>\n      <td>Debbie</td>\n      <td>Alvarez</td>\n      <td>88</td>\n    </tr>\n    <tr>\n      <th>4</th>\n      <td>3234</td>\n      <td>Teri</td>\n      <td>Gill</td>\n      <td>72</td>\n    </tr>\n  </tbody>\n</table>\n</div>"
     },
     "metadata": {},
     "execution_count": 103
    }
   ],
   "source": [
    "merged_df = pd.merge(users, scores) \n",
    "merged_df"
   ]
  },
  {
   "cell_type": "code",
   "execution_count": 104,
   "metadata": {},
   "outputs": [],
   "source": [
    "scores2 = pd.DataFrame( {'studentID': [2878, 5672, 3234, 5672, 2878],\n",
    "                'Score': [84,56,72,77,88]})"
   ]
  },
  {
   "cell_type": "code",
   "execution_count": 105,
   "metadata": {},
   "outputs": [
    {
     "output_type": "execute_result",
     "data": {
      "text/plain": [
       "   userID   First Name Last Name  studentID  Score\n",
       "0    5672  Christopher      Boyd       5672     56\n",
       "1    5672  Christopher      Boyd       5672     77\n",
       "2    2878       Debbie   Alvarez       2878     84\n",
       "3    2878       Debbie   Alvarez       2878     88\n",
       "4    3234         Teri      Gill       3234     72"
      ],
      "text/html": "<div>\n<style scoped>\n    .dataframe tbody tr th:only-of-type {\n        vertical-align: middle;\n    }\n\n    .dataframe tbody tr th {\n        vertical-align: top;\n    }\n\n    .dataframe thead th {\n        text-align: right;\n    }\n</style>\n<table border=\"1\" class=\"dataframe\">\n  <thead>\n    <tr style=\"text-align: right;\">\n      <th></th>\n      <th>userID</th>\n      <th>First Name</th>\n      <th>Last Name</th>\n      <th>studentID</th>\n      <th>Score</th>\n    </tr>\n  </thead>\n  <tbody>\n    <tr>\n      <th>0</th>\n      <td>5672</td>\n      <td>Christopher</td>\n      <td>Boyd</td>\n      <td>5672</td>\n      <td>56</td>\n    </tr>\n    <tr>\n      <th>1</th>\n      <td>5672</td>\n      <td>Christopher</td>\n      <td>Boyd</td>\n      <td>5672</td>\n      <td>77</td>\n    </tr>\n    <tr>\n      <th>2</th>\n      <td>2878</td>\n      <td>Debbie</td>\n      <td>Alvarez</td>\n      <td>2878</td>\n      <td>84</td>\n    </tr>\n    <tr>\n      <th>3</th>\n      <td>2878</td>\n      <td>Debbie</td>\n      <td>Alvarez</td>\n      <td>2878</td>\n      <td>88</td>\n    </tr>\n    <tr>\n      <th>4</th>\n      <td>3234</td>\n      <td>Teri</td>\n      <td>Gill</td>\n      <td>3234</td>\n      <td>72</td>\n    </tr>\n  </tbody>\n</table>\n</div>"
     },
     "metadata": {},
     "execution_count": 105
    }
   ],
   "source": [
    "pd.merge(users, scores2, left_on='userID', right_on='studentID')"
   ]
  },
  {
   "cell_type": "code",
   "execution_count": 106,
   "metadata": {},
   "outputs": [
    {
     "output_type": "execute_result",
     "data": {
      "text/plain": [
       "   userID   First Name Last Name  studentID  Score\n",
       "0    5672  Christopher      Boyd       5672     56\n",
       "1    5672  Christopher      Boyd       5672     77\n",
       "2    2878       Debbie   Alvarez       2878     84\n",
       "3    2878       Debbie   Alvarez       2878     88\n",
       "4    3234         Teri      Gill       3234     72"
      ],
      "text/html": "<div>\n<style scoped>\n    .dataframe tbody tr th:only-of-type {\n        vertical-align: middle;\n    }\n\n    .dataframe tbody tr th {\n        vertical-align: top;\n    }\n\n    .dataframe thead th {\n        text-align: right;\n    }\n</style>\n<table border=\"1\" class=\"dataframe\">\n  <thead>\n    <tr style=\"text-align: right;\">\n      <th></th>\n      <th>userID</th>\n      <th>First Name</th>\n      <th>Last Name</th>\n      <th>studentID</th>\n      <th>Score</th>\n    </tr>\n  </thead>\n  <tbody>\n    <tr>\n      <th>0</th>\n      <td>5672</td>\n      <td>Christopher</td>\n      <td>Boyd</td>\n      <td>5672</td>\n      <td>56</td>\n    </tr>\n    <tr>\n      <th>1</th>\n      <td>5672</td>\n      <td>Christopher</td>\n      <td>Boyd</td>\n      <td>5672</td>\n      <td>77</td>\n    </tr>\n    <tr>\n      <th>2</th>\n      <td>2878</td>\n      <td>Debbie</td>\n      <td>Alvarez</td>\n      <td>2878</td>\n      <td>84</td>\n    </tr>\n    <tr>\n      <th>3</th>\n      <td>2878</td>\n      <td>Debbie</td>\n      <td>Alvarez</td>\n      <td>2878</td>\n      <td>88</td>\n    </tr>\n    <tr>\n      <th>4</th>\n      <td>3234</td>\n      <td>Teri</td>\n      <td>Gill</td>\n      <td>3234</td>\n      <td>72</td>\n    </tr>\n  </tbody>\n</table>\n</div>"
     },
     "metadata": {},
     "execution_count": 106
    }
   ],
   "source": [
    "pd.merge(users, scores2, left_on='userID', right_on='studentID')"
   ]
  },
  {
   "source": [
    "### Merging on multiple columns"
   ],
   "cell_type": "markdown",
   "metadata": {}
  },
  {
   "cell_type": "code",
   "execution_count": 107,
   "metadata": {},
   "outputs": [
    {
     "output_type": "execute_result",
     "data": {
      "text/plain": [
       "  Code        Country  Total\n",
       "0  CAN         Canada     14\n",
       "1  GER        Germany     10\n",
       "2  USA  United States      9\n",
       "3  NOR         Norway      9"
      ],
      "text/html": "<div>\n<style scoped>\n    .dataframe tbody tr th:only-of-type {\n        vertical-align: middle;\n    }\n\n    .dataframe tbody tr th {\n        vertical-align: top;\n    }\n\n    .dataframe thead th {\n        text-align: right;\n    }\n</style>\n<table border=\"1\" class=\"dataframe\">\n  <thead>\n    <tr style=\"text-align: right;\">\n      <th></th>\n      <th>Code</th>\n      <th>Country</th>\n      <th>Total</th>\n    </tr>\n  </thead>\n  <tbody>\n    <tr>\n      <th>0</th>\n      <td>CAN</td>\n      <td>Canada</td>\n      <td>14</td>\n    </tr>\n    <tr>\n      <th>1</th>\n      <td>GER</td>\n      <td>Germany</td>\n      <td>10</td>\n    </tr>\n    <tr>\n      <th>2</th>\n      <td>USA</td>\n      <td>United States</td>\n      <td>9</td>\n    </tr>\n    <tr>\n      <th>3</th>\n      <td>NOR</td>\n      <td>Norway</td>\n      <td>9</td>\n    </tr>\n  </tbody>\n</table>\n</div>"
     },
     "metadata": {},
     "execution_count": 107
    }
   ],
   "source": [
    "gold = pd.DataFrame({'Code': ['CAN', 'GER', 'USA', 'NOR'],\n",
    "               'Country': ['Canada', 'Germany', 'United States', 'Norway'],\n",
    "               'Total': [ 14, 10, 9, 9]})\n",
    "gold"
   ]
  },
  {
   "cell_type": "code",
   "execution_count": 108,
   "metadata": {},
   "outputs": [
    {
     "output_type": "execute_result",
     "data": {
      "text/plain": [
       "  Code        Country  Total\n",
       "0  USA  United States     13\n",
       "1  GER        Germany      7\n",
       "2  NOR         Norway      7\n",
       "3  AUS        Austria      6"
      ],
      "text/html": "<div>\n<style scoped>\n    .dataframe tbody tr th:only-of-type {\n        vertical-align: middle;\n    }\n\n    .dataframe tbody tr th {\n        vertical-align: top;\n    }\n\n    .dataframe thead th {\n        text-align: right;\n    }\n</style>\n<table border=\"1\" class=\"dataframe\">\n  <thead>\n    <tr style=\"text-align: right;\">\n      <th></th>\n      <th>Code</th>\n      <th>Country</th>\n      <th>Total</th>\n    </tr>\n  </thead>\n  <tbody>\n    <tr>\n      <th>0</th>\n      <td>USA</td>\n      <td>United States</td>\n      <td>13</td>\n    </tr>\n    <tr>\n      <th>1</th>\n      <td>GER</td>\n      <td>Germany</td>\n      <td>7</td>\n    </tr>\n    <tr>\n      <th>2</th>\n      <td>NOR</td>\n      <td>Norway</td>\n      <td>7</td>\n    </tr>\n    <tr>\n      <th>3</th>\n      <td>AUS</td>\n      <td>Austria</td>\n      <td>6</td>\n    </tr>\n  </tbody>\n</table>\n</div>"
     },
     "metadata": {},
     "execution_count": 108
    }
   ],
   "source": [
    "bronze= pd.DataFrame({'Code': ['USA','GER', 'NOR', 'AUS'],\n",
    "               'Country': ['United States', 'Germany', 'Norway', 'Austria'],\n",
    "               'Total': [ 13, 7, 7, 6]})\n",
    "bronze"
   ]
  },
  {
   "cell_type": "code",
   "execution_count": 109,
   "metadata": {},
   "outputs": [
    {
     "output_type": "execute_result",
     "data": {
      "text/plain": [
       "Empty DataFrame\n",
       "Columns: [Code, Country, Total]\n",
       "Index: []"
      ],
      "text/html": "<div>\n<style scoped>\n    .dataframe tbody tr th:only-of-type {\n        vertical-align: middle;\n    }\n\n    .dataframe tbody tr th {\n        vertical-align: top;\n    }\n\n    .dataframe thead th {\n        text-align: right;\n    }\n</style>\n<table border=\"1\" class=\"dataframe\">\n  <thead>\n    <tr style=\"text-align: right;\">\n      <th></th>\n      <th>Code</th>\n      <th>Country</th>\n      <th>Total</th>\n    </tr>\n  </thead>\n  <tbody>\n  </tbody>\n</table>\n</div>"
     },
     "metadata": {},
     "execution_count": 109
    }
   ],
   "source": [
    "pd.merge(gold,bronze)"
   ]
  },
  {
   "cell_type": "code",
   "execution_count": 110,
   "metadata": {},
   "outputs": [
    {
     "output_type": "execute_result",
     "data": {
      "text/plain": [
       "  Code        Country  Total_gold  Total_bronze\n",
       "0  GER        Germany          10             7\n",
       "1  USA  United States           9            13\n",
       "2  NOR         Norway           9             7"
      ],
      "text/html": "<div>\n<style scoped>\n    .dataframe tbody tr th:only-of-type {\n        vertical-align: middle;\n    }\n\n    .dataframe tbody tr th {\n        vertical-align: top;\n    }\n\n    .dataframe thead th {\n        text-align: right;\n    }\n</style>\n<table border=\"1\" class=\"dataframe\">\n  <thead>\n    <tr style=\"text-align: right;\">\n      <th></th>\n      <th>Code</th>\n      <th>Country</th>\n      <th>Total_gold</th>\n      <th>Total_bronze</th>\n    </tr>\n  </thead>\n  <tbody>\n    <tr>\n      <th>0</th>\n      <td>GER</td>\n      <td>Germany</td>\n      <td>10</td>\n      <td>7</td>\n    </tr>\n    <tr>\n      <th>1</th>\n      <td>USA</td>\n      <td>United States</td>\n      <td>9</td>\n      <td>13</td>\n    </tr>\n    <tr>\n      <th>2</th>\n      <td>NOR</td>\n      <td>Norway</td>\n      <td>9</td>\n      <td>7</td>\n    </tr>\n  </tbody>\n</table>\n</div>"
     },
     "metadata": {},
     "execution_count": 110
    }
   ],
   "source": [
    "pd.merge(gold, bronze, on=['Code', 'Country'], suffixes=['_gold', '_bronze'])"
   ]
  },
  {
   "source": [
    "### Different types of joins"
   ],
   "cell_type": "markdown",
   "metadata": {}
  },
  {
   "cell_type": "code",
   "execution_count": 111,
   "metadata": {},
   "outputs": [
    {
     "output_type": "execute_result",
     "data": {
      "text/plain": [
       "  Code        Country  Total_gold  Total_bronze\n",
       "0  CAN         Canada        14.0           NaN\n",
       "1  GER        Germany        10.0           7.0\n",
       "2  USA  United States         9.0          13.0\n",
       "3  NOR         Norway         9.0           7.0\n",
       "4  AUS        Austria         NaN           6.0"
      ],
      "text/html": "<div>\n<style scoped>\n    .dataframe tbody tr th:only-of-type {\n        vertical-align: middle;\n    }\n\n    .dataframe tbody tr th {\n        vertical-align: top;\n    }\n\n    .dataframe thead th {\n        text-align: right;\n    }\n</style>\n<table border=\"1\" class=\"dataframe\">\n  <thead>\n    <tr style=\"text-align: right;\">\n      <th></th>\n      <th>Code</th>\n      <th>Country</th>\n      <th>Total_gold</th>\n      <th>Total_bronze</th>\n    </tr>\n  </thead>\n  <tbody>\n    <tr>\n      <th>0</th>\n      <td>CAN</td>\n      <td>Canada</td>\n      <td>14.0</td>\n      <td>NaN</td>\n    </tr>\n    <tr>\n      <th>1</th>\n      <td>GER</td>\n      <td>Germany</td>\n      <td>10.0</td>\n      <td>7.0</td>\n    </tr>\n    <tr>\n      <th>2</th>\n      <td>USA</td>\n      <td>United States</td>\n      <td>9.0</td>\n      <td>13.0</td>\n    </tr>\n    <tr>\n      <th>3</th>\n      <td>NOR</td>\n      <td>Norway</td>\n      <td>9.0</td>\n      <td>7.0</td>\n    </tr>\n    <tr>\n      <th>4</th>\n      <td>AUS</td>\n      <td>Austria</td>\n      <td>NaN</td>\n      <td>6.0</td>\n    </tr>\n  </tbody>\n</table>\n</div>"
     },
     "metadata": {},
     "execution_count": 111
    }
   ],
   "source": [
    "pd.merge(gold, bronze, on=['Code', 'Country'], suffixes=['_gold', '_bronze'], how='outer')"
   ]
  },
  {
   "cell_type": "code",
   "execution_count": 112,
   "metadata": {},
   "outputs": [
    {
     "output_type": "execute_result",
     "data": {
      "text/plain": [
       "  Code        Country  Total_gold  Total_bronze\n",
       "0  CAN         Canada          14           NaN\n",
       "1  GER        Germany          10           7.0\n",
       "2  USA  United States           9          13.0\n",
       "3  NOR         Norway           9           7.0"
      ],
      "text/html": "<div>\n<style scoped>\n    .dataframe tbody tr th:only-of-type {\n        vertical-align: middle;\n    }\n\n    .dataframe tbody tr th {\n        vertical-align: top;\n    }\n\n    .dataframe thead th {\n        text-align: right;\n    }\n</style>\n<table border=\"1\" class=\"dataframe\">\n  <thead>\n    <tr style=\"text-align: right;\">\n      <th></th>\n      <th>Code</th>\n      <th>Country</th>\n      <th>Total_gold</th>\n      <th>Total_bronze</th>\n    </tr>\n  </thead>\n  <tbody>\n    <tr>\n      <th>0</th>\n      <td>CAN</td>\n      <td>Canada</td>\n      <td>14</td>\n      <td>NaN</td>\n    </tr>\n    <tr>\n      <th>1</th>\n      <td>GER</td>\n      <td>Germany</td>\n      <td>10</td>\n      <td>7.0</td>\n    </tr>\n    <tr>\n      <th>2</th>\n      <td>USA</td>\n      <td>United States</td>\n      <td>9</td>\n      <td>13.0</td>\n    </tr>\n    <tr>\n      <th>3</th>\n      <td>NOR</td>\n      <td>Norway</td>\n      <td>9</td>\n      <td>7.0</td>\n    </tr>\n  </tbody>\n</table>\n</div>"
     },
     "metadata": {},
     "execution_count": 112
    }
   ],
   "source": [
    "pd.merge(gold, bronze, on=['Code', 'Country'], suffixes=['_gold', '_bronze'], how='left')"
   ]
  },
  {
   "cell_type": "code",
   "execution_count": 113,
   "metadata": {},
   "outputs": [
    {
     "output_type": "execute_result",
     "data": {
      "text/plain": [
       "  Code        Country  Total_gold  Total_bronze\n",
       "0  GER        Germany        10.0             7\n",
       "1  USA  United States         9.0            13\n",
       "2  NOR         Norway         9.0             7\n",
       "3  AUS        Austria         NaN             6"
      ],
      "text/html": "<div>\n<style scoped>\n    .dataframe tbody tr th:only-of-type {\n        vertical-align: middle;\n    }\n\n    .dataframe tbody tr th {\n        vertical-align: top;\n    }\n\n    .dataframe thead th {\n        text-align: right;\n    }\n</style>\n<table border=\"1\" class=\"dataframe\">\n  <thead>\n    <tr style=\"text-align: right;\">\n      <th></th>\n      <th>Code</th>\n      <th>Country</th>\n      <th>Total_gold</th>\n      <th>Total_bronze</th>\n    </tr>\n  </thead>\n  <tbody>\n    <tr>\n      <th>0</th>\n      <td>GER</td>\n      <td>Germany</td>\n      <td>10.0</td>\n      <td>7</td>\n    </tr>\n    <tr>\n      <th>1</th>\n      <td>USA</td>\n      <td>United States</td>\n      <td>9.0</td>\n      <td>13</td>\n    </tr>\n    <tr>\n      <th>2</th>\n      <td>NOR</td>\n      <td>Norway</td>\n      <td>9.0</td>\n      <td>7</td>\n    </tr>\n    <tr>\n      <th>3</th>\n      <td>AUS</td>\n      <td>Austria</td>\n      <td>NaN</td>\n      <td>6</td>\n    </tr>\n  </tbody>\n</table>\n</div>"
     },
     "metadata": {},
     "execution_count": 113
    }
   ],
   "source": [
    "pd.merge(gold, bronze, on=['Code', 'Country'], suffixes=['_gold', '_bronze'], how='right')"
   ]
  },
  {
   "cell_type": "code",
   "execution_count": 114,
   "metadata": {},
   "outputs": [
    {
     "output_type": "execute_result",
     "data": {
      "text/plain": [
       "   key  val2\n",
       "0    1     1\n",
       "1    2     2\n",
       "2    3     3\n",
       "3    5     4"
      ],
      "text/html": "<div>\n<style scoped>\n    .dataframe tbody tr th:only-of-type {\n        vertical-align: middle;\n    }\n\n    .dataframe tbody tr th {\n        vertical-align: top;\n    }\n\n    .dataframe thead th {\n        text-align: right;\n    }\n</style>\n<table border=\"1\" class=\"dataframe\">\n  <thead>\n    <tr style=\"text-align: right;\">\n      <th></th>\n      <th>key</th>\n      <th>val2</th>\n    </tr>\n  </thead>\n  <tbody>\n    <tr>\n      <th>0</th>\n      <td>1</td>\n      <td>1</td>\n    </tr>\n    <tr>\n      <th>1</th>\n      <td>2</td>\n      <td>2</td>\n    </tr>\n    <tr>\n      <th>2</th>\n      <td>3</td>\n      <td>3</td>\n    </tr>\n    <tr>\n      <th>3</th>\n      <td>5</td>\n      <td>4</td>\n    </tr>\n  </tbody>\n</table>\n</div>"
     },
     "metadata": {},
     "execution_count": 114
    }
   ],
   "source": [
    "df1 = pd.DataFrame({'key': [1,2,3,4], 'val1': [1,2,3,4]})\n",
    "df2 = pd.DataFrame({'key': [1,2,3,5], 'val2': [1,2,3,4]})\n",
    "df2"
   ]
  },
  {
   "cell_type": "code",
   "execution_count": 115,
   "metadata": {},
   "outputs": [
    {
     "output_type": "execute_result",
     "data": {
      "text/plain": [
       "   key  val1  val2\n",
       "0    1     1     1\n",
       "1    2     2     2\n",
       "2    3     3     3"
      ],
      "text/html": "<div>\n<style scoped>\n    .dataframe tbody tr th:only-of-type {\n        vertical-align: middle;\n    }\n\n    .dataframe tbody tr th {\n        vertical-align: top;\n    }\n\n    .dataframe thead th {\n        text-align: right;\n    }\n</style>\n<table border=\"1\" class=\"dataframe\">\n  <thead>\n    <tr style=\"text-align: right;\">\n      <th></th>\n      <th>key</th>\n      <th>val1</th>\n      <th>val2</th>\n    </tr>\n  </thead>\n  <tbody>\n    <tr>\n      <th>0</th>\n      <td>1</td>\n      <td>1</td>\n      <td>1</td>\n    </tr>\n    <tr>\n      <th>1</th>\n      <td>2</td>\n      <td>2</td>\n      <td>2</td>\n    </tr>\n    <tr>\n      <th>2</th>\n      <td>3</td>\n      <td>3</td>\n      <td>3</td>\n    </tr>\n  </tbody>\n</table>\n</div>"
     },
     "metadata": {},
     "execution_count": 115
    }
   ],
   "source": [
    "df_in = df1.merge(df2, how='inner')\n",
    "df_in"
   ]
  },
  {
   "cell_type": "code",
   "execution_count": 116,
   "metadata": {},
   "outputs": [
    {
     "output_type": "execute_result",
     "data": {
      "text/plain": [
       "   key  val1  val2\n",
       "0    1   1.0   1.0\n",
       "1    2   2.0   2.0\n",
       "2    3   3.0   3.0\n",
       "3    4   4.0   NaN\n",
       "4    5   NaN   4.0"
      ],
      "text/html": "<div>\n<style scoped>\n    .dataframe tbody tr th:only-of-type {\n        vertical-align: middle;\n    }\n\n    .dataframe tbody tr th {\n        vertical-align: top;\n    }\n\n    .dataframe thead th {\n        text-align: right;\n    }\n</style>\n<table border=\"1\" class=\"dataframe\">\n  <thead>\n    <tr style=\"text-align: right;\">\n      <th></th>\n      <th>key</th>\n      <th>val1</th>\n      <th>val2</th>\n    </tr>\n  </thead>\n  <tbody>\n    <tr>\n      <th>0</th>\n      <td>1</td>\n      <td>1.0</td>\n      <td>1.0</td>\n    </tr>\n    <tr>\n      <th>1</th>\n      <td>2</td>\n      <td>2.0</td>\n      <td>2.0</td>\n    </tr>\n    <tr>\n      <th>2</th>\n      <td>3</td>\n      <td>3.0</td>\n      <td>3.0</td>\n    </tr>\n    <tr>\n      <th>3</th>\n      <td>4</td>\n      <td>4.0</td>\n      <td>NaN</td>\n    </tr>\n    <tr>\n      <th>4</th>\n      <td>5</td>\n      <td>NaN</td>\n      <td>4.0</td>\n    </tr>\n  </tbody>\n</table>\n</div>"
     },
     "metadata": {},
     "execution_count": 116
    }
   ],
   "source": [
    "df_out = df1.merge(df2, how='outer')\n",
    "df_out"
   ]
  },
  {
   "source": [
    "## 04. Exercise: merging with different joins\n"
   ],
   "cell_type": "markdown",
   "metadata": {}
  },
  {
   "cell_type": "code",
   "execution_count": 117,
   "metadata": {},
   "outputs": [],
   "source": [
    "left = pd.DataFrame({'key1': ['a', 'b', 'c'], 'key2': ['A', 'B', 'C'], 'lval': [ 0, 1, 2]})\n",
    "right = pd.DataFrame({'key1': ['a', 'b', 'c'], 'key2': ['A', 'D', 'C'], 'rval': [ 3, 4, 6]})"
   ]
  },
  {
   "cell_type": "code",
   "execution_count": 118,
   "metadata": {},
   "outputs": [
    {
     "output_type": "execute_result",
     "data": {
      "text/plain": [
       "  key1 key2  lval\n",
       "0    a    A     0\n",
       "1    b    B     1\n",
       "2    c    C     2"
      ],
      "text/html": "<div>\n<style scoped>\n    .dataframe tbody tr th:only-of-type {\n        vertical-align: middle;\n    }\n\n    .dataframe tbody tr th {\n        vertical-align: top;\n    }\n\n    .dataframe thead th {\n        text-align: right;\n    }\n</style>\n<table border=\"1\" class=\"dataframe\">\n  <thead>\n    <tr style=\"text-align: right;\">\n      <th></th>\n      <th>key1</th>\n      <th>key2</th>\n      <th>lval</th>\n    </tr>\n  </thead>\n  <tbody>\n    <tr>\n      <th>0</th>\n      <td>a</td>\n      <td>A</td>\n      <td>0</td>\n    </tr>\n    <tr>\n      <th>1</th>\n      <td>b</td>\n      <td>B</td>\n      <td>1</td>\n    </tr>\n    <tr>\n      <th>2</th>\n      <td>c</td>\n      <td>C</td>\n      <td>2</td>\n    </tr>\n  </tbody>\n</table>\n</div>"
     },
     "metadata": {},
     "execution_count": 118
    }
   ],
   "source": [
    "left"
   ]
  },
  {
   "cell_type": "code",
   "execution_count": 119,
   "metadata": {},
   "outputs": [
    {
     "output_type": "execute_result",
     "data": {
      "text/plain": [
       "  key1 key2  rval\n",
       "0    a    A     3\n",
       "1    b    D     4\n",
       "2    c    C     6"
      ],
      "text/html": "<div>\n<style scoped>\n    .dataframe tbody tr th:only-of-type {\n        vertical-align: middle;\n    }\n\n    .dataframe tbody tr th {\n        vertical-align: top;\n    }\n\n    .dataframe thead th {\n        text-align: right;\n    }\n</style>\n<table border=\"1\" class=\"dataframe\">\n  <thead>\n    <tr style=\"text-align: right;\">\n      <th></th>\n      <th>key1</th>\n      <th>key2</th>\n      <th>rval</th>\n    </tr>\n  </thead>\n  <tbody>\n    <tr>\n      <th>0</th>\n      <td>a</td>\n      <td>A</td>\n      <td>3</td>\n    </tr>\n    <tr>\n      <th>1</th>\n      <td>b</td>\n      <td>D</td>\n      <td>4</td>\n    </tr>\n    <tr>\n      <th>2</th>\n      <td>c</td>\n      <td>C</td>\n      <td>6</td>\n    </tr>\n  </tbody>\n</table>\n</div>"
     },
     "metadata": {},
     "execution_count": 119
    }
   ],
   "source": [
    "right"
   ]
  },
  {
   "cell_type": "code",
   "execution_count": 120,
   "metadata": {},
   "outputs": [
    {
     "output_type": "execute_result",
     "data": {
      "text/plain": [
       "  key1 key2  lval  rval\n",
       "0    a    A     0     3\n",
       "1    c    C     2     6"
      ],
      "text/html": "<div>\n<style scoped>\n    .dataframe tbody tr th:only-of-type {\n        vertical-align: middle;\n    }\n\n    .dataframe tbody tr th {\n        vertical-align: top;\n    }\n\n    .dataframe thead th {\n        text-align: right;\n    }\n</style>\n<table border=\"1\" class=\"dataframe\">\n  <thead>\n    <tr style=\"text-align: right;\">\n      <th></th>\n      <th>key1</th>\n      <th>key2</th>\n      <th>lval</th>\n      <th>rval</th>\n    </tr>\n  </thead>\n  <tbody>\n    <tr>\n      <th>0</th>\n      <td>a</td>\n      <td>A</td>\n      <td>0</td>\n      <td>3</td>\n    </tr>\n    <tr>\n      <th>1</th>\n      <td>c</td>\n      <td>C</td>\n      <td>2</td>\n      <td>6</td>\n    </tr>\n  </tbody>\n</table>\n</div>"
     },
     "metadata": {},
     "execution_count": 120
    }
   ],
   "source": [
    "# A\n",
    "pd.merge(left,right)"
   ]
  },
  {
   "cell_type": "code",
   "execution_count": 121,
   "metadata": {},
   "outputs": [
    {
     "output_type": "execute_result",
     "data": {
      "text/plain": [
       "  key1 key2  lval  rval\n",
       "0    a    A   0.0   3.0\n",
       "1    b    B   1.0   NaN\n",
       "2    c    C   2.0   6.0\n",
       "3    b    D   NaN   4.0"
      ],
      "text/html": "<div>\n<style scoped>\n    .dataframe tbody tr th:only-of-type {\n        vertical-align: middle;\n    }\n\n    .dataframe tbody tr th {\n        vertical-align: top;\n    }\n\n    .dataframe thead th {\n        text-align: right;\n    }\n</style>\n<table border=\"1\" class=\"dataframe\">\n  <thead>\n    <tr style=\"text-align: right;\">\n      <th></th>\n      <th>key1</th>\n      <th>key2</th>\n      <th>lval</th>\n      <th>rval</th>\n    </tr>\n  </thead>\n  <tbody>\n    <tr>\n      <th>0</th>\n      <td>a</td>\n      <td>A</td>\n      <td>0.0</td>\n      <td>3.0</td>\n    </tr>\n    <tr>\n      <th>1</th>\n      <td>b</td>\n      <td>B</td>\n      <td>1.0</td>\n      <td>NaN</td>\n    </tr>\n    <tr>\n      <th>2</th>\n      <td>c</td>\n      <td>C</td>\n      <td>2.0</td>\n      <td>6.0</td>\n    </tr>\n    <tr>\n      <th>3</th>\n      <td>b</td>\n      <td>D</td>\n      <td>NaN</td>\n      <td>4.0</td>\n    </tr>\n  </tbody>\n</table>\n</div>"
     },
     "metadata": {},
     "execution_count": 121
    }
   ],
   "source": [
    "#b\n",
    "pd.merge(left,right, how='outer')"
   ]
  },
  {
   "cell_type": "code",
   "execution_count": 122,
   "metadata": {},
   "outputs": [
    {
     "output_type": "execute_result",
     "data": {
      "text/plain": [
       "  key1 key2  lval  rval\n",
       "0    a    A   0.0     3\n",
       "1    c    C   2.0     6\n",
       "2    b    D   NaN     4"
      ],
      "text/html": "<div>\n<style scoped>\n    .dataframe tbody tr th:only-of-type {\n        vertical-align: middle;\n    }\n\n    .dataframe tbody tr th {\n        vertical-align: top;\n    }\n\n    .dataframe thead th {\n        text-align: right;\n    }\n</style>\n<table border=\"1\" class=\"dataframe\">\n  <thead>\n    <tr style=\"text-align: right;\">\n      <th></th>\n      <th>key1</th>\n      <th>key2</th>\n      <th>lval</th>\n      <th>rval</th>\n    </tr>\n  </thead>\n  <tbody>\n    <tr>\n      <th>0</th>\n      <td>a</td>\n      <td>A</td>\n      <td>0.0</td>\n      <td>3</td>\n    </tr>\n    <tr>\n      <th>1</th>\n      <td>c</td>\n      <td>C</td>\n      <td>2.0</td>\n      <td>6</td>\n    </tr>\n    <tr>\n      <th>2</th>\n      <td>b</td>\n      <td>D</td>\n      <td>NaN</td>\n      <td>4</td>\n    </tr>\n  </tbody>\n</table>\n</div>"
     },
     "metadata": {},
     "execution_count": 122
    }
   ],
   "source": [
    "#C\n",
    "pd.merge(left,right,how='right')"
   ]
  },
  {
   "cell_type": "code",
   "execution_count": 123,
   "metadata": {},
   "outputs": [
    {
     "output_type": "execute_result",
     "data": {
      "text/plain": [
       "  key1 key2_x  lval key2_y  rval\n",
       "0    a      A     0      A     3\n",
       "1    b      B     1      D     4\n",
       "2    c      C     2      C     6"
      ],
      "text/html": "<div>\n<style scoped>\n    .dataframe tbody tr th:only-of-type {\n        vertical-align: middle;\n    }\n\n    .dataframe tbody tr th {\n        vertical-align: top;\n    }\n\n    .dataframe thead th {\n        text-align: right;\n    }\n</style>\n<table border=\"1\" class=\"dataframe\">\n  <thead>\n    <tr style=\"text-align: right;\">\n      <th></th>\n      <th>key1</th>\n      <th>key2_x</th>\n      <th>lval</th>\n      <th>key2_y</th>\n      <th>rval</th>\n    </tr>\n  </thead>\n  <tbody>\n    <tr>\n      <th>0</th>\n      <td>a</td>\n      <td>A</td>\n      <td>0</td>\n      <td>A</td>\n      <td>3</td>\n    </tr>\n    <tr>\n      <th>1</th>\n      <td>b</td>\n      <td>B</td>\n      <td>1</td>\n      <td>D</td>\n      <td>4</td>\n    </tr>\n    <tr>\n      <th>2</th>\n      <td>c</td>\n      <td>C</td>\n      <td>2</td>\n      <td>C</td>\n      <td>6</td>\n    </tr>\n  </tbody>\n</table>\n</div>"
     },
     "metadata": {},
     "execution_count": 123
    }
   ],
   "source": [
    "pd.merge(left,right, on='key1')\n",
    "#pd.merge(left,right, on='key1', how='left')\n",
    "#pd.merge(left,right, on='key1', how='right')\n",
    "pd.merge(left,right, on='key1', how='outer')"
   ]
  },
  {
   "source": [
    "## 05. Pivoting"
   ],
   "cell_type": "markdown",
   "metadata": {}
  },
  {
   "cell_type": "code",
   "execution_count": 124,
   "metadata": {},
   "outputs": [
    {
     "output_type": "execute_result",
     "data": {
      "text/plain": [
       "    time coordinates  values\n",
       "0      0           x       3\n",
       "1      0           y      81\n",
       "2      0           z       1\n",
       "3      1           x      56\n",
       "4      1           y      71\n",
       "5      1           z      91\n",
       "6      2           x      54\n",
       "7      2           y      94\n",
       "8      2           z      64\n",
       "9      3           x      90\n",
       "10     3           y      21\n",
       "11     3           z      36"
      ],
      "text/html": "<div>\n<style scoped>\n    .dataframe tbody tr th:only-of-type {\n        vertical-align: middle;\n    }\n\n    .dataframe tbody tr th {\n        vertical-align: top;\n    }\n\n    .dataframe thead th {\n        text-align: right;\n    }\n</style>\n<table border=\"1\" class=\"dataframe\">\n  <thead>\n    <tr style=\"text-align: right;\">\n      <th></th>\n      <th>time</th>\n      <th>coordinates</th>\n      <th>values</th>\n    </tr>\n  </thead>\n  <tbody>\n    <tr>\n      <th>0</th>\n      <td>0</td>\n      <td>x</td>\n      <td>3</td>\n    </tr>\n    <tr>\n      <th>1</th>\n      <td>0</td>\n      <td>y</td>\n      <td>81</td>\n    </tr>\n    <tr>\n      <th>2</th>\n      <td>0</td>\n      <td>z</td>\n      <td>1</td>\n    </tr>\n    <tr>\n      <th>3</th>\n      <td>1</td>\n      <td>x</td>\n      <td>56</td>\n    </tr>\n    <tr>\n      <th>4</th>\n      <td>1</td>\n      <td>y</td>\n      <td>71</td>\n    </tr>\n    <tr>\n      <th>5</th>\n      <td>1</td>\n      <td>z</td>\n      <td>91</td>\n    </tr>\n    <tr>\n      <th>6</th>\n      <td>2</td>\n      <td>x</td>\n      <td>54</td>\n    </tr>\n    <tr>\n      <th>7</th>\n      <td>2</td>\n      <td>y</td>\n      <td>94</td>\n    </tr>\n    <tr>\n      <th>8</th>\n      <td>2</td>\n      <td>z</td>\n      <td>64</td>\n    </tr>\n    <tr>\n      <th>9</th>\n      <td>3</td>\n      <td>x</td>\n      <td>90</td>\n    </tr>\n    <tr>\n      <th>10</th>\n      <td>3</td>\n      <td>y</td>\n      <td>21</td>\n    </tr>\n    <tr>\n      <th>11</th>\n      <td>3</td>\n      <td>z</td>\n      <td>36</td>\n    </tr>\n  </tbody>\n</table>\n</div>"
     },
     "metadata": {},
     "execution_count": 124
    }
   ],
   "source": [
    "values = [3, 81, 1, 56, 71, 91, 54, 94, 64, 90, 21, 36]\n",
    "coordinates = ['x','y','z'] * 4\n",
    "time = [0]*3 + [1]*3 + [2]*3 + [3]*3\n",
    "df = pd.DataFrame({'time':time, 'coordinates':coordinates, 'values':values})\n",
    "df"
   ]
  },
  {
   "cell_type": "code",
   "execution_count": 125,
   "metadata": {},
   "outputs": [
    {
     "output_type": "execute_result",
     "data": {
      "text/plain": [
       "coordinates   x   y   z\n",
       "time                   \n",
       "0             3  81   1\n",
       "1            56  71  91\n",
       "2            54  94  64\n",
       "3            90  21  36"
      ],
      "text/html": "<div>\n<style scoped>\n    .dataframe tbody tr th:only-of-type {\n        vertical-align: middle;\n    }\n\n    .dataframe tbody tr th {\n        vertical-align: top;\n    }\n\n    .dataframe thead th {\n        text-align: right;\n    }\n</style>\n<table border=\"1\" class=\"dataframe\">\n  <thead>\n    <tr style=\"text-align: right;\">\n      <th>coordinates</th>\n      <th>x</th>\n      <th>y</th>\n      <th>z</th>\n    </tr>\n    <tr>\n      <th>time</th>\n      <th></th>\n      <th></th>\n      <th></th>\n    </tr>\n  </thead>\n  <tbody>\n    <tr>\n      <th>0</th>\n      <td>3</td>\n      <td>81</td>\n      <td>1</td>\n    </tr>\n    <tr>\n      <th>1</th>\n      <td>56</td>\n      <td>71</td>\n      <td>91</td>\n    </tr>\n    <tr>\n      <th>2</th>\n      <td>54</td>\n      <td>94</td>\n      <td>64</td>\n    </tr>\n    <tr>\n      <th>3</th>\n      <td>90</td>\n      <td>21</td>\n      <td>36</td>\n    </tr>\n  </tbody>\n</table>\n</div>"
     },
     "metadata": {},
     "execution_count": 125
    }
   ],
   "source": [
    "df_pivot = df.pivot(index='time', columns='coordinates', values='values')\n",
    "df_pivot"
   ]
  },
  {
   "cell_type": "code",
   "execution_count": 126,
   "metadata": {},
   "outputs": [],
   "source": [
    "values2=[6,82,9,47,8,12,64,88,53,46,59,60]"
   ]
  },
  {
   "cell_type": "code",
   "execution_count": 127,
   "metadata": {},
   "outputs": [
    {
     "output_type": "execute_result",
     "data": {
      "text/plain": [
       "    time coordinates  values\n",
       "0      0           x       3\n",
       "1      0           y      81\n",
       "2      0           z       1\n",
       "3      1           x      56\n",
       "4      1           y      71\n",
       "5      1           z      91\n",
       "6      2           x      54\n",
       "7      2           y      94\n",
       "8      2           z      64\n",
       "9      3           x      90\n",
       "10     3           y      21\n",
       "11     3           z      36\n",
       "12     0           x       6\n",
       "13     0           y      82\n",
       "14     0           z       9\n",
       "15     1           x      47\n",
       "16     1           y       8\n",
       "17     1           z      12\n",
       "18     2           x      64\n",
       "19     2           y      88\n",
       "20     2           z      53\n",
       "21     3           x      46\n",
       "22     3           y      59\n",
       "23     3           z      60"
      ],
      "text/html": "<div>\n<style scoped>\n    .dataframe tbody tr th:only-of-type {\n        vertical-align: middle;\n    }\n\n    .dataframe tbody tr th {\n        vertical-align: top;\n    }\n\n    .dataframe thead th {\n        text-align: right;\n    }\n</style>\n<table border=\"1\" class=\"dataframe\">\n  <thead>\n    <tr style=\"text-align: right;\">\n      <th></th>\n      <th>time</th>\n      <th>coordinates</th>\n      <th>values</th>\n    </tr>\n  </thead>\n  <tbody>\n    <tr>\n      <th>0</th>\n      <td>0</td>\n      <td>x</td>\n      <td>3</td>\n    </tr>\n    <tr>\n      <th>1</th>\n      <td>0</td>\n      <td>y</td>\n      <td>81</td>\n    </tr>\n    <tr>\n      <th>2</th>\n      <td>0</td>\n      <td>z</td>\n      <td>1</td>\n    </tr>\n    <tr>\n      <th>3</th>\n      <td>1</td>\n      <td>x</td>\n      <td>56</td>\n    </tr>\n    <tr>\n      <th>4</th>\n      <td>1</td>\n      <td>y</td>\n      <td>71</td>\n    </tr>\n    <tr>\n      <th>5</th>\n      <td>1</td>\n      <td>z</td>\n      <td>91</td>\n    </tr>\n    <tr>\n      <th>6</th>\n      <td>2</td>\n      <td>x</td>\n      <td>54</td>\n    </tr>\n    <tr>\n      <th>7</th>\n      <td>2</td>\n      <td>y</td>\n      <td>94</td>\n    </tr>\n    <tr>\n      <th>8</th>\n      <td>2</td>\n      <td>z</td>\n      <td>64</td>\n    </tr>\n    <tr>\n      <th>9</th>\n      <td>3</td>\n      <td>x</td>\n      <td>90</td>\n    </tr>\n    <tr>\n      <th>10</th>\n      <td>3</td>\n      <td>y</td>\n      <td>21</td>\n    </tr>\n    <tr>\n      <th>11</th>\n      <td>3</td>\n      <td>z</td>\n      <td>36</td>\n    </tr>\n    <tr>\n      <th>12</th>\n      <td>0</td>\n      <td>x</td>\n      <td>6</td>\n    </tr>\n    <tr>\n      <th>13</th>\n      <td>0</td>\n      <td>y</td>\n      <td>82</td>\n    </tr>\n    <tr>\n      <th>14</th>\n      <td>0</td>\n      <td>z</td>\n      <td>9</td>\n    </tr>\n    <tr>\n      <th>15</th>\n      <td>1</td>\n      <td>x</td>\n      <td>47</td>\n    </tr>\n    <tr>\n      <th>16</th>\n      <td>1</td>\n      <td>y</td>\n      <td>8</td>\n    </tr>\n    <tr>\n      <th>17</th>\n      <td>1</td>\n      <td>z</td>\n      <td>12</td>\n    </tr>\n    <tr>\n      <th>18</th>\n      <td>2</td>\n      <td>x</td>\n      <td>64</td>\n    </tr>\n    <tr>\n      <th>19</th>\n      <td>2</td>\n      <td>y</td>\n      <td>88</td>\n    </tr>\n    <tr>\n      <th>20</th>\n      <td>2</td>\n      <td>z</td>\n      <td>53</td>\n    </tr>\n    <tr>\n      <th>21</th>\n      <td>3</td>\n      <td>x</td>\n      <td>46</td>\n    </tr>\n    <tr>\n      <th>22</th>\n      <td>3</td>\n      <td>y</td>\n      <td>59</td>\n    </tr>\n    <tr>\n      <th>23</th>\n      <td>3</td>\n      <td>z</td>\n      <td>60</td>\n    </tr>\n  </tbody>\n</table>\n</div>"
     },
     "metadata": {},
     "execution_count": 127
    }
   ],
   "source": [
    "df2=pd.DataFrame({'time':time*2, 'coordinates':coordinates*2, 'values':values+values2})\n",
    "df2"
   ]
  },
  {
   "cell_type": "code",
   "execution_count": 128,
   "metadata": {},
   "outputs": [
    {
     "output_type": "execute_result",
     "data": {
      "text/plain": [
       "coordinates     x     y     z\n",
       "time                         \n",
       "0             4.5  81.5   5.0\n",
       "1            51.5  39.5  51.5\n",
       "2            59.0  91.0  58.5\n",
       "3            68.0  40.0  48.0"
      ],
      "text/html": "<div>\n<style scoped>\n    .dataframe tbody tr th:only-of-type {\n        vertical-align: middle;\n    }\n\n    .dataframe tbody tr th {\n        vertical-align: top;\n    }\n\n    .dataframe thead th {\n        text-align: right;\n    }\n</style>\n<table border=\"1\" class=\"dataframe\">\n  <thead>\n    <tr style=\"text-align: right;\">\n      <th>coordinates</th>\n      <th>x</th>\n      <th>y</th>\n      <th>z</th>\n    </tr>\n    <tr>\n      <th>time</th>\n      <th></th>\n      <th></th>\n      <th></th>\n    </tr>\n  </thead>\n  <tbody>\n    <tr>\n      <th>0</th>\n      <td>4.5</td>\n      <td>81.5</td>\n      <td>5.0</td>\n    </tr>\n    <tr>\n      <th>1</th>\n      <td>51.5</td>\n      <td>39.5</td>\n      <td>51.5</td>\n    </tr>\n    <tr>\n      <th>2</th>\n      <td>59.0</td>\n      <td>91.0</td>\n      <td>58.5</td>\n    </tr>\n    <tr>\n      <th>3</th>\n      <td>68.0</td>\n      <td>40.0</td>\n      <td>48.0</td>\n    </tr>\n  </tbody>\n</table>\n</div>"
     },
     "metadata": {},
     "execution_count": 128
    }
   ],
   "source": [
    "df2_pivot = df2.pivot_table(index='time', columns='coordinates', values='values')\n",
    "df2_pivot"
   ]
  },
  {
   "cell_type": "code",
   "execution_count": 129,
   "metadata": {},
   "outputs": [
    {
     "output_type": "execute_result",
     "data": {
      "text/plain": [
       "coordinates   x   y   z\n",
       "time                   \n",
       "0             3   1   8\n",
       "1             9  63  79\n",
       "2            10   6  11\n",
       "3            44  38  24"
      ],
      "text/html": "<div>\n<style scoped>\n    .dataframe tbody tr th:only-of-type {\n        vertical-align: middle;\n    }\n\n    .dataframe tbody tr th {\n        vertical-align: top;\n    }\n\n    .dataframe thead th {\n        text-align: right;\n    }\n</style>\n<table border=\"1\" class=\"dataframe\">\n  <thead>\n    <tr style=\"text-align: right;\">\n      <th>coordinates</th>\n      <th>x</th>\n      <th>y</th>\n      <th>z</th>\n    </tr>\n    <tr>\n      <th>time</th>\n      <th></th>\n      <th></th>\n      <th></th>\n    </tr>\n  </thead>\n  <tbody>\n    <tr>\n      <th>0</th>\n      <td>3</td>\n      <td>1</td>\n      <td>8</td>\n    </tr>\n    <tr>\n      <th>1</th>\n      <td>9</td>\n      <td>63</td>\n      <td>79</td>\n    </tr>\n    <tr>\n      <th>2</th>\n      <td>10</td>\n      <td>6</td>\n      <td>11</td>\n    </tr>\n    <tr>\n      <th>3</th>\n      <td>44</td>\n      <td>38</td>\n      <td>24</td>\n    </tr>\n  </tbody>\n</table>\n</div>"
     },
     "metadata": {},
     "execution_count": 129
    }
   ],
   "source": [
    "import numpy as np\n",
    "def distance(a):\n",
    "    x = np.max(a) - np.min(a)\n",
    "    return x\n",
    "\n",
    "df2_pivot = df2.pivot_table(index='time', columns='coordinates', values='values', aggfunc=distance)\n",
    "df2_pivot"
   ]
  },
  {
   "cell_type": "code",
   "execution_count": 130,
   "metadata": {},
   "outputs": [
    {
     "output_type": "execute_result",
     "data": {
      "text/plain": [
       "coordinates         x         y         z\n",
       "time                                     \n",
       "0              (3, 6)  (81, 82)    (1, 9)\n",
       "1            (56, 47)   (71, 8)  (91, 12)\n",
       "2            (54, 64)  (94, 88)  (64, 53)\n",
       "3            (90, 46)  (21, 59)  (36, 60)"
      ],
      "text/html": "<div>\n<style scoped>\n    .dataframe tbody tr th:only-of-type {\n        vertical-align: middle;\n    }\n\n    .dataframe tbody tr th {\n        vertical-align: top;\n    }\n\n    .dataframe thead th {\n        text-align: right;\n    }\n</style>\n<table border=\"1\" class=\"dataframe\">\n  <thead>\n    <tr style=\"text-align: right;\">\n      <th>coordinates</th>\n      <th>x</th>\n      <th>y</th>\n      <th>z</th>\n    </tr>\n    <tr>\n      <th>time</th>\n      <th></th>\n      <th></th>\n      <th></th>\n    </tr>\n  </thead>\n  <tbody>\n    <tr>\n      <th>0</th>\n      <td>(3, 6)</td>\n      <td>(81, 82)</td>\n      <td>(1, 9)</td>\n    </tr>\n    <tr>\n      <th>1</th>\n      <td>(56, 47)</td>\n      <td>(71, 8)</td>\n      <td>(91, 12)</td>\n    </tr>\n    <tr>\n      <th>2</th>\n      <td>(54, 64)</td>\n      <td>(94, 88)</td>\n      <td>(64, 53)</td>\n    </tr>\n    <tr>\n      <th>3</th>\n      <td>(90, 46)</td>\n      <td>(21, 59)</td>\n      <td>(36, 60)</td>\n    </tr>\n  </tbody>\n</table>\n</div>"
     },
     "metadata": {},
     "execution_count": 130
    }
   ],
   "source": [
    "df2_pivot = df2.pivot_table(index='time', columns='coordinates', values='values', aggfunc=lambda x: tuple(x))\n",
    "df2_pivot"
   ]
  },
  {
   "cell_type": "code",
   "execution_count": 131,
   "metadata": {},
   "outputs": [
    {
     "output_type": "execute_result",
     "data": {
      "text/plain": [
       "coordinates         x         y         z\n",
       "time                                     \n",
       "0              (3, 6)  (81, 82)    (1, 9)\n",
       "1            (56, 47)   (71, 8)  (91, 12)\n",
       "2            (54, 64)  (94, 88)  (64, 53)\n",
       "3            (90, 46)  (21, 59)  (36, 60)"
      ],
      "text/html": "<div>\n<style scoped>\n    .dataframe tbody tr th:only-of-type {\n        vertical-align: middle;\n    }\n\n    .dataframe tbody tr th {\n        vertical-align: top;\n    }\n\n    .dataframe thead th {\n        text-align: right;\n    }\n</style>\n<table border=\"1\" class=\"dataframe\">\n  <thead>\n    <tr style=\"text-align: right;\">\n      <th>coordinates</th>\n      <th>x</th>\n      <th>y</th>\n      <th>z</th>\n    </tr>\n    <tr>\n      <th>time</th>\n      <th></th>\n      <th></th>\n      <th></th>\n    </tr>\n  </thead>\n  <tbody>\n    <tr>\n      <th>0</th>\n      <td>(3, 6)</td>\n      <td>(81, 82)</td>\n      <td>(1, 9)</td>\n    </tr>\n    <tr>\n      <th>1</th>\n      <td>(56, 47)</td>\n      <td>(71, 8)</td>\n      <td>(91, 12)</td>\n    </tr>\n    <tr>\n      <th>2</th>\n      <td>(54, 64)</td>\n      <td>(94, 88)</td>\n      <td>(64, 53)</td>\n    </tr>\n    <tr>\n      <th>3</th>\n      <td>(90, 46)</td>\n      <td>(21, 59)</td>\n      <td>(36, 60)</td>\n    </tr>\n  </tbody>\n</table>\n</div>"
     },
     "metadata": {},
     "execution_count": 131
    }
   ],
   "source": [
    "df2_pivot = df2.pivot_table(index='time', columns='coordinates', values='values', aggfunc=tuple)\n",
    "df2_pivot"
   ]
  },
  {
   "source": [
    "## 06. Exercise: pivoting"
   ],
   "cell_type": "markdown",
   "metadata": {}
  },
  {
   "cell_type": "code",
   "execution_count": 132,
   "metadata": {},
   "outputs": [
    {
     "output_type": "execute_result",
     "data": {
      "text/plain": [
       "       Musician      Genre                Name  Decade Minutes\n",
       "0  Led Zeppelin  hard rock  Stairway to Heaven      70   08:02\n",
       "1  Led Zeppelin  hard rock             Kashmir      70   08:37\n",
       "2  Led Zeppelin  hard rock      Immigrant Song      70   02:26\n",
       "3  Led Zeppelin  hard rock    Whole Lotta Love      60   05:33\n",
       "4  Led Zeppelin  hard rock           Black Dog      70   04:55"
      ],
      "text/html": "<div>\n<style scoped>\n    .dataframe tbody tr th:only-of-type {\n        vertical-align: middle;\n    }\n\n    .dataframe tbody tr th {\n        vertical-align: top;\n    }\n\n    .dataframe thead th {\n        text-align: right;\n    }\n</style>\n<table border=\"1\" class=\"dataframe\">\n  <thead>\n    <tr style=\"text-align: right;\">\n      <th></th>\n      <th>Musician</th>\n      <th>Genre</th>\n      <th>Name</th>\n      <th>Decade</th>\n      <th>Minutes</th>\n    </tr>\n  </thead>\n  <tbody>\n    <tr>\n      <th>0</th>\n      <td>Led Zeppelin</td>\n      <td>hard rock</td>\n      <td>Stairway to Heaven</td>\n      <td>70</td>\n      <td>08:02</td>\n    </tr>\n    <tr>\n      <th>1</th>\n      <td>Led Zeppelin</td>\n      <td>hard rock</td>\n      <td>Kashmir</td>\n      <td>70</td>\n      <td>08:37</td>\n    </tr>\n    <tr>\n      <th>2</th>\n      <td>Led Zeppelin</td>\n      <td>hard rock</td>\n      <td>Immigrant Song</td>\n      <td>70</td>\n      <td>02:26</td>\n    </tr>\n    <tr>\n      <th>3</th>\n      <td>Led Zeppelin</td>\n      <td>hard rock</td>\n      <td>Whole Lotta Love</td>\n      <td>60</td>\n      <td>05:33</td>\n    </tr>\n    <tr>\n      <th>4</th>\n      <td>Led Zeppelin</td>\n      <td>hard rock</td>\n      <td>Black Dog</td>\n      <td>70</td>\n      <td>04:55</td>\n    </tr>\n  </tbody>\n</table>\n</div>"
     },
     "metadata": {},
     "execution_count": 132
    }
   ],
   "source": [
    "df_song = pd.read_csv('data\\songs.csv')\n",
    "df_song.head()"
   ]
  },
  {
   "cell_type": "code",
   "execution_count": 133,
   "metadata": {},
   "outputs": [
    {
     "output_type": "execute_result",
     "data": {
      "text/plain": [
       "Genre                                          folk rock  hard rock pop rock\n",
       "Decade Musician     Name                                                    \n",
       "60     Bob Dylan    Blowin' in the Wind                 x                   \n",
       "                    Like a Rolling Stone                x                   \n",
       "       David Bowie  Space Oddity                                           x\n",
       "       Led Zeppelin Good Times Bad Times                          x         \n",
       "                    I Can't Quit You Baby                         x         \n",
       "                    Moby Dick                                     x         \n",
       "                    Ramble On                                     x         \n",
       "                    Whole Lotta Love                              x         \n",
       "70     Bob Dylan    Tangled Up in Blue                  x                   \n",
       "       David Bowie  China Girl                                             x\n",
       "                    Golden Years                                           x\n",
       "                    Rebel Rebel                                            x\n",
       "       Led Zeppelin All My Love                                   x         \n",
       "                    Black Dog                                     x         \n",
       "                    Immigrant Song                                x         \n",
       "                    Kashmir                                       x         \n",
       "                    Stairway to Heaven                            x         \n",
       "                    The Song Remains the Same                     x         \n",
       "80     David Bowie  Under Pressure                                         x\n",
       "90     David Bowie  I'm Afraid of Americans                                x"
      ],
      "text/html": "<div>\n<style scoped>\n    .dataframe tbody tr th:only-of-type {\n        vertical-align: middle;\n    }\n\n    .dataframe tbody tr th {\n        vertical-align: top;\n    }\n\n    .dataframe thead th {\n        text-align: right;\n    }\n</style>\n<table border=\"1\" class=\"dataframe\">\n  <thead>\n    <tr style=\"text-align: right;\">\n      <th></th>\n      <th></th>\n      <th>Genre</th>\n      <th>folk rock</th>\n      <th>hard rock</th>\n      <th>pop rock</th>\n    </tr>\n    <tr>\n      <th>Decade</th>\n      <th>Musician</th>\n      <th>Name</th>\n      <th></th>\n      <th></th>\n      <th></th>\n    </tr>\n  </thead>\n  <tbody>\n    <tr>\n      <th rowspan=\"8\" valign=\"top\">60</th>\n      <th rowspan=\"2\" valign=\"top\">Bob Dylan</th>\n      <th>Blowin' in the Wind</th>\n      <td>x</td>\n      <td></td>\n      <td></td>\n    </tr>\n    <tr>\n      <th>Like a Rolling Stone</th>\n      <td>x</td>\n      <td></td>\n      <td></td>\n    </tr>\n    <tr>\n      <th>David Bowie</th>\n      <th>Space Oddity</th>\n      <td></td>\n      <td></td>\n      <td>x</td>\n    </tr>\n    <tr>\n      <th rowspan=\"5\" valign=\"top\">Led Zeppelin</th>\n      <th>Good Times Bad Times</th>\n      <td></td>\n      <td>x</td>\n      <td></td>\n    </tr>\n    <tr>\n      <th>I Can't Quit You Baby</th>\n      <td></td>\n      <td>x</td>\n      <td></td>\n    </tr>\n    <tr>\n      <th>Moby Dick</th>\n      <td></td>\n      <td>x</td>\n      <td></td>\n    </tr>\n    <tr>\n      <th>Ramble On</th>\n      <td></td>\n      <td>x</td>\n      <td></td>\n    </tr>\n    <tr>\n      <th>Whole Lotta Love</th>\n      <td></td>\n      <td>x</td>\n      <td></td>\n    </tr>\n    <tr>\n      <th rowspan=\"10\" valign=\"top\">70</th>\n      <th>Bob Dylan</th>\n      <th>Tangled Up in Blue</th>\n      <td>x</td>\n      <td></td>\n      <td></td>\n    </tr>\n    <tr>\n      <th rowspan=\"3\" valign=\"top\">David Bowie</th>\n      <th>China Girl</th>\n      <td></td>\n      <td></td>\n      <td>x</td>\n    </tr>\n    <tr>\n      <th>Golden Years</th>\n      <td></td>\n      <td></td>\n      <td>x</td>\n    </tr>\n    <tr>\n      <th>Rebel Rebel</th>\n      <td></td>\n      <td></td>\n      <td>x</td>\n    </tr>\n    <tr>\n      <th rowspan=\"6\" valign=\"top\">Led Zeppelin</th>\n      <th>All My Love</th>\n      <td></td>\n      <td>x</td>\n      <td></td>\n    </tr>\n    <tr>\n      <th>Black Dog</th>\n      <td></td>\n      <td>x</td>\n      <td></td>\n    </tr>\n    <tr>\n      <th>Immigrant Song</th>\n      <td></td>\n      <td>x</td>\n      <td></td>\n    </tr>\n    <tr>\n      <th>Kashmir</th>\n      <td></td>\n      <td>x</td>\n      <td></td>\n    </tr>\n    <tr>\n      <th>Stairway to Heaven</th>\n      <td></td>\n      <td>x</td>\n      <td></td>\n    </tr>\n    <tr>\n      <th>The Song Remains the Same</th>\n      <td></td>\n      <td>x</td>\n      <td></td>\n    </tr>\n    <tr>\n      <th>80</th>\n      <th>David Bowie</th>\n      <th>Under Pressure</th>\n      <td></td>\n      <td></td>\n      <td>x</td>\n    </tr>\n    <tr>\n      <th>90</th>\n      <th>David Bowie</th>\n      <th>I'm Afraid of Americans</th>\n      <td></td>\n      <td></td>\n      <td>x</td>\n    </tr>\n  </tbody>\n</table>\n</div>"
     },
     "metadata": {},
     "execution_count": 133
    }
   ],
   "source": [
    "def set_x(minutes):\n",
    "    return 'x'\n",
    "\n",
    "df_song_pivot = df_song.pivot_table(index=['Decade','Musician', 'Name' ], columns='Genre', values='Minutes',aggfunc=set_x, fill_value=' ')\n",
    "\n",
    "df_song_pivot"
   ]
  },
  {
   "source": [
    "## 08. Stacking and unstacking\n",
    "* the stack() function takes the innermost column label and turns it into the innermost row index. The overall effect is to make the DataFrame taller.\n",
    "* the unstack() function is the inverse operation: it takes the innermost row index and turns it into the innermost column label. The overall effect is to make the DataFrame wider."
   ],
   "cell_type": "markdown",
   "metadata": {}
  },
  {
   "cell_type": "code",
   "execution_count": 134,
   "metadata": {},
   "outputs": [
    {
     "output_type": "execute_result",
     "data": {
      "text/plain": [
       "        C0      C1    \n",
       "       c00 c01 c10 c11\n",
       "R0 r00   0   1   2   3\n",
       "   r01   4   5   6   7\n",
       "R1 r10   8   9  10  11\n",
       "   r11  12  13  14  15"
      ],
      "text/html": "<div>\n<style scoped>\n    .dataframe tbody tr th:only-of-type {\n        vertical-align: middle;\n    }\n\n    .dataframe tbody tr th {\n        vertical-align: top;\n    }\n\n    .dataframe thead tr th {\n        text-align: left;\n    }\n</style>\n<table border=\"1\" class=\"dataframe\">\n  <thead>\n    <tr>\n      <th></th>\n      <th></th>\n      <th colspan=\"2\" halign=\"left\">C0</th>\n      <th colspan=\"2\" halign=\"left\">C1</th>\n    </tr>\n    <tr>\n      <th></th>\n      <th></th>\n      <th>c00</th>\n      <th>c01</th>\n      <th>c10</th>\n      <th>c11</th>\n    </tr>\n  </thead>\n  <tbody>\n    <tr>\n      <th rowspan=\"2\" valign=\"top\">R0</th>\n      <th>r00</th>\n      <td>0</td>\n      <td>1</td>\n      <td>2</td>\n      <td>3</td>\n    </tr>\n    <tr>\n      <th>r01</th>\n      <td>4</td>\n      <td>5</td>\n      <td>6</td>\n      <td>7</td>\n    </tr>\n    <tr>\n      <th rowspan=\"2\" valign=\"top\">R1</th>\n      <th>r10</th>\n      <td>8</td>\n      <td>9</td>\n      <td>10</td>\n      <td>11</td>\n    </tr>\n    <tr>\n      <th>r11</th>\n      <td>12</td>\n      <td>13</td>\n      <td>14</td>\n      <td>15</td>\n    </tr>\n  </tbody>\n</table>\n</div>"
     },
     "metadata": {},
     "execution_count": 134
    }
   ],
   "source": [
    "#define the MultiIndex for the rows\n",
    "row_levels = [['R0','R1'], ['r00', 'r01', 'r10', 'r11']]\n",
    "row_labels = [[0,0,1,1],[0,1,2,3]]\n",
    "row_indices = pd.MultiIndex(row_levels, row_labels)\n",
    "#define the MultiIndex for the columns\n",
    "col_levels = [['C0','C1'], ['c00', 'c01', 'c10', 'c11']]\n",
    "col_labels = [[0,0,1,1],[0,1,2,3]]\n",
    "col_indices = pd.MultiIndex(col_levels, col_labels)\n",
    "#define the data\n",
    "data = np.arange(16).reshape(4,4)\n",
    "#create the dataframe\n",
    "df = pd.DataFrame(data, index=row_indices, columns=col_indices)\n",
    "df"
   ]
  },
  {
   "cell_type": "code",
   "execution_count": 136,
   "metadata": {},
   "outputs": [
    {
     "output_type": "execute_result",
     "data": {
      "text/plain": [
       "              C0    C1\n",
       "R0 r00 c00   0.0   NaN\n",
       "       c01   1.0   NaN\n",
       "       c10   NaN   2.0\n",
       "       c11   NaN   3.0\n",
       "   r01 c00   4.0   NaN\n",
       "       c01   5.0   NaN\n",
       "       c10   NaN   6.0\n",
       "       c11   NaN   7.0\n",
       "R1 r10 c00   8.0   NaN\n",
       "       c01   9.0   NaN\n",
       "       c10   NaN  10.0\n",
       "       c11   NaN  11.0\n",
       "   r11 c00  12.0   NaN\n",
       "       c01  13.0   NaN\n",
       "       c10   NaN  14.0\n",
       "       c11   NaN  15.0"
      ],
      "text/html": "<div>\n<style scoped>\n    .dataframe tbody tr th:only-of-type {\n        vertical-align: middle;\n    }\n\n    .dataframe tbody tr th {\n        vertical-align: top;\n    }\n\n    .dataframe thead th {\n        text-align: right;\n    }\n</style>\n<table border=\"1\" class=\"dataframe\">\n  <thead>\n    <tr style=\"text-align: right;\">\n      <th></th>\n      <th></th>\n      <th></th>\n      <th>C0</th>\n      <th>C1</th>\n    </tr>\n  </thead>\n  <tbody>\n    <tr>\n      <th rowspan=\"8\" valign=\"top\">R0</th>\n      <th rowspan=\"4\" valign=\"top\">r00</th>\n      <th>c00</th>\n      <td>0.0</td>\n      <td>NaN</td>\n    </tr>\n    <tr>\n      <th>c01</th>\n      <td>1.0</td>\n      <td>NaN</td>\n    </tr>\n    <tr>\n      <th>c10</th>\n      <td>NaN</td>\n      <td>2.0</td>\n    </tr>\n    <tr>\n      <th>c11</th>\n      <td>NaN</td>\n      <td>3.0</td>\n    </tr>\n    <tr>\n      <th rowspan=\"4\" valign=\"top\">r01</th>\n      <th>c00</th>\n      <td>4.0</td>\n      <td>NaN</td>\n    </tr>\n    <tr>\n      <th>c01</th>\n      <td>5.0</td>\n      <td>NaN</td>\n    </tr>\n    <tr>\n      <th>c10</th>\n      <td>NaN</td>\n      <td>6.0</td>\n    </tr>\n    <tr>\n      <th>c11</th>\n      <td>NaN</td>\n      <td>7.0</td>\n    </tr>\n    <tr>\n      <th rowspan=\"8\" valign=\"top\">R1</th>\n      <th rowspan=\"4\" valign=\"top\">r10</th>\n      <th>c00</th>\n      <td>8.0</td>\n      <td>NaN</td>\n    </tr>\n    <tr>\n      <th>c01</th>\n      <td>9.0</td>\n      <td>NaN</td>\n    </tr>\n    <tr>\n      <th>c10</th>\n      <td>NaN</td>\n      <td>10.0</td>\n    </tr>\n    <tr>\n      <th>c11</th>\n      <td>NaN</td>\n      <td>11.0</td>\n    </tr>\n    <tr>\n      <th rowspan=\"4\" valign=\"top\">r11</th>\n      <th>c00</th>\n      <td>12.0</td>\n      <td>NaN</td>\n    </tr>\n    <tr>\n      <th>c01</th>\n      <td>13.0</td>\n      <td>NaN</td>\n    </tr>\n    <tr>\n      <th>c10</th>\n      <td>NaN</td>\n      <td>14.0</td>\n    </tr>\n    <tr>\n      <th>c11</th>\n      <td>NaN</td>\n      <td>15.0</td>\n    </tr>\n  </tbody>\n</table>\n</div>"
     },
     "metadata": {},
     "execution_count": 136
    }
   ],
   "source": [
    "df.stack()"
   ]
  },
  {
   "cell_type": "code",
   "execution_count": 138,
   "metadata": {},
   "outputs": [
    {
     "output_type": "execute_result",
     "data": {
      "text/plain": [
       "     C0                                        C1                             \\\n",
       "    c00                  c01                  c10                   c11        \n",
       "    r00  r01  r10   r11  r00  r01  r10   r11  r00  r01   r10   r11  r00  r01   \n",
       "R0  0.0  4.0  NaN   NaN  1.0  5.0  NaN   NaN  2.0  6.0   NaN   NaN  3.0  7.0   \n",
       "R1  NaN  NaN  8.0  12.0  NaN  NaN  9.0  13.0  NaN  NaN  10.0  14.0  NaN  NaN   \n",
       "\n",
       "                \n",
       "                \n",
       "     r10   r11  \n",
       "R0   NaN   NaN  \n",
       "R1  11.0  15.0  "
      ],
      "text/html": "<div>\n<style scoped>\n    .dataframe tbody tr th:only-of-type {\n        vertical-align: middle;\n    }\n\n    .dataframe tbody tr th {\n        vertical-align: top;\n    }\n\n    .dataframe thead tr th {\n        text-align: left;\n    }\n</style>\n<table border=\"1\" class=\"dataframe\">\n  <thead>\n    <tr>\n      <th></th>\n      <th colspan=\"8\" halign=\"left\">C0</th>\n      <th colspan=\"8\" halign=\"left\">C1</th>\n    </tr>\n    <tr>\n      <th></th>\n      <th colspan=\"4\" halign=\"left\">c00</th>\n      <th colspan=\"4\" halign=\"left\">c01</th>\n      <th colspan=\"4\" halign=\"left\">c10</th>\n      <th colspan=\"4\" halign=\"left\">c11</th>\n    </tr>\n    <tr>\n      <th></th>\n      <th>r00</th>\n      <th>r01</th>\n      <th>r10</th>\n      <th>r11</th>\n      <th>r00</th>\n      <th>r01</th>\n      <th>r10</th>\n      <th>r11</th>\n      <th>r00</th>\n      <th>r01</th>\n      <th>r10</th>\n      <th>r11</th>\n      <th>r00</th>\n      <th>r01</th>\n      <th>r10</th>\n      <th>r11</th>\n    </tr>\n  </thead>\n  <tbody>\n    <tr>\n      <th>R0</th>\n      <td>0.0</td>\n      <td>4.0</td>\n      <td>NaN</td>\n      <td>NaN</td>\n      <td>1.0</td>\n      <td>5.0</td>\n      <td>NaN</td>\n      <td>NaN</td>\n      <td>2.0</td>\n      <td>6.0</td>\n      <td>NaN</td>\n      <td>NaN</td>\n      <td>3.0</td>\n      <td>7.0</td>\n      <td>NaN</td>\n      <td>NaN</td>\n    </tr>\n    <tr>\n      <th>R1</th>\n      <td>NaN</td>\n      <td>NaN</td>\n      <td>8.0</td>\n      <td>12.0</td>\n      <td>NaN</td>\n      <td>NaN</td>\n      <td>9.0</td>\n      <td>13.0</td>\n      <td>NaN</td>\n      <td>NaN</td>\n      <td>10.0</td>\n      <td>14.0</td>\n      <td>NaN</td>\n      <td>NaN</td>\n      <td>11.0</td>\n      <td>15.0</td>\n    </tr>\n  </tbody>\n</table>\n</div>"
     },
     "metadata": {},
     "execution_count": 138
    }
   ],
   "source": [
    "df.unstack()"
   ]
  },
  {
   "cell_type": "code",
   "execution_count": 139,
   "metadata": {},
   "outputs": [
    {
     "output_type": "execute_result",
     "data": {
      "text/plain": [
       "            c00   c01   c10   c11\n",
       "R0 r00 C0   0.0   1.0   NaN   NaN\n",
       "       C1   NaN   NaN   2.0   3.0\n",
       "   r01 C0   4.0   5.0   NaN   NaN\n",
       "       C1   NaN   NaN   6.0   7.0\n",
       "R1 r10 C0   8.0   9.0   NaN   NaN\n",
       "       C1   NaN   NaN  10.0  11.0\n",
       "   r11 C0  12.0  13.0   NaN   NaN\n",
       "       C1   NaN   NaN  14.0  15.0"
      ],
      "text/html": "<div>\n<style scoped>\n    .dataframe tbody tr th:only-of-type {\n        vertical-align: middle;\n    }\n\n    .dataframe tbody tr th {\n        vertical-align: top;\n    }\n\n    .dataframe thead th {\n        text-align: right;\n    }\n</style>\n<table border=\"1\" class=\"dataframe\">\n  <thead>\n    <tr style=\"text-align: right;\">\n      <th></th>\n      <th></th>\n      <th></th>\n      <th>c00</th>\n      <th>c01</th>\n      <th>c10</th>\n      <th>c11</th>\n    </tr>\n  </thead>\n  <tbody>\n    <tr>\n      <th rowspan=\"4\" valign=\"top\">R0</th>\n      <th rowspan=\"2\" valign=\"top\">r00</th>\n      <th>C0</th>\n      <td>0.0</td>\n      <td>1.0</td>\n      <td>NaN</td>\n      <td>NaN</td>\n    </tr>\n    <tr>\n      <th>C1</th>\n      <td>NaN</td>\n      <td>NaN</td>\n      <td>2.0</td>\n      <td>3.0</td>\n    </tr>\n    <tr>\n      <th rowspan=\"2\" valign=\"top\">r01</th>\n      <th>C0</th>\n      <td>4.0</td>\n      <td>5.0</td>\n      <td>NaN</td>\n      <td>NaN</td>\n    </tr>\n    <tr>\n      <th>C1</th>\n      <td>NaN</td>\n      <td>NaN</td>\n      <td>6.0</td>\n      <td>7.0</td>\n    </tr>\n    <tr>\n      <th rowspan=\"4\" valign=\"top\">R1</th>\n      <th rowspan=\"2\" valign=\"top\">r10</th>\n      <th>C0</th>\n      <td>8.0</td>\n      <td>9.0</td>\n      <td>NaN</td>\n      <td>NaN</td>\n    </tr>\n    <tr>\n      <th>C1</th>\n      <td>NaN</td>\n      <td>NaN</td>\n      <td>10.0</td>\n      <td>11.0</td>\n    </tr>\n    <tr>\n      <th rowspan=\"2\" valign=\"top\">r11</th>\n      <th>C0</th>\n      <td>12.0</td>\n      <td>13.0</td>\n      <td>NaN</td>\n      <td>NaN</td>\n    </tr>\n    <tr>\n      <th>C1</th>\n      <td>NaN</td>\n      <td>NaN</td>\n      <td>14.0</td>\n      <td>15.0</td>\n    </tr>\n  </tbody>\n</table>\n</div>"
     },
     "metadata": {},
     "execution_count": 139
    }
   ],
   "source": [
    "df.stack(level=0)"
   ]
  },
  {
   "source": [
    "## 09. Grouping"
   ],
   "cell_type": "markdown",
   "metadata": {}
  },
  {
   "source": [
    "### Grouping by a single variable"
   ],
   "cell_type": "markdown",
   "metadata": {}
  },
  {
   "cell_type": "code",
   "execution_count": 141,
   "metadata": {},
   "outputs": [],
   "source": [
    "\n",
    "raw_data = {'team': ['Ten Snakes', 'Ten Snakes', 'Ten Snakes', 'Ten Snakes', \n",
    "                                    'Nine Monkeys', 'Nine Monkeys', 'Nine Monkeys', 'Nine Monkeys', \n",
    "                                    'Eight Eagles', 'Eight Eagles'], \n",
    "        'rank': ['1st', '1st', '2nd', '2nd', '1st', '1st', '2nd', '2nd','1st', '2nd'], \n",
    "        'name': ['James', 'Allen', 'Matthew', 'James', 'Devon', 'Sam', 'Justin', 'Sam', 'Paul', 'Ross'], \n",
    "        'score1': [16,35,55,29,2,61,68,41,94,18],\n",
    "        'score2': [81,65,54,44,28,93,2,5,53,99]}\n",
    "df = pd.DataFrame(raw_data, columns = ['team', 'rank', 'name', 'score1', 'score2'])"
   ]
  },
  {
   "cell_type": "code",
   "execution_count": 151,
   "metadata": {},
   "outputs": [
    {
     "output_type": "execute_result",
     "data": {
      "text/plain": [
       "           team rank     name  score1  score2\n",
       "0    Ten Snakes  1st    James      16      81\n",
       "1    Ten Snakes  1st    Allen      35      65\n",
       "2    Ten Snakes  2nd  Matthew      55      54\n",
       "3    Ten Snakes  2nd    James      29      44\n",
       "4  Nine Monkeys  1st    Devon       2      28\n",
       "5  Nine Monkeys  1st      Sam      61      93\n",
       "6  Nine Monkeys  2nd   Justin      68       2\n",
       "7  Nine Monkeys  2nd      Sam      41       5\n",
       "8  Eight Eagles  1st     Paul      94      53\n",
       "9  Eight Eagles  2nd     Ross      18      99"
      ],
      "text/html": "<div>\n<style scoped>\n    .dataframe tbody tr th:only-of-type {\n        vertical-align: middle;\n    }\n\n    .dataframe tbody tr th {\n        vertical-align: top;\n    }\n\n    .dataframe thead th {\n        text-align: right;\n    }\n</style>\n<table border=\"1\" class=\"dataframe\">\n  <thead>\n    <tr style=\"text-align: right;\">\n      <th></th>\n      <th>team</th>\n      <th>rank</th>\n      <th>name</th>\n      <th>score1</th>\n      <th>score2</th>\n    </tr>\n  </thead>\n  <tbody>\n    <tr>\n      <th>0</th>\n      <td>Ten Snakes</td>\n      <td>1st</td>\n      <td>James</td>\n      <td>16</td>\n      <td>81</td>\n    </tr>\n    <tr>\n      <th>1</th>\n      <td>Ten Snakes</td>\n      <td>1st</td>\n      <td>Allen</td>\n      <td>35</td>\n      <td>65</td>\n    </tr>\n    <tr>\n      <th>2</th>\n      <td>Ten Snakes</td>\n      <td>2nd</td>\n      <td>Matthew</td>\n      <td>55</td>\n      <td>54</td>\n    </tr>\n    <tr>\n      <th>3</th>\n      <td>Ten Snakes</td>\n      <td>2nd</td>\n      <td>James</td>\n      <td>29</td>\n      <td>44</td>\n    </tr>\n    <tr>\n      <th>4</th>\n      <td>Nine Monkeys</td>\n      <td>1st</td>\n      <td>Devon</td>\n      <td>2</td>\n      <td>28</td>\n    </tr>\n    <tr>\n      <th>5</th>\n      <td>Nine Monkeys</td>\n      <td>1st</td>\n      <td>Sam</td>\n      <td>61</td>\n      <td>93</td>\n    </tr>\n    <tr>\n      <th>6</th>\n      <td>Nine Monkeys</td>\n      <td>2nd</td>\n      <td>Justin</td>\n      <td>68</td>\n      <td>2</td>\n    </tr>\n    <tr>\n      <th>7</th>\n      <td>Nine Monkeys</td>\n      <td>2nd</td>\n      <td>Sam</td>\n      <td>41</td>\n      <td>5</td>\n    </tr>\n    <tr>\n      <th>8</th>\n      <td>Eight Eagles</td>\n      <td>1st</td>\n      <td>Paul</td>\n      <td>94</td>\n      <td>53</td>\n    </tr>\n    <tr>\n      <th>9</th>\n      <td>Eight Eagles</td>\n      <td>2nd</td>\n      <td>Ross</td>\n      <td>18</td>\n      <td>99</td>\n    </tr>\n  </tbody>\n</table>\n</div>"
     },
     "metadata": {},
     "execution_count": 151
    }
   ],
   "source": [
    "grouped=df.groupby('team')\n",
    "grouped.head()"
   ]
  },
  {
   "cell_type": "code",
   "execution_count": 152,
   "metadata": {},
   "outputs": [
    {
     "output_type": "execute_result",
     "data": {
      "text/plain": [
       "[('Eight Eagles',\n",
       "             team rank  name  score1  score2\n",
       "  8  Eight Eagles  1st  Paul      94      53\n",
       "  9  Eight Eagles  2nd  Ross      18      99),\n",
       " ('Nine Monkeys',\n",
       "             team rank    name  score1  score2\n",
       "  4  Nine Monkeys  1st   Devon       2      28\n",
       "  5  Nine Monkeys  1st     Sam      61      93\n",
       "  6  Nine Monkeys  2nd  Justin      68       2\n",
       "  7  Nine Monkeys  2nd     Sam      41       5),\n",
       " ('Ten Snakes',\n",
       "           team rank     name  score1  score2\n",
       "  0  Ten Snakes  1st    James      16      81\n",
       "  1  Ten Snakes  1st    Allen      35      65\n",
       "  2  Ten Snakes  2nd  Matthew      55      54\n",
       "  3  Ten Snakes  2nd    James      29      44)]"
      ]
     },
     "metadata": {},
     "execution_count": 152
    }
   ],
   "source": [
    "list(grouped)"
   ]
  },
  {
   "cell_type": "code",
   "execution_count": 153,
   "metadata": {},
   "outputs": [
    {
     "output_type": "execute_result",
     "data": {
      "text/plain": [
       "             score1                                                   score2  \\\n",
       "              count   mean        std   min    25%   50%    75%   max  count   \n",
       "team                                                                           \n",
       "Eight Eagles    2.0  56.00  53.740115  18.0  37.00  56.0  75.00  94.0    2.0   \n",
       "Nine Monkeys    4.0  43.00  29.631065   2.0  31.25  51.0  62.75  68.0    4.0   \n",
       "Ten Snakes      4.0  33.75  16.235250  16.0  25.75  32.0  40.00  55.0    4.0   \n",
       "\n",
       "                                                               \n",
       "              mean        std   min    25%   50%    75%   max  \n",
       "team                                                           \n",
       "Eight Eagles  76.0  32.526912  53.0  64.50  76.0  87.50  99.0  \n",
       "Nine Monkeys  32.0  42.292631   2.0   4.25  16.5  44.25  93.0  \n",
       "Ten Snakes    61.0  15.853496  44.0  51.50  59.5  69.00  81.0  "
      ],
      "text/html": "<div>\n<style scoped>\n    .dataframe tbody tr th:only-of-type {\n        vertical-align: middle;\n    }\n\n    .dataframe tbody tr th {\n        vertical-align: top;\n    }\n\n    .dataframe thead tr th {\n        text-align: left;\n    }\n\n    .dataframe thead tr:last-of-type th {\n        text-align: right;\n    }\n</style>\n<table border=\"1\" class=\"dataframe\">\n  <thead>\n    <tr>\n      <th></th>\n      <th colspan=\"8\" halign=\"left\">score1</th>\n      <th colspan=\"8\" halign=\"left\">score2</th>\n    </tr>\n    <tr>\n      <th></th>\n      <th>count</th>\n      <th>mean</th>\n      <th>std</th>\n      <th>min</th>\n      <th>25%</th>\n      <th>50%</th>\n      <th>75%</th>\n      <th>max</th>\n      <th>count</th>\n      <th>mean</th>\n      <th>std</th>\n      <th>min</th>\n      <th>25%</th>\n      <th>50%</th>\n      <th>75%</th>\n      <th>max</th>\n    </tr>\n    <tr>\n      <th>team</th>\n      <th></th>\n      <th></th>\n      <th></th>\n      <th></th>\n      <th></th>\n      <th></th>\n      <th></th>\n      <th></th>\n      <th></th>\n      <th></th>\n      <th></th>\n      <th></th>\n      <th></th>\n      <th></th>\n      <th></th>\n      <th></th>\n    </tr>\n  </thead>\n  <tbody>\n    <tr>\n      <th>Eight Eagles</th>\n      <td>2.0</td>\n      <td>56.00</td>\n      <td>53.740115</td>\n      <td>18.0</td>\n      <td>37.00</td>\n      <td>56.0</td>\n      <td>75.00</td>\n      <td>94.0</td>\n      <td>2.0</td>\n      <td>76.0</td>\n      <td>32.526912</td>\n      <td>53.0</td>\n      <td>64.50</td>\n      <td>76.0</td>\n      <td>87.50</td>\n      <td>99.0</td>\n    </tr>\n    <tr>\n      <th>Nine Monkeys</th>\n      <td>4.0</td>\n      <td>43.00</td>\n      <td>29.631065</td>\n      <td>2.0</td>\n      <td>31.25</td>\n      <td>51.0</td>\n      <td>62.75</td>\n      <td>68.0</td>\n      <td>4.0</td>\n      <td>32.0</td>\n      <td>42.292631</td>\n      <td>2.0</td>\n      <td>4.25</td>\n      <td>16.5</td>\n      <td>44.25</td>\n      <td>93.0</td>\n    </tr>\n    <tr>\n      <th>Ten Snakes</th>\n      <td>4.0</td>\n      <td>33.75</td>\n      <td>16.235250</td>\n      <td>16.0</td>\n      <td>25.75</td>\n      <td>32.0</td>\n      <td>40.00</td>\n      <td>55.0</td>\n      <td>4.0</td>\n      <td>61.0</td>\n      <td>15.853496</td>\n      <td>44.0</td>\n      <td>51.50</td>\n      <td>59.5</td>\n      <td>69.00</td>\n      <td>81.0</td>\n    </tr>\n  </tbody>\n</table>\n</div>"
     },
     "metadata": {},
     "execution_count": 153
    }
   ],
   "source": [
    "grouped.describe()\n"
   ]
  },
  {
   "cell_type": "code",
   "execution_count": 155,
   "metadata": {},
   "outputs": [
    {
     "output_type": "execute_result",
     "data": {
      "text/plain": [
       "team\n",
       "Eight Eagles    2\n",
       "Nine Monkeys    4\n",
       "Ten Snakes      4\n",
       "dtype: int64"
      ]
     },
     "metadata": {},
     "execution_count": 155
    }
   ],
   "source": [
    "grouped.size()"
   ]
  },
  {
   "cell_type": "code",
   "execution_count": 157,
   "metadata": {},
   "outputs": [
    {
     "output_type": "execute_result",
     "data": {
      "text/plain": [
       "              rank  name  score1  score2\n",
       "team                                    \n",
       "Eight Eagles     2     2       2       2\n",
       "Nine Monkeys     4     4       4       4\n",
       "Ten Snakes       4     4       4       4"
      ],
      "text/html": "<div>\n<style scoped>\n    .dataframe tbody tr th:only-of-type {\n        vertical-align: middle;\n    }\n\n    .dataframe tbody tr th {\n        vertical-align: top;\n    }\n\n    .dataframe thead th {\n        text-align: right;\n    }\n</style>\n<table border=\"1\" class=\"dataframe\">\n  <thead>\n    <tr style=\"text-align: right;\">\n      <th></th>\n      <th>rank</th>\n      <th>name</th>\n      <th>score1</th>\n      <th>score2</th>\n    </tr>\n    <tr>\n      <th>team</th>\n      <th></th>\n      <th></th>\n      <th></th>\n      <th></th>\n    </tr>\n  </thead>\n  <tbody>\n    <tr>\n      <th>Eight Eagles</th>\n      <td>2</td>\n      <td>2</td>\n      <td>2</td>\n      <td>2</td>\n    </tr>\n    <tr>\n      <th>Nine Monkeys</th>\n      <td>4</td>\n      <td>4</td>\n      <td>4</td>\n      <td>4</td>\n    </tr>\n    <tr>\n      <th>Ten Snakes</th>\n      <td>4</td>\n      <td>4</td>\n      <td>4</td>\n      <td>4</td>\n    </tr>\n  </tbody>\n</table>\n</div>"
     },
     "metadata": {},
     "execution_count": 157
    }
   ],
   "source": [
    "grouped.count()"
   ]
  },
  {
   "cell_type": "code",
   "execution_count": 158,
   "metadata": {},
   "outputs": [
    {
     "output_type": "execute_result",
     "data": {
      "text/plain": [
       "  rank     name  score1  score2\n",
       "0  1st    James      16      81\n",
       "1  1st    Allen      35      65\n",
       "2  2nd  Matthew      55      54\n",
       "3  2nd    James      29      44"
      ],
      "text/html": "<div>\n<style scoped>\n    .dataframe tbody tr th:only-of-type {\n        vertical-align: middle;\n    }\n\n    .dataframe tbody tr th {\n        vertical-align: top;\n    }\n\n    .dataframe thead th {\n        text-align: right;\n    }\n</style>\n<table border=\"1\" class=\"dataframe\">\n  <thead>\n    <tr style=\"text-align: right;\">\n      <th></th>\n      <th>rank</th>\n      <th>name</th>\n      <th>score1</th>\n      <th>score2</th>\n    </tr>\n  </thead>\n  <tbody>\n    <tr>\n      <th>0</th>\n      <td>1st</td>\n      <td>James</td>\n      <td>16</td>\n      <td>81</td>\n    </tr>\n    <tr>\n      <th>1</th>\n      <td>1st</td>\n      <td>Allen</td>\n      <td>35</td>\n      <td>65</td>\n    </tr>\n    <tr>\n      <th>2</th>\n      <td>2nd</td>\n      <td>Matthew</td>\n      <td>55</td>\n      <td>54</td>\n    </tr>\n    <tr>\n      <th>3</th>\n      <td>2nd</td>\n      <td>James</td>\n      <td>29</td>\n      <td>44</td>\n    </tr>\n  </tbody>\n</table>\n</div>"
     },
     "metadata": {},
     "execution_count": 158
    }
   ],
   "source": [
    "grouped.get_group('Ten Snakes')"
   ]
  },
  {
   "source": [
    "### Grouping by multiple index levels"
   ],
   "cell_type": "markdown",
   "metadata": {}
  },
  {
   "cell_type": "code",
   "execution_count": 159,
   "metadata": {},
   "outputs": [
    {
     "output_type": "execute_result",
     "data": {
      "text/plain": [
       "                      name  score1  score2\n",
       "team         rank                         \n",
       "Ten Snakes   1st     James      16      81\n",
       "             1st     Allen      35      65\n",
       "             2nd   Matthew      55      54\n",
       "             2nd     James      29      44\n",
       "Nine Monkeys 1st     Devon       2      28\n",
       "             1st       Sam      61      93\n",
       "             2nd    Justin      68       2\n",
       "             2nd       Sam      41       5\n",
       "Eight Eagles 1st      Paul      94      53\n",
       "             2nd      Ross      18      99"
      ],
      "text/html": "<div>\n<style scoped>\n    .dataframe tbody tr th:only-of-type {\n        vertical-align: middle;\n    }\n\n    .dataframe tbody tr th {\n        vertical-align: top;\n    }\n\n    .dataframe thead th {\n        text-align: right;\n    }\n</style>\n<table border=\"1\" class=\"dataframe\">\n  <thead>\n    <tr style=\"text-align: right;\">\n      <th></th>\n      <th></th>\n      <th>name</th>\n      <th>score1</th>\n      <th>score2</th>\n    </tr>\n    <tr>\n      <th>team</th>\n      <th>rank</th>\n      <th></th>\n      <th></th>\n      <th></th>\n    </tr>\n  </thead>\n  <tbody>\n    <tr>\n      <th rowspan=\"4\" valign=\"top\">Ten Snakes</th>\n      <th>1st</th>\n      <td>James</td>\n      <td>16</td>\n      <td>81</td>\n    </tr>\n    <tr>\n      <th>1st</th>\n      <td>Allen</td>\n      <td>35</td>\n      <td>65</td>\n    </tr>\n    <tr>\n      <th>2nd</th>\n      <td>Matthew</td>\n      <td>55</td>\n      <td>54</td>\n    </tr>\n    <tr>\n      <th>2nd</th>\n      <td>James</td>\n      <td>29</td>\n      <td>44</td>\n    </tr>\n    <tr>\n      <th rowspan=\"4\" valign=\"top\">Nine Monkeys</th>\n      <th>1st</th>\n      <td>Devon</td>\n      <td>2</td>\n      <td>28</td>\n    </tr>\n    <tr>\n      <th>1st</th>\n      <td>Sam</td>\n      <td>61</td>\n      <td>93</td>\n    </tr>\n    <tr>\n      <th>2nd</th>\n      <td>Justin</td>\n      <td>68</td>\n      <td>2</td>\n    </tr>\n    <tr>\n      <th>2nd</th>\n      <td>Sam</td>\n      <td>41</td>\n      <td>5</td>\n    </tr>\n    <tr>\n      <th rowspan=\"2\" valign=\"top\">Eight Eagles</th>\n      <th>1st</th>\n      <td>Paul</td>\n      <td>94</td>\n      <td>53</td>\n    </tr>\n    <tr>\n      <th>2nd</th>\n      <td>Ross</td>\n      <td>18</td>\n      <td>99</td>\n    </tr>\n  </tbody>\n</table>\n</div>"
     },
     "metadata": {},
     "execution_count": 159
    }
   ],
   "source": [
    "df2 = df.set_index(['team','rank'])\n",
    "df2"
   ]
  },
  {
   "cell_type": "code",
   "execution_count": 165,
   "metadata": {},
   "outputs": [
    {
     "output_type": "execute_result",
     "data": {
      "text/plain": [
       "team          rank\n",
       "Eight Eagles  1st     1\n",
       "              2nd     1\n",
       "Nine Monkeys  1st     2\n",
       "              2nd     2\n",
       "Ten Snakes    1st     2\n",
       "              2nd     2\n",
       "dtype: int64"
      ]
     },
     "metadata": {},
     "execution_count": 165
    }
   ],
   "source": [
    "grouped2 = df2.groupby(level=['team', 'rank'])\n",
    "grouped2.size()"
   ]
  },
  {
   "cell_type": "code",
   "execution_count": 166,
   "metadata": {},
   "outputs": [
    {
     "output_type": "execute_result",
     "data": {
      "text/plain": [
       "                   name  score1  score2\n",
       "team         rank                      \n",
       "Eight Eagles 1st   Paul      94      53"
      ],
      "text/html": "<div>\n<style scoped>\n    .dataframe tbody tr th:only-of-type {\n        vertical-align: middle;\n    }\n\n    .dataframe tbody tr th {\n        vertical-align: top;\n    }\n\n    .dataframe thead th {\n        text-align: right;\n    }\n</style>\n<table border=\"1\" class=\"dataframe\">\n  <thead>\n    <tr style=\"text-align: right;\">\n      <th></th>\n      <th></th>\n      <th>name</th>\n      <th>score1</th>\n      <th>score2</th>\n    </tr>\n    <tr>\n      <th>team</th>\n      <th>rank</th>\n      <th></th>\n      <th></th>\n      <th></th>\n    </tr>\n  </thead>\n  <tbody>\n    <tr>\n      <th>Eight Eagles</th>\n      <th>1st</th>\n      <td>Paul</td>\n      <td>94</td>\n      <td>53</td>\n    </tr>\n  </tbody>\n</table>\n</div>"
     },
     "metadata": {},
     "execution_count": 166
    }
   ],
   "source": [
    "grouped2.get_group(('Eight Eagles','1st'))"
   ]
  },
  {
   "cell_type": "code",
   "execution_count": 167,
   "metadata": {},
   "outputs": [
    {
     "output_type": "execute_result",
     "data": {
      "text/plain": [
       "              score1  score2\n",
       "team                        \n",
       "Eight Eagles     112     152\n",
       "Nine Monkeys     172     128\n",
       "Ten Snakes       135     244"
      ],
      "text/html": "<div>\n<style scoped>\n    .dataframe tbody tr th:only-of-type {\n        vertical-align: middle;\n    }\n\n    .dataframe tbody tr th {\n        vertical-align: top;\n    }\n\n    .dataframe thead th {\n        text-align: right;\n    }\n</style>\n<table border=\"1\" class=\"dataframe\">\n  <thead>\n    <tr style=\"text-align: right;\">\n      <th></th>\n      <th>score1</th>\n      <th>score2</th>\n    </tr>\n    <tr>\n      <th>team</th>\n      <th></th>\n      <th></th>\n    </tr>\n  </thead>\n  <tbody>\n    <tr>\n      <th>Eight Eagles</th>\n      <td>112</td>\n      <td>152</td>\n    </tr>\n    <tr>\n      <th>Nine Monkeys</th>\n      <td>172</td>\n      <td>128</td>\n    </tr>\n    <tr>\n      <th>Ten Snakes</th>\n      <td>135</td>\n      <td>244</td>\n    </tr>\n  </tbody>\n</table>\n</div>"
     },
     "metadata": {},
     "execution_count": 167
    }
   ],
   "source": [
    "# applying a function\n",
    "grouped.agg(np.sum)"
   ]
  },
  {
   "cell_type": "code",
   "execution_count": 168,
   "metadata": {},
   "outputs": [
    {
     "output_type": "execute_result",
     "data": {
      "text/plain": [
       "                   score1  score2\n",
       "team         rank                \n",
       "Eight Eagles 1st       94      53\n",
       "             2nd       18      99\n",
       "Nine Monkeys 1st       63     121\n",
       "             2nd      109       7\n",
       "Ten Snakes   1st       51     146\n",
       "             2nd       84      98"
      ],
      "text/html": "<div>\n<style scoped>\n    .dataframe tbody tr th:only-of-type {\n        vertical-align: middle;\n    }\n\n    .dataframe tbody tr th {\n        vertical-align: top;\n    }\n\n    .dataframe thead th {\n        text-align: right;\n    }\n</style>\n<table border=\"1\" class=\"dataframe\">\n  <thead>\n    <tr style=\"text-align: right;\">\n      <th></th>\n      <th></th>\n      <th>score1</th>\n      <th>score2</th>\n    </tr>\n    <tr>\n      <th>team</th>\n      <th>rank</th>\n      <th></th>\n      <th></th>\n    </tr>\n  </thead>\n  <tbody>\n    <tr>\n      <th rowspan=\"2\" valign=\"top\">Eight Eagles</th>\n      <th>1st</th>\n      <td>94</td>\n      <td>53</td>\n    </tr>\n    <tr>\n      <th>2nd</th>\n      <td>18</td>\n      <td>99</td>\n    </tr>\n    <tr>\n      <th rowspan=\"2\" valign=\"top\">Nine Monkeys</th>\n      <th>1st</th>\n      <td>63</td>\n      <td>121</td>\n    </tr>\n    <tr>\n      <th>2nd</th>\n      <td>109</td>\n      <td>7</td>\n    </tr>\n    <tr>\n      <th rowspan=\"2\" valign=\"top\">Ten Snakes</th>\n      <th>1st</th>\n      <td>51</td>\n      <td>146</td>\n    </tr>\n    <tr>\n      <th>2nd</th>\n      <td>84</td>\n      <td>98</td>\n    </tr>\n  </tbody>\n</table>\n</div>"
     },
     "metadata": {},
     "execution_count": 168
    }
   ],
   "source": [
    "grouped2.agg(np.sum)"
   ]
  },
  {
   "source": [
    "### Filtering by groups"
   ],
   "cell_type": "markdown",
   "metadata": {}
  },
  {
   "cell_type": "code",
   "execution_count": 171,
   "metadata": {},
   "outputs": [],
   "source": [
    "def f(x):\n",
    "    m = x.mean()\n",
    "    return (m.score1 > 50) & (m.score2 > 50)"
   ]
  },
  {
   "cell_type": "code",
   "execution_count": 172,
   "metadata": {},
   "outputs": [
    {
     "output_type": "execute_result",
     "data": {
      "text/plain": [
       "  rank  name  score1  score2\n",
       "8  1st  Paul      94      53\n",
       "9  2nd  Ross      18      99"
      ],
      "text/html": "<div>\n<style scoped>\n    .dataframe tbody tr th:only-of-type {\n        vertical-align: middle;\n    }\n\n    .dataframe tbody tr th {\n        vertical-align: top;\n    }\n\n    .dataframe thead th {\n        text-align: right;\n    }\n</style>\n<table border=\"1\" class=\"dataframe\">\n  <thead>\n    <tr style=\"text-align: right;\">\n      <th></th>\n      <th>rank</th>\n      <th>name</th>\n      <th>score1</th>\n      <th>score2</th>\n    </tr>\n  </thead>\n  <tbody>\n    <tr>\n      <th>8</th>\n      <td>1st</td>\n      <td>Paul</td>\n      <td>94</td>\n      <td>53</td>\n    </tr>\n    <tr>\n      <th>9</th>\n      <td>2nd</td>\n      <td>Ross</td>\n      <td>18</td>\n      <td>99</td>\n    </tr>\n  </tbody>\n</table>\n</div>"
     },
     "metadata": {},
     "execution_count": 172
    }
   ],
   "source": [
    "grouped.filter(f)"
   ]
  },
  {
   "source": [
    "## 10. Exercise: grouping and filtering"
   ],
   "cell_type": "markdown",
   "metadata": {}
  },
  {
   "cell_type": "code",
   "execution_count": 180,
   "metadata": {},
   "outputs": [],
   "source": [
    "def f(x):\n",
    "    min = x.min()\n",
    "    return (x.score1.min()>50) & (x.score2.min()>50)"
   ]
  },
  {
   "cell_type": "code",
   "execution_count": 183,
   "metadata": {},
   "outputs": [
    {
     "output_type": "execute_result",
     "data": {
      "text/plain": [
       "                   name  score1  score2\n",
       "team         rank                      \n",
       "Eight Eagles 1st   Paul      94      53"
      ],
      "text/html": "<div>\n<style scoped>\n    .dataframe tbody tr th:only-of-type {\n        vertical-align: middle;\n    }\n\n    .dataframe tbody tr th {\n        vertical-align: top;\n    }\n\n    .dataframe thead th {\n        text-align: right;\n    }\n</style>\n<table border=\"1\" class=\"dataframe\">\n  <thead>\n    <tr style=\"text-align: right;\">\n      <th></th>\n      <th></th>\n      <th>name</th>\n      <th>score1</th>\n      <th>score2</th>\n    </tr>\n    <tr>\n      <th>team</th>\n      <th>rank</th>\n      <th></th>\n      <th></th>\n      <th></th>\n    </tr>\n  </thead>\n  <tbody>\n    <tr>\n      <th>Eight Eagles</th>\n      <th>1st</th>\n      <td>Paul</td>\n      <td>94</td>\n      <td>53</td>\n    </tr>\n  </tbody>\n</table>\n</div>"
     },
     "metadata": {},
     "execution_count": 183
    }
   ],
   "source": [
    "grouped2.filter(f)"
   ]
  },
  {
   "cell_type": "code",
   "execution_count": null,
   "metadata": {},
   "outputs": [],
   "source": []
  },
  {
   "cell_type": "code",
   "execution_count": null,
   "metadata": {},
   "outputs": [],
   "source": []
  }
 ]
}