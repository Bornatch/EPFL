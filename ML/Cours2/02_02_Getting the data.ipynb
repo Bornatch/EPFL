{
 "metadata": {
  "language_info": {
   "codemirror_mode": {
    "name": "ipython",
    "version": 3
   },
   "file_extension": ".py",
   "mimetype": "text/x-python",
   "name": "python",
   "nbconvert_exporter": "python",
   "pygments_lexer": "ipython3",
   "version": "3.6.13"
  },
  "orig_nbformat": 2,
  "kernelspec": {
   "name": "python3613jvsc74a57bd096112b273da02500fca82f24d37a320def3fe5535540567717f501ae01de40a6",
   "display_name": "Python 3.6.13 64-bit ('exts-ml': conda)"
  }
 },
 "nbformat": 4,
 "nbformat_minor": 2,
 "cells": [
  {
   "source": [
    "# 02. Getting the data"
   ],
   "cell_type": "markdown",
   "metadata": {}
  },
  {
   "cell_type": "code",
   "execution_count": 1,
   "metadata": {},
   "outputs": [],
   "source": [
    "import numpy as np\n",
    "import pandas as pd"
   ]
  },
  {
   "source": [
    "## 02. Reading data from csv files"
   ],
   "cell_type": "markdown",
   "metadata": {}
  },
  {
   "cell_type": "code",
   "execution_count": 2,
   "metadata": {},
   "outputs": [
    {
     "output_type": "execute_result",
     "data": {
      "text/plain": [
       "        a   b  c    d\n",
       "0  yellow  10  2  3.2\n",
       "1   green   2  3  8.1\n",
       "2    blue   7  1  0.4"
      ],
      "text/html": "<div>\n<style scoped>\n    .dataframe tbody tr th:only-of-type {\n        vertical-align: middle;\n    }\n\n    .dataframe tbody tr th {\n        vertical-align: top;\n    }\n\n    .dataframe thead th {\n        text-align: right;\n    }\n</style>\n<table border=\"1\" class=\"dataframe\">\n  <thead>\n    <tr style=\"text-align: right;\">\n      <th></th>\n      <th>a</th>\n      <th>b</th>\n      <th>c</th>\n      <th>d</th>\n    </tr>\n  </thead>\n  <tbody>\n    <tr>\n      <th>0</th>\n      <td>yellow</td>\n      <td>10</td>\n      <td>2</td>\n      <td>3.2</td>\n    </tr>\n    <tr>\n      <th>1</th>\n      <td>green</td>\n      <td>2</td>\n      <td>3</td>\n      <td>8.1</td>\n    </tr>\n    <tr>\n      <th>2</th>\n      <td>blue</td>\n      <td>7</td>\n      <td>1</td>\n      <td>0.4</td>\n    </tr>\n  </tbody>\n</table>\n</div>"
     },
     "metadata": {},
     "execution_count": 2
    }
   ],
   "source": [
    "df = pd.read_csv('data/file.csv')\n",
    "df"
   ]
  },
  {
   "cell_type": "code",
   "execution_count": 3,
   "metadata": {},
   "outputs": [
    {
     "output_type": "execute_result",
     "data": {
      "text/plain": [
       "        0   1  2    3\n",
       "0       a   b  c    d\n",
       "1  yellow  10  2  3.2\n",
       "2   green   2  3  8.1\n",
       "3    blue   7  1  0.4"
      ],
      "text/html": "<div>\n<style scoped>\n    .dataframe tbody tr th:only-of-type {\n        vertical-align: middle;\n    }\n\n    .dataframe tbody tr th {\n        vertical-align: top;\n    }\n\n    .dataframe thead th {\n        text-align: right;\n    }\n</style>\n<table border=\"1\" class=\"dataframe\">\n  <thead>\n    <tr style=\"text-align: right;\">\n      <th></th>\n      <th>0</th>\n      <th>1</th>\n      <th>2</th>\n      <th>3</th>\n    </tr>\n  </thead>\n  <tbody>\n    <tr>\n      <th>0</th>\n      <td>a</td>\n      <td>b</td>\n      <td>c</td>\n      <td>d</td>\n    </tr>\n    <tr>\n      <th>1</th>\n      <td>yellow</td>\n      <td>10</td>\n      <td>2</td>\n      <td>3.2</td>\n    </tr>\n    <tr>\n      <th>2</th>\n      <td>green</td>\n      <td>2</td>\n      <td>3</td>\n      <td>8.1</td>\n    </tr>\n    <tr>\n      <th>3</th>\n      <td>blue</td>\n      <td>7</td>\n      <td>1</td>\n      <td>0.4</td>\n    </tr>\n  </tbody>\n</table>\n</div>"
     },
     "metadata": {},
     "execution_count": 3
    }
   ],
   "source": [
    "pd.read_csv('data/file.csv', header=None)"
   ]
  },
  {
   "cell_type": "code",
   "execution_count": 4,
   "metadata": {},
   "outputs": [
    {
     "output_type": "execute_result",
     "data": {
      "text/plain": [
       "  column 1 column 2 column 3 column 4\n",
       "0        a        b        c        d\n",
       "1   yellow       10        2      3.2\n",
       "2    green        2        3      8.1\n",
       "3     blue        7        1      0.4"
      ],
      "text/html": "<div>\n<style scoped>\n    .dataframe tbody tr th:only-of-type {\n        vertical-align: middle;\n    }\n\n    .dataframe tbody tr th {\n        vertical-align: top;\n    }\n\n    .dataframe thead th {\n        text-align: right;\n    }\n</style>\n<table border=\"1\" class=\"dataframe\">\n  <thead>\n    <tr style=\"text-align: right;\">\n      <th></th>\n      <th>column 1</th>\n      <th>column 2</th>\n      <th>column 3</th>\n      <th>column 4</th>\n    </tr>\n  </thead>\n  <tbody>\n    <tr>\n      <th>0</th>\n      <td>a</td>\n      <td>b</td>\n      <td>c</td>\n      <td>d</td>\n    </tr>\n    <tr>\n      <th>1</th>\n      <td>yellow</td>\n      <td>10</td>\n      <td>2</td>\n      <td>3.2</td>\n    </tr>\n    <tr>\n      <th>2</th>\n      <td>green</td>\n      <td>2</td>\n      <td>3</td>\n      <td>8.1</td>\n    </tr>\n    <tr>\n      <th>3</th>\n      <td>blue</td>\n      <td>7</td>\n      <td>1</td>\n      <td>0.4</td>\n    </tr>\n  </tbody>\n</table>\n</div>"
     },
     "metadata": {},
     "execution_count": 4
    }
   ],
   "source": [
    "pd.read_csv('data/file.csv',names=['column 1','column 2','column 3','column 4'])\n"
   ]
  },
  {
   "cell_type": "code",
   "execution_count": 5,
   "metadata": {},
   "outputs": [
    {
     "output_type": "execute_result",
     "data": {
      "text/plain": [
       "         b  c    d\n",
       "a                 \n",
       "yellow  10  2  3.2\n",
       "green    2  3  8.1\n",
       "blue     7  1  0.4"
      ],
      "text/html": "<div>\n<style scoped>\n    .dataframe tbody tr th:only-of-type {\n        vertical-align: middle;\n    }\n\n    .dataframe tbody tr th {\n        vertical-align: top;\n    }\n\n    .dataframe thead th {\n        text-align: right;\n    }\n</style>\n<table border=\"1\" class=\"dataframe\">\n  <thead>\n    <tr style=\"text-align: right;\">\n      <th></th>\n      <th>b</th>\n      <th>c</th>\n      <th>d</th>\n    </tr>\n    <tr>\n      <th>a</th>\n      <th></th>\n      <th></th>\n      <th></th>\n    </tr>\n  </thead>\n  <tbody>\n    <tr>\n      <th>yellow</th>\n      <td>10</td>\n      <td>2</td>\n      <td>3.2</td>\n    </tr>\n    <tr>\n      <th>green</th>\n      <td>2</td>\n      <td>3</td>\n      <td>8.1</td>\n    </tr>\n    <tr>\n      <th>blue</th>\n      <td>7</td>\n      <td>1</td>\n      <td>0.4</td>\n    </tr>\n  </tbody>\n</table>\n</div>"
     },
     "metadata": {},
     "execution_count": 5
    }
   ],
   "source": [
    "pd.read_csv('data/file.csv', index_col=0)\n"
   ]
  },
  {
   "cell_type": "code",
   "execution_count": 6,
   "metadata": {},
   "outputs": [
    {
     "output_type": "execute_result",
     "data": {
      "text/plain": [
       "        a   b\n",
       "0  yellow  10\n",
       "1   green   2\n",
       "2    blue   7"
      ],
      "text/html": "<div>\n<style scoped>\n    .dataframe tbody tr th:only-of-type {\n        vertical-align: middle;\n    }\n\n    .dataframe tbody tr th {\n        vertical-align: top;\n    }\n\n    .dataframe thead th {\n        text-align: right;\n    }\n</style>\n<table border=\"1\" class=\"dataframe\">\n  <thead>\n    <tr style=\"text-align: right;\">\n      <th></th>\n      <th>a</th>\n      <th>b</th>\n    </tr>\n  </thead>\n  <tbody>\n    <tr>\n      <th>0</th>\n      <td>yellow</td>\n      <td>10</td>\n    </tr>\n    <tr>\n      <th>1</th>\n      <td>green</td>\n      <td>2</td>\n    </tr>\n    <tr>\n      <th>2</th>\n      <td>blue</td>\n      <td>7</td>\n    </tr>\n  </tbody>\n</table>\n</div>"
     },
     "metadata": {},
     "execution_count": 6
    }
   ],
   "source": [
    "pd.read_csv(\"data/file.csv\", usecols=['a', 'b'])"
   ]
  },
  {
   "cell_type": "code",
   "execution_count": 7,
   "metadata": {},
   "outputs": [
    {
     "output_type": "execute_result",
     "data": {
      "text/plain": [
       "a     object\n",
       "b      int64\n",
       "c      int64\n",
       "d    float64\n",
       "dtype: object"
      ]
     },
     "metadata": {},
     "execution_count": 7
    }
   ],
   "source": [
    "df.dtypes"
   ]
  },
  {
   "cell_type": "code",
   "execution_count": 8,
   "metadata": {},
   "outputs": [
    {
     "output_type": "execute_result",
     "data": {
      "text/plain": [
       "a     object\n",
       "b    float64\n",
       "c      int64\n",
       "d    float64\n",
       "dtype: object"
      ]
     },
     "metadata": {},
     "execution_count": 8
    }
   ],
   "source": [
    "df2 = pd.read_csv('data/file.csv',  dtype = { 'b' : np.float64})\n",
    "df2.dtypes"
   ]
  },
  {
   "source": [
    "## 03. Reading data from Excel files"
   ],
   "cell_type": "markdown",
   "metadata": {}
  },
  {
   "cell_type": "code",
   "execution_count": 9,
   "metadata": {},
   "outputs": [
    {
     "output_type": "execute_result",
     "data": {
      "text/plain": [
       "       varA      varB      varC\n",
       "0  0.391723 -0.155122  0.381104\n",
       "1  0.575125 -0.105817  0.232245\n",
       "2  0.672305  0.424688 -0.694795\n",
       "3  0.766115 -0.791350 -0.028739\n",
       "4  0.677259 -0.817543 -0.537088\n",
       "5 -0.029702 -0.891848 -0.682719\n",
       "6 -0.161366 -0.659600 -0.727898\n",
       "7  0.031672  0.016607 -0.940479\n",
       "8  0.833212 -0.503236 -0.887210\n",
       "9  0.907753  0.265177 -0.390762"
      ],
      "text/html": "<div>\n<style scoped>\n    .dataframe tbody tr th:only-of-type {\n        vertical-align: middle;\n    }\n\n    .dataframe tbody tr th {\n        vertical-align: top;\n    }\n\n    .dataframe thead th {\n        text-align: right;\n    }\n</style>\n<table border=\"1\" class=\"dataframe\">\n  <thead>\n    <tr style=\"text-align: right;\">\n      <th></th>\n      <th>varA</th>\n      <th>varB</th>\n      <th>varC</th>\n    </tr>\n  </thead>\n  <tbody>\n    <tr>\n      <th>0</th>\n      <td>0.391723</td>\n      <td>-0.155122</td>\n      <td>0.381104</td>\n    </tr>\n    <tr>\n      <th>1</th>\n      <td>0.575125</td>\n      <td>-0.105817</td>\n      <td>0.232245</td>\n    </tr>\n    <tr>\n      <th>2</th>\n      <td>0.672305</td>\n      <td>0.424688</td>\n      <td>-0.694795</td>\n    </tr>\n    <tr>\n      <th>3</th>\n      <td>0.766115</td>\n      <td>-0.791350</td>\n      <td>-0.028739</td>\n    </tr>\n    <tr>\n      <th>4</th>\n      <td>0.677259</td>\n      <td>-0.817543</td>\n      <td>-0.537088</td>\n    </tr>\n    <tr>\n      <th>5</th>\n      <td>-0.029702</td>\n      <td>-0.891848</td>\n      <td>-0.682719</td>\n    </tr>\n    <tr>\n      <th>6</th>\n      <td>-0.161366</td>\n      <td>-0.659600</td>\n      <td>-0.727898</td>\n    </tr>\n    <tr>\n      <th>7</th>\n      <td>0.031672</td>\n      <td>0.016607</td>\n      <td>-0.940479</td>\n    </tr>\n    <tr>\n      <th>8</th>\n      <td>0.833212</td>\n      <td>-0.503236</td>\n      <td>-0.887210</td>\n    </tr>\n    <tr>\n      <th>9</th>\n      <td>0.907753</td>\n      <td>0.265177</td>\n      <td>-0.390762</td>\n    </tr>\n  </tbody>\n</table>\n</div>"
     },
     "metadata": {},
     "execution_count": 9
    }
   ],
   "source": [
    "pd.read_excel('data/data.xls')"
   ]
  },
  {
   "cell_type": "code",
   "execution_count": 10,
   "metadata": {},
   "outputs": [
    {
     "output_type": "execute_result",
     "data": {
      "text/plain": [
       "       varD      varE\n",
       "0  0.907753  0.265177\n",
       "1  0.755019 -0.768056\n",
       "2  0.850692 -0.537159\n",
       "3  0.131663  0.941327\n",
       "4  0.574400  0.091735\n",
       "5  0.816630  0.875612\n",
       "6  0.536732  0.175428\n",
       "7 -0.084641 -0.042827\n",
       "8  0.268271 -0.010628\n",
       "9  0.166792 -0.872579"
      ],
      "text/html": "<div>\n<style scoped>\n    .dataframe tbody tr th:only-of-type {\n        vertical-align: middle;\n    }\n\n    .dataframe tbody tr th {\n        vertical-align: top;\n    }\n\n    .dataframe thead th {\n        text-align: right;\n    }\n</style>\n<table border=\"1\" class=\"dataframe\">\n  <thead>\n    <tr style=\"text-align: right;\">\n      <th></th>\n      <th>varD</th>\n      <th>varE</th>\n    </tr>\n  </thead>\n  <tbody>\n    <tr>\n      <th>0</th>\n      <td>0.907753</td>\n      <td>0.265177</td>\n    </tr>\n    <tr>\n      <th>1</th>\n      <td>0.755019</td>\n      <td>-0.768056</td>\n    </tr>\n    <tr>\n      <th>2</th>\n      <td>0.850692</td>\n      <td>-0.537159</td>\n    </tr>\n    <tr>\n      <th>3</th>\n      <td>0.131663</td>\n      <td>0.941327</td>\n    </tr>\n    <tr>\n      <th>4</th>\n      <td>0.574400</td>\n      <td>0.091735</td>\n    </tr>\n    <tr>\n      <th>5</th>\n      <td>0.816630</td>\n      <td>0.875612</td>\n    </tr>\n    <tr>\n      <th>6</th>\n      <td>0.536732</td>\n      <td>0.175428</td>\n    </tr>\n    <tr>\n      <th>7</th>\n      <td>-0.084641</td>\n      <td>-0.042827</td>\n    </tr>\n    <tr>\n      <th>8</th>\n      <td>0.268271</td>\n      <td>-0.010628</td>\n    </tr>\n    <tr>\n      <th>9</th>\n      <td>0.166792</td>\n      <td>-0.872579</td>\n    </tr>\n  </tbody>\n</table>\n</div>"
     },
     "metadata": {},
     "execution_count": 10
    }
   ],
   "source": [
    "pd.read_excel('data/data.xls', sheet_name='Sheet2',usecols=[0,1])"
   ]
  },
  {
   "source": [
    "## 04. JSON data"
   ],
   "cell_type": "markdown",
   "metadata": {}
  },
  {
   "cell_type": "code",
   "execution_count": 11,
   "metadata": {},
   "outputs": [],
   "source": [
    "import json\n",
    "from pandas.io.json import json_normalize"
   ]
  },
  {
   "cell_type": "code",
   "execution_count": 12,
   "metadata": {},
   "outputs": [
    {
     "output_type": "execute_result",
     "data": {
      "text/plain": [
       "                                               books\n",
       "0  {'isbn': '9781593275846', 'title': 'Eloquent J...\n",
       "1  {'isbn': '9781449331818', 'title': 'Learning J...\n",
       "2  {'isbn': '9781449365035', 'title': 'Speaking J..."
      ],
      "text/html": "<div>\n<style scoped>\n    .dataframe tbody tr th:only-of-type {\n        vertical-align: middle;\n    }\n\n    .dataframe tbody tr th {\n        vertical-align: top;\n    }\n\n    .dataframe thead th {\n        text-align: right;\n    }\n</style>\n<table border=\"1\" class=\"dataframe\">\n  <thead>\n    <tr style=\"text-align: right;\">\n      <th></th>\n      <th>books</th>\n    </tr>\n  </thead>\n  <tbody>\n    <tr>\n      <th>0</th>\n      <td>{'isbn': '9781593275846', 'title': 'Eloquent J...</td>\n    </tr>\n    <tr>\n      <th>1</th>\n      <td>{'isbn': '9781449331818', 'title': 'Learning J...</td>\n    </tr>\n    <tr>\n      <th>2</th>\n      <td>{'isbn': '9781449365035', 'title': 'Speaking J...</td>\n    </tr>\n  </tbody>\n</table>\n</div>"
     },
     "metadata": {},
     "execution_count": 12
    }
   ],
   "source": [
    "pd.read_json('data/books.json')"
   ]
  },
  {
   "cell_type": "code",
   "execution_count": 13,
   "metadata": {},
   "outputs": [],
   "source": [
    "with open('data/books.json', 'r') as f:\n",
    "    json_string = f.read()\n",
    "    dictionary = json.loads(json_string)"
   ]
  },
  {
   "cell_type": "code",
   "execution_count": 14,
   "metadata": {},
   "outputs": [
    {
     "output_type": "execute_result",
     "data": {
      "text/plain": [
       "{'books': [{'isbn': '9781593275846',\n",
       "   'title': 'Eloquent JavaScript, Second Edition',\n",
       "   'subtitle': 'A Modern Introduction to Programming',\n",
       "   'author': 'Marijn Haverbeke',\n",
       "   'published': '2014-12-14T00:00:00.000Z',\n",
       "   'publisher': 'No Starch Press',\n",
       "   'pages': 472,\n",
       "   'description': 'JavaScript lies at the heart of almost every modern web application, from social apps to the newest browser-based games. Though simple for beginners to pick up and play with, JavaScript is a flexible, complex language that you can use to build full-scale applications.',\n",
       "   'website': 'http://eloquentjavascript.net/'},\n",
       "  {'isbn': '9781449331818',\n",
       "   'title': 'Learning JavaScript Design Patterns',\n",
       "   'subtitle': \"A JavaScript and jQuery Developer's Guide\",\n",
       "   'author': 'Addy Osmani',\n",
       "   'published': '2012-07-01T00:00:00.000Z',\n",
       "   'publisher': \"O'Reilly Media\",\n",
       "   'pages': 254,\n",
       "   'description': \"With Learning JavaScript Design Patterns, you'll learn how to write beautiful, structured, and maintainable JavaScript by applying classical and modern design patterns to the language. If you want to keep your code efficient, more manageable, and up-to-date with the latest best practices, this book is for you.\",\n",
       "   'website': 'http://www.addyosmani.com/resources/essentialjsdesignpatterns/book/'},\n",
       "  {'isbn': '9781449365035',\n",
       "   'title': 'Speaking JavaScript',\n",
       "   'subtitle': 'An In-Depth Guide for Programmers',\n",
       "   'author': 'Axel Rauschmayer',\n",
       "   'published': '2014-02-01T00:00:00.000Z',\n",
       "   'publisher': \"O'Reilly Media\",\n",
       "   'pages': 460,\n",
       "   'description': 'Like it or not, JavaScript is everywhere these days-from browser to server to mobile-and now you, too, need to learn the language or dive deeper than you have. This concise book guides you into and through JavaScript, written by a veteran programmer who once found himself in the same position.',\n",
       "   'website': 'http://speakingjs.com/'}]}"
      ]
     },
     "metadata": {},
     "execution_count": 14
    }
   ],
   "source": [
    "dictionary"
   ]
  },
  {
   "cell_type": "code",
   "execution_count": 15,
   "metadata": {},
   "outputs": [
    {
     "output_type": "execute_result",
     "data": {
      "text/plain": [
       "             author                                        description  \\\n",
       "0  Marijn Haverbeke  JavaScript lies at the heart of almost every m...   \n",
       "1       Addy Osmani  With Learning JavaScript Design Patterns, you'...   \n",
       "2  Axel Rauschmayer  Like it or not, JavaScript is everywhere these...   \n",
       "\n",
       "            isbn  pages                 published        publisher  \\\n",
       "0  9781593275846    472  2014-12-14T00:00:00.000Z  No Starch Press   \n",
       "1  9781449331818    254  2012-07-01T00:00:00.000Z   O'Reilly Media   \n",
       "2  9781449365035    460  2014-02-01T00:00:00.000Z   O'Reilly Media   \n",
       "\n",
       "                                    subtitle  \\\n",
       "0       A Modern Introduction to Programming   \n",
       "1  A JavaScript and jQuery Developer's Guide   \n",
       "2          An In-Depth Guide for Programmers   \n",
       "\n",
       "                                 title  \\\n",
       "0  Eloquent JavaScript, Second Edition   \n",
       "1  Learning JavaScript Design Patterns   \n",
       "2                  Speaking JavaScript   \n",
       "\n",
       "                                             website  \n",
       "0                     http://eloquentjavascript.net/  \n",
       "1  http://www.addyosmani.com/resources/essentialj...  \n",
       "2                             http://speakingjs.com/  "
      ],
      "text/html": "<div>\n<style scoped>\n    .dataframe tbody tr th:only-of-type {\n        vertical-align: middle;\n    }\n\n    .dataframe tbody tr th {\n        vertical-align: top;\n    }\n\n    .dataframe thead th {\n        text-align: right;\n    }\n</style>\n<table border=\"1\" class=\"dataframe\">\n  <thead>\n    <tr style=\"text-align: right;\">\n      <th></th>\n      <th>author</th>\n      <th>description</th>\n      <th>isbn</th>\n      <th>pages</th>\n      <th>published</th>\n      <th>publisher</th>\n      <th>subtitle</th>\n      <th>title</th>\n      <th>website</th>\n    </tr>\n  </thead>\n  <tbody>\n    <tr>\n      <th>0</th>\n      <td>Marijn Haverbeke</td>\n      <td>JavaScript lies at the heart of almost every m...</td>\n      <td>9781593275846</td>\n      <td>472</td>\n      <td>2014-12-14T00:00:00.000Z</td>\n      <td>No Starch Press</td>\n      <td>A Modern Introduction to Programming</td>\n      <td>Eloquent JavaScript, Second Edition</td>\n      <td>http://eloquentjavascript.net/</td>\n    </tr>\n    <tr>\n      <th>1</th>\n      <td>Addy Osmani</td>\n      <td>With Learning JavaScript Design Patterns, you'...</td>\n      <td>9781449331818</td>\n      <td>254</td>\n      <td>2012-07-01T00:00:00.000Z</td>\n      <td>O'Reilly Media</td>\n      <td>A JavaScript and jQuery Developer's Guide</td>\n      <td>Learning JavaScript Design Patterns</td>\n      <td>http://www.addyosmani.com/resources/essentialj...</td>\n    </tr>\n    <tr>\n      <th>2</th>\n      <td>Axel Rauschmayer</td>\n      <td>Like it or not, JavaScript is everywhere these...</td>\n      <td>9781449365035</td>\n      <td>460</td>\n      <td>2014-02-01T00:00:00.000Z</td>\n      <td>O'Reilly Media</td>\n      <td>An In-Depth Guide for Programmers</td>\n      <td>Speaking JavaScript</td>\n      <td>http://speakingjs.com/</td>\n    </tr>\n  </tbody>\n</table>\n</div>"
     },
     "metadata": {},
     "execution_count": 15
    }
   ],
   "source": [
    "json_normalize(dictionary, 'books')"
   ]
  },
  {
   "source": [
    "## 05. HTML files\n",
    "\n",
    "* Download HTML code using the requests library\n",
    "* Create a BeautifulSoup object to contain the parse HTML code\n",
    "* Look for patterns identifying the information that you want to extract from the code\n",
    "* Search for specific tags using the find_all() method\n",
    "* Iterate over the object returned by find_all() and use the text attribute to extract the text * between each set of tags\n",
    "* Store the strings in a Python list and convert to a DataFrame for further analysis"
   ],
   "cell_type": "markdown",
   "metadata": {}
  },
  {
   "cell_type": "code",
   "execution_count": 16,
   "metadata": {},
   "outputs": [],
   "source": [
    "import requests"
   ]
  },
  {
   "cell_type": "code",
   "execution_count": 17,
   "metadata": {},
   "outputs": [],
   "source": [
    "page=requests.get('https://web.archive.org/web/20180908144902/en.proverbia.net/shortfamousquotes.asp')"
   ]
  },
  {
   "cell_type": "code",
   "execution_count": 18,
   "metadata": {},
   "outputs": [
    {
     "output_type": "execute_result",
     "data": {
      "text/plain": [
       "'\\n<!DOCTYPE html>\\n\\n<html lang=\"en\" xml:lang=\"en\">\\n<head><script src=\"//archive.org/includes/analytics'"
      ]
     },
     "metadata": {},
     "execution_count": 18
    }
   ],
   "source": [
    "page.text[0:100]"
   ]
  },
  {
   "cell_type": "code",
   "execution_count": 19,
   "metadata": {},
   "outputs": [
    {
     "output_type": "execute_result",
     "data": {
      "text/plain": [
       "200"
      ]
     },
     "metadata": {},
     "execution_count": 19
    }
   ],
   "source": [
    "page.status_code"
   ]
  },
  {
   "source": [
    "## 06. Web scraping"
   ],
   "cell_type": "markdown",
   "metadata": {}
  },
  {
   "cell_type": "code",
   "execution_count": 20,
   "metadata": {},
   "outputs": [],
   "source": [
    "from bs4 import BeautifulSoup"
   ]
  },
  {
   "cell_type": "code",
   "execution_count": 21,
   "metadata": {},
   "outputs": [],
   "source": [
    "soup = BeautifulSoup(page.text, 'html.parser')"
   ]
  },
  {
   "cell_type": "code",
   "execution_count": 22,
   "metadata": {},
   "outputs": [],
   "source": [
    "quotes = soup.find_all('blockquote')"
   ]
  },
  {
   "cell_type": "code",
   "execution_count": 30,
   "metadata": {},
   "outputs": [],
   "source": [
    "quote_list = []\n",
    "for quote in quotes:\n",
    "    string = quote.text\n",
    "    quote_list.append(string)"
   ]
  },
  {
   "cell_type": "code",
   "execution_count": 31,
   "metadata": {},
   "outputs": [
    {
     "output_type": "execute_result",
     "data": {
      "text/plain": [
       "                                               Quote\n",
       "0  There is a natural aristocracy among men. The ...\n",
       "1  All our words from loose using have lost their...\n",
       "2  God couldn't be everywhere, so he created moth...\n",
       "3  Be not afraid of going slowly, be afraid only ...\n",
       "4  Learn from yesterday, live for today, hope for...\n",
       "5  Do not confine your children to your own learn...\n",
       "6  I hear and I forget, I see and I remember. I d...\n",
       "7            In teaching others we teach ourselves. \n",
       "8  Happiness will never come to those who fail to...\n",
       "9  Without His love I can do nothing, with His lo..."
      ],
      "text/html": "<div>\n<style scoped>\n    .dataframe tbody tr th:only-of-type {\n        vertical-align: middle;\n    }\n\n    .dataframe tbody tr th {\n        vertical-align: top;\n    }\n\n    .dataframe thead th {\n        text-align: right;\n    }\n</style>\n<table border=\"1\" class=\"dataframe\">\n  <thead>\n    <tr style=\"text-align: right;\">\n      <th></th>\n      <th>Quote</th>\n    </tr>\n  </thead>\n  <tbody>\n    <tr>\n      <th>0</th>\n      <td>There is a natural aristocracy among men. The ...</td>\n    </tr>\n    <tr>\n      <th>1</th>\n      <td>All our words from loose using have lost their...</td>\n    </tr>\n    <tr>\n      <th>2</th>\n      <td>God couldn't be everywhere, so he created moth...</td>\n    </tr>\n    <tr>\n      <th>3</th>\n      <td>Be not afraid of going slowly, be afraid only ...</td>\n    </tr>\n    <tr>\n      <th>4</th>\n      <td>Learn from yesterday, live for today, hope for...</td>\n    </tr>\n    <tr>\n      <th>5</th>\n      <td>Do not confine your children to your own learn...</td>\n    </tr>\n    <tr>\n      <th>6</th>\n      <td>I hear and I forget, I see and I remember. I d...</td>\n    </tr>\n    <tr>\n      <th>7</th>\n      <td>In teaching others we teach ourselves.</td>\n    </tr>\n    <tr>\n      <th>8</th>\n      <td>Happiness will never come to those who fail to...</td>\n    </tr>\n    <tr>\n      <th>9</th>\n      <td>Without His love I can do nothing, with His lo...</td>\n    </tr>\n  </tbody>\n</table>\n</div>"
     },
     "metadata": {},
     "execution_count": 31
    }
   ],
   "source": [
    "df = pd.DataFrame(quote_list, columns=['Quote'])\n",
    "df"
   ]
  },
  {
   "cell_type": "code",
   "execution_count": 24,
   "metadata": {},
   "outputs": [],
   "source": [
    "authors=soup.find_all('p', class_=\"a\")"
   ]
  },
  {
   "cell_type": "code",
   "execution_count": 27,
   "metadata": {},
   "outputs": [
    {
     "output_type": "execute_result",
     "data": {
      "text/plain": [
       "'Thomas Jefferson (1743-1826) Third president of the United States.'"
      ]
     },
     "metadata": {},
     "execution_count": 27
    }
   ],
   "source": [
    "authors[0].text[1:-1]\n"
   ]
  },
  {
   "cell_type": "code",
   "execution_count": 32,
   "metadata": {},
   "outputs": [
    {
     "output_type": "execute_result",
     "data": {
      "text/plain": [
       "                                               Quote  \\\n",
       "0  There is a natural aristocracy among men. The ...   \n",
       "1  All our words from loose using have lost their...   \n",
       "2  God couldn't be everywhere, so he created moth...   \n",
       "3  Be not afraid of going slowly, be afraid only ...   \n",
       "4  Learn from yesterday, live for today, hope for...   \n",
       "5  Do not confine your children to your own learn...   \n",
       "6  I hear and I forget, I see and I remember. I d...   \n",
       "7            In teaching others we teach ourselves.    \n",
       "8  Happiness will never come to those who fail to...   \n",
       "9  Without His love I can do nothing, with His lo...   \n",
       "\n",
       "                                              Author  \n",
       "0  Thomas Jefferson (1743-1826) Third president o...  \n",
       "1      Ernest Hemingway (1898-1961) American Writer.  \n",
       "2                                    Jewish proverb   \n",
       "3                                   Chinese proverb   \n",
       "4                                    Unknown Source   \n",
       "5                                   Chinese proverb   \n",
       "6                                   Chinese proverb   \n",
       "7                                           Proverb   \n",
       "8                                    Unknown Source   \n",
       "9                                    Unknown Source   "
      ],
      "text/html": "<div>\n<style scoped>\n    .dataframe tbody tr th:only-of-type {\n        vertical-align: middle;\n    }\n\n    .dataframe tbody tr th {\n        vertical-align: top;\n    }\n\n    .dataframe thead th {\n        text-align: right;\n    }\n</style>\n<table border=\"1\" class=\"dataframe\">\n  <thead>\n    <tr style=\"text-align: right;\">\n      <th></th>\n      <th>Quote</th>\n      <th>Author</th>\n    </tr>\n  </thead>\n  <tbody>\n    <tr>\n      <th>0</th>\n      <td>There is a natural aristocracy among men. The ...</td>\n      <td>Thomas Jefferson (1743-1826) Third president o...</td>\n    </tr>\n    <tr>\n      <th>1</th>\n      <td>All our words from loose using have lost their...</td>\n      <td>Ernest Hemingway (1898-1961) American Writer.</td>\n    </tr>\n    <tr>\n      <th>2</th>\n      <td>God couldn't be everywhere, so he created moth...</td>\n      <td>Jewish proverb</td>\n    </tr>\n    <tr>\n      <th>3</th>\n      <td>Be not afraid of going slowly, be afraid only ...</td>\n      <td>Chinese proverb</td>\n    </tr>\n    <tr>\n      <th>4</th>\n      <td>Learn from yesterday, live for today, hope for...</td>\n      <td>Unknown Source</td>\n    </tr>\n    <tr>\n      <th>5</th>\n      <td>Do not confine your children to your own learn...</td>\n      <td>Chinese proverb</td>\n    </tr>\n    <tr>\n      <th>6</th>\n      <td>I hear and I forget, I see and I remember. I d...</td>\n      <td>Chinese proverb</td>\n    </tr>\n    <tr>\n      <th>7</th>\n      <td>In teaching others we teach ourselves.</td>\n      <td>Proverb</td>\n    </tr>\n    <tr>\n      <th>8</th>\n      <td>Happiness will never come to those who fail to...</td>\n      <td>Unknown Source</td>\n    </tr>\n    <tr>\n      <th>9</th>\n      <td>Without His love I can do nothing, with His lo...</td>\n      <td>Unknown Source</td>\n    </tr>\n  </tbody>\n</table>\n</div>"
     },
     "metadata": {},
     "execution_count": 32
    }
   ],
   "source": [
    "author_list=[]\n",
    "for author in authors:\n",
    "    string = author.text[1:-1]\n",
    "    author_list.append(string)\n",
    "df['Author']=author_list\n",
    "df"
   ]
  },
  {
   "cell_type": "code",
   "execution_count": 33,
   "metadata": {},
   "outputs": [
    {
     "output_type": "stream",
     "name": "stdout",
     "text": [
      "1\n                   Additive  Products   * Risk\n0        E330 - Citric acid    130608 NaN  NaN\n1          E322 - Lecithins     88562 NaN  NaN\n2          E322i - Lecithin     80999 NaN  NaN\n3  E500 - Sodium carbonates     55590 NaN  NaN\n4        E415 - Xanthan gum     49628 NaN  NaN\n"
     ]
    }
   ],
   "source": [
    "tables = pd.read_html(\"https://world.openfoodfacts.org/additives\")\n",
    "print(len(tables))  # 1 \n",
    "print(tables[0].head())"
   ]
  },
  {
   "cell_type": "code",
   "execution_count": 38,
   "metadata": {},
   "outputs": [
    {
     "output_type": "stream",
     "name": "stdout",
     "text": [
      "9\n   Pos   Time                   Swimmer              Date          Venue\n0    1  20.91         Cesar Cielo (BRA)  17 December 2009         Brazil\n1    2  20.94  Frederick Bousquet (FRA)     22 April 2009         France\n2    3  21.04      Caeleb Dressel (USA)      27 July 2019    South Korea\n3    4  21.11      Benjamin Proud (GBR)     3 August 2018  Great Britain\n4    5  21.19       Ashley Callus (AUS)  26 November 2009      Australia\n"
     ]
    }
   ],
   "source": [
    "tables = pd.read_html(\"https://en.wikipedia.org/wiki/World_record_progression_50_metres_freestyle\")\n",
    "print(len(tables))  # 7\n",
    "\n",
    "print(tables[4].head()) \n"
   ]
  },
  {
   "cell_type": "code",
   "execution_count": 39,
   "metadata": {},
   "outputs": [
    {
     "output_type": "stream",
     "name": "stdout",
     "text": [
      "   Pos  Swimmer                       Time              Date          Venue\n0    1    22.93  Ranomi Kromowidjojo (NED)     7 August 2017        Germany\n1    2    23.00       Sarah Sjöström (SWE)     7 August 2017        Germany\n2    3    23.19        Cate Campbell (AUS)   27 October 2017         Russia\n3    4    23.25     Marleen Veldhuis (NED)     13 April 2008  Great Britain\n4    5    23.27    Therese Alshammar (SWE)  21 November 2009      Singapore\n"
     ]
    }
   ],
   "source": [
    "print(tables[-2].head())"
   ]
  },
  {
   "cell_type": "code",
   "execution_count": 47,
   "metadata": {},
   "outputs": [
    {
     "output_type": "stream",
     "name": "stdout",
     "text": [
      "7\n"
     ]
    }
   ],
   "source": [
    "tables = pd.read_html(\"https://en.wikipedia.org/wiki/World_record_progression_50_metres_freestyle\", match=\"United States\")\n",
    "print(len(tables))  # 1\n",
    "#print(tables[0][10:15][['Time', 'Name', 'Nationality']])"
   ]
  },
  {
   "source": [
    "## 07. Getting data from the web using APIs"
   ],
   "cell_type": "markdown",
   "metadata": {}
  },
  {
   "cell_type": "code",
   "execution_count": 49,
   "metadata": {},
   "outputs": [
    {
     "output_type": "stream",
     "name": "stdout",
     "text": [
      "Credentials: ['client_id', 'client_secret']\n"
     ]
    }
   ],
   "source": [
    "import json\n",
    "\n",
    "# Load credentials\n",
    "with open('data/client-credentials.json') as file:\n",
    "    client_credentials = json.load(file)\n",
    "\n",
    "print('Credentials:', list(client_credentials.keys())) # ['client_id', 'client_secret']"
   ]
  },
  {
   "cell_type": "code",
   "execution_count": 50,
   "metadata": {},
   "outputs": [
    {
     "output_type": "stream",
     "name": "stdout",
     "text": [
      "...\n"
     ]
    }
   ],
   "source": [
    "print(client_credentials['client_id']) # Client ID"
   ]
  },
  {
   "cell_type": "code",
   "execution_count": null,
   "metadata": {},
   "outputs": [],
   "source": []
  }
 ]
}