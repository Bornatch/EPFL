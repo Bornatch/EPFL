{
 "metadata": {
  "language_info": {
   "codemirror_mode": {
    "name": "ipython",
    "version": 3
   },
   "file_extension": ".py",
   "mimetype": "text/x-python",
   "name": "python",
   "nbconvert_exporter": "python",
   "pygments_lexer": "ipython3",
   "version": "3.6.13"
  },
  "orig_nbformat": 2,
  "kernelspec": {
   "name": "python3613jvsc74a57bd02b5dd82ba0b5c4c71e3709f7a8b2ae779d21657f4b77a998e948f0a91d5bc895",
   "display_name": "Python 3.6.13 64-bit ('exts-ml': conda)"
  }
 },
 "nbformat": 4,
 "nbformat_minor": 2,
 "cells": [
  {
   "source": [
    "# 08. Exercise: applying functions"
   ],
   "cell_type": "markdown",
   "metadata": {}
  },
  {
   "cell_type": "code",
   "execution_count": 4,
   "metadata": {},
   "outputs": [
    {
     "output_type": "execute_result",
     "data": {
      "text/plain": [
       "                        name mfr type  calories  protein  fat  sodium  fiber  \\\n",
       "0                  100% Bran   N    C        70        4    1     130   10.0   \n",
       "1          100% Natural Bran   Q    C       120        3    5      15    2.0   \n",
       "2                   All-Bran   K    C        70        4    1     260    9.0   \n",
       "3  All-Bran with Extra Fiber   K    C        50        4    0     140   14.0   \n",
       "4             Almond Delight   R    C       110        2    2     200    1.0   \n",
       "\n",
       "   carbo  sugars  potass  vitamins  shelf  weight  cups     rating  \n",
       "0    5.0       6     280        25      3     1.0  0.33  68.402973  \n",
       "1    8.0       8     135         0      3     1.0  1.00  33.983679  \n",
       "2    7.0       5     320        25      3     1.0  0.33  59.425505  \n",
       "3    8.0       0     330        25      3     1.0  0.50  93.704912  \n",
       "4   14.0       8      -1        25      3     1.0  0.75  34.384843  "
      ],
      "text/html": "<div>\n<style scoped>\n    .dataframe tbody tr th:only-of-type {\n        vertical-align: middle;\n    }\n\n    .dataframe tbody tr th {\n        vertical-align: top;\n    }\n\n    .dataframe thead th {\n        text-align: right;\n    }\n</style>\n<table border=\"1\" class=\"dataframe\">\n  <thead>\n    <tr style=\"text-align: right;\">\n      <th></th>\n      <th>name</th>\n      <th>mfr</th>\n      <th>type</th>\n      <th>calories</th>\n      <th>protein</th>\n      <th>fat</th>\n      <th>sodium</th>\n      <th>fiber</th>\n      <th>carbo</th>\n      <th>sugars</th>\n      <th>potass</th>\n      <th>vitamins</th>\n      <th>shelf</th>\n      <th>weight</th>\n      <th>cups</th>\n      <th>rating</th>\n    </tr>\n  </thead>\n  <tbody>\n    <tr>\n      <th>0</th>\n      <td>100% Bran</td>\n      <td>N</td>\n      <td>C</td>\n      <td>70</td>\n      <td>4</td>\n      <td>1</td>\n      <td>130</td>\n      <td>10.0</td>\n      <td>5.0</td>\n      <td>6</td>\n      <td>280</td>\n      <td>25</td>\n      <td>3</td>\n      <td>1.0</td>\n      <td>0.33</td>\n      <td>68.402973</td>\n    </tr>\n    <tr>\n      <th>1</th>\n      <td>100% Natural Bran</td>\n      <td>Q</td>\n      <td>C</td>\n      <td>120</td>\n      <td>3</td>\n      <td>5</td>\n      <td>15</td>\n      <td>2.0</td>\n      <td>8.0</td>\n      <td>8</td>\n      <td>135</td>\n      <td>0</td>\n      <td>3</td>\n      <td>1.0</td>\n      <td>1.00</td>\n      <td>33.983679</td>\n    </tr>\n    <tr>\n      <th>2</th>\n      <td>All-Bran</td>\n      <td>K</td>\n      <td>C</td>\n      <td>70</td>\n      <td>4</td>\n      <td>1</td>\n      <td>260</td>\n      <td>9.0</td>\n      <td>7.0</td>\n      <td>5</td>\n      <td>320</td>\n      <td>25</td>\n      <td>3</td>\n      <td>1.0</td>\n      <td>0.33</td>\n      <td>59.425505</td>\n    </tr>\n    <tr>\n      <th>3</th>\n      <td>All-Bran with Extra Fiber</td>\n      <td>K</td>\n      <td>C</td>\n      <td>50</td>\n      <td>4</td>\n      <td>0</td>\n      <td>140</td>\n      <td>14.0</td>\n      <td>8.0</td>\n      <td>0</td>\n      <td>330</td>\n      <td>25</td>\n      <td>3</td>\n      <td>1.0</td>\n      <td>0.50</td>\n      <td>93.704912</td>\n    </tr>\n    <tr>\n      <th>4</th>\n      <td>Almond Delight</td>\n      <td>R</td>\n      <td>C</td>\n      <td>110</td>\n      <td>2</td>\n      <td>2</td>\n      <td>200</td>\n      <td>1.0</td>\n      <td>14.0</td>\n      <td>8</td>\n      <td>-1</td>\n      <td>25</td>\n      <td>3</td>\n      <td>1.0</td>\n      <td>0.75</td>\n      <td>34.384843</td>\n    </tr>\n  </tbody>\n</table>\n</div>"
     },
     "metadata": {},
     "execution_count": 4
    }
   ],
   "source": [
    "import pandas as pd\n",
    "import numpy as np\n",
    "\n",
    "df = pd.read_csv('data\\cereal.csv')\n",
    "df.head()"
   ]
  },
  {
   "source": [
    "1. Create a new column called Manufacturer which takes the entries in the column mfr and maps them to the full name"
   ],
   "cell_type": "markdown",
   "metadata": {}
  },
  {
   "cell_type": "code",
   "execution_count": 11,
   "metadata": {},
   "outputs": [
    {
     "output_type": "execute_result",
     "data": {
      "text/plain": [
       "                        name mfr type  calories  protein  fat  sodium  fiber  \\\n",
       "0                  100% Bran   N    C        70        4    1     130   10.0   \n",
       "1          100% Natural Bran   Q    C       120        3    5      15    2.0   \n",
       "2                   All-Bran   K    C        70        4    1     260    9.0   \n",
       "3  All-Bran with Extra Fiber   K    C        50        4    0     140   14.0   \n",
       "4             Almond Delight   R    C       110        2    2     200    1.0   \n",
       "\n",
       "   carbo  sugars  potass  vitamins  shelf  weight  cups     rating  \\\n",
       "0    5.0       6     280        25      3     1.0  0.33  68.402973   \n",
       "1    8.0       8     135         0      3     1.0  1.00  33.983679   \n",
       "2    7.0       5     320        25      3     1.0  0.33  59.425505   \n",
       "3    8.0       0     330        25      3     1.0  0.50  93.704912   \n",
       "4   14.0       8      -1        25      3     1.0  0.75  34.384843   \n",
       "\n",
       "     Manufacturer  \n",
       "0         Nabisco  \n",
       "1     Quaker Oats  \n",
       "2        Kelloggs  \n",
       "3        Kelloggs  \n",
       "4  Ralston Purina  "
      ],
      "text/html": "<div>\n<style scoped>\n    .dataframe tbody tr th:only-of-type {\n        vertical-align: middle;\n    }\n\n    .dataframe tbody tr th {\n        vertical-align: top;\n    }\n\n    .dataframe thead th {\n        text-align: right;\n    }\n</style>\n<table border=\"1\" class=\"dataframe\">\n  <thead>\n    <tr style=\"text-align: right;\">\n      <th></th>\n      <th>name</th>\n      <th>mfr</th>\n      <th>type</th>\n      <th>calories</th>\n      <th>protein</th>\n      <th>fat</th>\n      <th>sodium</th>\n      <th>fiber</th>\n      <th>carbo</th>\n      <th>sugars</th>\n      <th>potass</th>\n      <th>vitamins</th>\n      <th>shelf</th>\n      <th>weight</th>\n      <th>cups</th>\n      <th>rating</th>\n      <th>Manufacturer</th>\n    </tr>\n  </thead>\n  <tbody>\n    <tr>\n      <th>0</th>\n      <td>100% Bran</td>\n      <td>N</td>\n      <td>C</td>\n      <td>70</td>\n      <td>4</td>\n      <td>1</td>\n      <td>130</td>\n      <td>10.0</td>\n      <td>5.0</td>\n      <td>6</td>\n      <td>280</td>\n      <td>25</td>\n      <td>3</td>\n      <td>1.0</td>\n      <td>0.33</td>\n      <td>68.402973</td>\n      <td>Nabisco</td>\n    </tr>\n    <tr>\n      <th>1</th>\n      <td>100% Natural Bran</td>\n      <td>Q</td>\n      <td>C</td>\n      <td>120</td>\n      <td>3</td>\n      <td>5</td>\n      <td>15</td>\n      <td>2.0</td>\n      <td>8.0</td>\n      <td>8</td>\n      <td>135</td>\n      <td>0</td>\n      <td>3</td>\n      <td>1.0</td>\n      <td>1.00</td>\n      <td>33.983679</td>\n      <td>Quaker Oats</td>\n    </tr>\n    <tr>\n      <th>2</th>\n      <td>All-Bran</td>\n      <td>K</td>\n      <td>C</td>\n      <td>70</td>\n      <td>4</td>\n      <td>1</td>\n      <td>260</td>\n      <td>9.0</td>\n      <td>7.0</td>\n      <td>5</td>\n      <td>320</td>\n      <td>25</td>\n      <td>3</td>\n      <td>1.0</td>\n      <td>0.33</td>\n      <td>59.425505</td>\n      <td>Kelloggs</td>\n    </tr>\n    <tr>\n      <th>3</th>\n      <td>All-Bran with Extra Fiber</td>\n      <td>K</td>\n      <td>C</td>\n      <td>50</td>\n      <td>4</td>\n      <td>0</td>\n      <td>140</td>\n      <td>14.0</td>\n      <td>8.0</td>\n      <td>0</td>\n      <td>330</td>\n      <td>25</td>\n      <td>3</td>\n      <td>1.0</td>\n      <td>0.50</td>\n      <td>93.704912</td>\n      <td>Kelloggs</td>\n    </tr>\n    <tr>\n      <th>4</th>\n      <td>Almond Delight</td>\n      <td>R</td>\n      <td>C</td>\n      <td>110</td>\n      <td>2</td>\n      <td>2</td>\n      <td>200</td>\n      <td>1.0</td>\n      <td>14.0</td>\n      <td>8</td>\n      <td>-1</td>\n      <td>25</td>\n      <td>3</td>\n      <td>1.0</td>\n      <td>0.75</td>\n      <td>34.384843</td>\n      <td>Ralston Purina</td>\n    </tr>\n  </tbody>\n</table>\n</div>"
     },
     "metadata": {},
     "execution_count": 11
    }
   ],
   "source": [
    "df['Manufacturer'] = df.mfr.map({'A' : 'American Home Food Products',\n",
    "    'G' : 'General Mills',\n",
    "    'K' : 'Kelloggs',\n",
    "    'N' : 'Nabisco',\n",
    "    'P' : 'Post',\n",
    "    'Q' : 'Quaker Oats',\n",
    "    'R' : 'Ralston Purina'})\n",
    "df.head()"
   ]
  },
  {
   "source": [
    "2. Calories can be converted to kilojoules using the following formula: 1 calorie = 4.184 kilojoules. Find for the amount of Kilojoules per serving for each cereal. Store the results in a new column."
   ],
   "cell_type": "markdown",
   "metadata": {}
  },
  {
   "cell_type": "code",
   "execution_count": 12,
   "metadata": {},
   "outputs": [],
   "source": [
    "# function \n",
    "def convert_calories_to_kilojoule(calorie):\n",
    "    return calorie*4.184"
   ]
  },
  {
   "cell_type": "code",
   "execution_count": 14,
   "metadata": {},
   "outputs": [
    {
     "output_type": "execute_result",
     "data": {
      "text/plain": [
       "                        name mfr type  calories  protein  fat  sodium  fiber  \\\n",
       "0                  100% Bran   N    C        70        4    1     130   10.0   \n",
       "1          100% Natural Bran   Q    C       120        3    5      15    2.0   \n",
       "2                   All-Bran   K    C        70        4    1     260    9.0   \n",
       "3  All-Bran with Extra Fiber   K    C        50        4    0     140   14.0   \n",
       "4             Almond Delight   R    C       110        2    2     200    1.0   \n",
       "\n",
       "   carbo  sugars  potass  vitamins  shelf  weight  cups     rating  \\\n",
       "0    5.0       6     280        25      3     1.0  0.33  68.402973   \n",
       "1    8.0       8     135         0      3     1.0  1.00  33.983679   \n",
       "2    7.0       5     320        25      3     1.0  0.33  59.425505   \n",
       "3    8.0       0     330        25      3     1.0  0.50  93.704912   \n",
       "4   14.0       8      -1        25      3     1.0  0.75  34.384843   \n",
       "\n",
       "     Manufacturer  kilojoules  \n",
       "0         Nabisco      292.88  \n",
       "1     Quaker Oats      502.08  \n",
       "2        Kelloggs      292.88  \n",
       "3        Kelloggs      209.20  \n",
       "4  Ralston Purina      460.24  "
      ],
      "text/html": "<div>\n<style scoped>\n    .dataframe tbody tr th:only-of-type {\n        vertical-align: middle;\n    }\n\n    .dataframe tbody tr th {\n        vertical-align: top;\n    }\n\n    .dataframe thead th {\n        text-align: right;\n    }\n</style>\n<table border=\"1\" class=\"dataframe\">\n  <thead>\n    <tr style=\"text-align: right;\">\n      <th></th>\n      <th>name</th>\n      <th>mfr</th>\n      <th>type</th>\n      <th>calories</th>\n      <th>protein</th>\n      <th>fat</th>\n      <th>sodium</th>\n      <th>fiber</th>\n      <th>carbo</th>\n      <th>sugars</th>\n      <th>potass</th>\n      <th>vitamins</th>\n      <th>shelf</th>\n      <th>weight</th>\n      <th>cups</th>\n      <th>rating</th>\n      <th>Manufacturer</th>\n      <th>kilojoules</th>\n    </tr>\n  </thead>\n  <tbody>\n    <tr>\n      <th>0</th>\n      <td>100% Bran</td>\n      <td>N</td>\n      <td>C</td>\n      <td>70</td>\n      <td>4</td>\n      <td>1</td>\n      <td>130</td>\n      <td>10.0</td>\n      <td>5.0</td>\n      <td>6</td>\n      <td>280</td>\n      <td>25</td>\n      <td>3</td>\n      <td>1.0</td>\n      <td>0.33</td>\n      <td>68.402973</td>\n      <td>Nabisco</td>\n      <td>292.88</td>\n    </tr>\n    <tr>\n      <th>1</th>\n      <td>100% Natural Bran</td>\n      <td>Q</td>\n      <td>C</td>\n      <td>120</td>\n      <td>3</td>\n      <td>5</td>\n      <td>15</td>\n      <td>2.0</td>\n      <td>8.0</td>\n      <td>8</td>\n      <td>135</td>\n      <td>0</td>\n      <td>3</td>\n      <td>1.0</td>\n      <td>1.00</td>\n      <td>33.983679</td>\n      <td>Quaker Oats</td>\n      <td>502.08</td>\n    </tr>\n    <tr>\n      <th>2</th>\n      <td>All-Bran</td>\n      <td>K</td>\n      <td>C</td>\n      <td>70</td>\n      <td>4</td>\n      <td>1</td>\n      <td>260</td>\n      <td>9.0</td>\n      <td>7.0</td>\n      <td>5</td>\n      <td>320</td>\n      <td>25</td>\n      <td>3</td>\n      <td>1.0</td>\n      <td>0.33</td>\n      <td>59.425505</td>\n      <td>Kelloggs</td>\n      <td>292.88</td>\n    </tr>\n    <tr>\n      <th>3</th>\n      <td>All-Bran with Extra Fiber</td>\n      <td>K</td>\n      <td>C</td>\n      <td>50</td>\n      <td>4</td>\n      <td>0</td>\n      <td>140</td>\n      <td>14.0</td>\n      <td>8.0</td>\n      <td>0</td>\n      <td>330</td>\n      <td>25</td>\n      <td>3</td>\n      <td>1.0</td>\n      <td>0.50</td>\n      <td>93.704912</td>\n      <td>Kelloggs</td>\n      <td>209.20</td>\n    </tr>\n    <tr>\n      <th>4</th>\n      <td>Almond Delight</td>\n      <td>R</td>\n      <td>C</td>\n      <td>110</td>\n      <td>2</td>\n      <td>2</td>\n      <td>200</td>\n      <td>1.0</td>\n      <td>14.0</td>\n      <td>8</td>\n      <td>-1</td>\n      <td>25</td>\n      <td>3</td>\n      <td>1.0</td>\n      <td>0.75</td>\n      <td>34.384843</td>\n      <td>Ralston Purina</td>\n      <td>460.24</td>\n    </tr>\n  </tbody>\n</table>\n</div>"
     },
     "metadata": {},
     "execution_count": 14
    }
   ],
   "source": [
    "df['kilojoules'] = df.calories.apply(convert_calories_to_kilojoule)\n",
    "df.head()"
   ]
  },
  {
   "source": [
    "3. For each numerical column, find the cereal that has the maximum value in that column."
   ],
   "cell_type": "markdown",
   "metadata": {}
  },
  {
   "cell_type": "code",
   "execution_count": 17,
   "metadata": {},
   "outputs": [
    {
     "output_type": "execute_result",
     "data": {
      "text/plain": [
       "                           calories  protein  fat  sodium  fiber  carbo  \\\n",
       "name                                                                      \n",
       "100% Bran                        70        4    1     130   10.0    5.0   \n",
       "100% Natural Bran               120        3    5      15    2.0    8.0   \n",
       "All-Bran                         70        4    1     260    9.0    7.0   \n",
       "All-Bran with Extra Fiber        50        4    0     140   14.0    8.0   \n",
       "Almond Delight                  110        2    2     200    1.0   14.0   \n",
       "\n",
       "                           sugars  potass  vitamins  shelf  weight  cups  \\\n",
       "name                                                                       \n",
       "100% Bran                       6     280        25      3     1.0  0.33   \n",
       "100% Natural Bran               8     135         0      3     1.0  1.00   \n",
       "All-Bran                        5     320        25      3     1.0  0.33   \n",
       "All-Bran with Extra Fiber       0     330        25      3     1.0  0.50   \n",
       "Almond Delight                  8      -1        25      3     1.0  0.75   \n",
       "\n",
       "                              rating  kilojoules  \n",
       "name                                              \n",
       "100% Bran                  68.402973      292.88  \n",
       "100% Natural Bran          33.983679      502.08  \n",
       "All-Bran                   59.425505      292.88  \n",
       "All-Bran with Extra Fiber  93.704912      209.20  \n",
       "Almond Delight             34.384843      460.24  "
      ],
      "text/html": "<div>\n<style scoped>\n    .dataframe tbody tr th:only-of-type {\n        vertical-align: middle;\n    }\n\n    .dataframe tbody tr th {\n        vertical-align: top;\n    }\n\n    .dataframe thead th {\n        text-align: right;\n    }\n</style>\n<table border=\"1\" class=\"dataframe\">\n  <thead>\n    <tr style=\"text-align: right;\">\n      <th></th>\n      <th>calories</th>\n      <th>protein</th>\n      <th>fat</th>\n      <th>sodium</th>\n      <th>fiber</th>\n      <th>carbo</th>\n      <th>sugars</th>\n      <th>potass</th>\n      <th>vitamins</th>\n      <th>shelf</th>\n      <th>weight</th>\n      <th>cups</th>\n      <th>rating</th>\n      <th>kilojoules</th>\n    </tr>\n    <tr>\n      <th>name</th>\n      <th></th>\n      <th></th>\n      <th></th>\n      <th></th>\n      <th></th>\n      <th></th>\n      <th></th>\n      <th></th>\n      <th></th>\n      <th></th>\n      <th></th>\n      <th></th>\n      <th></th>\n      <th></th>\n    </tr>\n  </thead>\n  <tbody>\n    <tr>\n      <th>100% Bran</th>\n      <td>70</td>\n      <td>4</td>\n      <td>1</td>\n      <td>130</td>\n      <td>10.0</td>\n      <td>5.0</td>\n      <td>6</td>\n      <td>280</td>\n      <td>25</td>\n      <td>3</td>\n      <td>1.0</td>\n      <td>0.33</td>\n      <td>68.402973</td>\n      <td>292.88</td>\n    </tr>\n    <tr>\n      <th>100% Natural Bran</th>\n      <td>120</td>\n      <td>3</td>\n      <td>5</td>\n      <td>15</td>\n      <td>2.0</td>\n      <td>8.0</td>\n      <td>8</td>\n      <td>135</td>\n      <td>0</td>\n      <td>3</td>\n      <td>1.0</td>\n      <td>1.00</td>\n      <td>33.983679</td>\n      <td>502.08</td>\n    </tr>\n    <tr>\n      <th>All-Bran</th>\n      <td>70</td>\n      <td>4</td>\n      <td>1</td>\n      <td>260</td>\n      <td>9.0</td>\n      <td>7.0</td>\n      <td>5</td>\n      <td>320</td>\n      <td>25</td>\n      <td>3</td>\n      <td>1.0</td>\n      <td>0.33</td>\n      <td>59.425505</td>\n      <td>292.88</td>\n    </tr>\n    <tr>\n      <th>All-Bran with Extra Fiber</th>\n      <td>50</td>\n      <td>4</td>\n      <td>0</td>\n      <td>140</td>\n      <td>14.0</td>\n      <td>8.0</td>\n      <td>0</td>\n      <td>330</td>\n      <td>25</td>\n      <td>3</td>\n      <td>1.0</td>\n      <td>0.50</td>\n      <td>93.704912</td>\n      <td>209.20</td>\n    </tr>\n    <tr>\n      <th>Almond Delight</th>\n      <td>110</td>\n      <td>2</td>\n      <td>2</td>\n      <td>200</td>\n      <td>1.0</td>\n      <td>14.0</td>\n      <td>8</td>\n      <td>-1</td>\n      <td>25</td>\n      <td>3</td>\n      <td>1.0</td>\n      <td>0.75</td>\n      <td>34.384843</td>\n      <td>460.24</td>\n    </tr>\n  </tbody>\n</table>\n</div>"
     },
     "metadata": {},
     "execution_count": 17
    }
   ],
   "source": [
    "# change index\n",
    "df.set_index('name', inplace=True)\n",
    "# get numerical data\n",
    "df_num = df._get_numeric_data()\n",
    "df_num.head()"
   ]
  },
  {
   "cell_type": "code",
   "execution_count": 21,
   "metadata": {},
   "outputs": [
    {
     "output_type": "stream",
     "name": "stderr",
     "text": [
      "C:\\Users\\Bornatch\\Anaconda3\\envs\\exts-ml\\lib\\site-packages\\numpy\\core\\fromnumeric.py:51: FutureWarning: \nThe current behaviour of 'Series.argmax' is deprecated, use 'idxmax'\ninstead.\nThe behavior of 'argmax' will be corrected to return the positional\nmaximum in the future. For now, use 'series.values.argmax' or\n'np.argmax(np.array(values))' to get the position of the maximum\nrow.\n  return getattr(obj, method)(*args, **kwds)\n"
     ]
    },
    {
     "output_type": "execute_result",
     "data": {
      "text/plain": [
       "calories             Mueslix Crispy Blend\n",
       "protein                          Cheerios\n",
       "fat                     100% Natural Bran\n",
       "sodium                         Product 19\n",
       "fiber           All-Bran with Extra Fiber\n",
       "carbo                           Rice Chex\n",
       "sugars                       Golden Crisp\n",
       "potass          All-Bran with Extra Fiber\n",
       "vitamins      Just Right Crunchy  Nuggets\n",
       "shelf                           100% Bran\n",
       "weight               Mueslix Crispy Blend\n",
       "cups                                  Kix\n",
       "rating          All-Bran with Extra Fiber\n",
       "kilojoules           Mueslix Crispy Blend\n",
       "dtype: object"
      ]
     },
     "metadata": {},
     "execution_count": 21
    }
   ],
   "source": [
    "df_num.apply(max, axis=0) # get the value of max\n",
    "df_num.apply(np.argmax)"
   ]
  },
  {
   "cell_type": "code",
   "execution_count": null,
   "metadata": {},
   "outputs": [],
   "source": []
  }
 ]
}