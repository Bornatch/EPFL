{
 "metadata": {
  "language_info": {
   "codemirror_mode": {
    "name": "ipython",
    "version": 3
   },
   "file_extension": ".py",
   "mimetype": "text/x-python",
   "name": "python",
   "nbconvert_exporter": "python",
   "pygments_lexer": "ipython3",
   "version": "3.6.13"
  },
  "orig_nbformat": 2,
  "kernelspec": {
   "name": "python3613jvsc74a57bd096112b273da02500fca82f24d37a320def3fe5535540567717f501ae01de40a6",
   "display_name": "Python 3.6.13 64-bit ('exts-ml': conda)"
  }
 },
 "nbformat": 4,
 "nbformat_minor": 2,
 "cells": [
  {
   "source": [
    "# 06. Exercise: multiple filtering"
   ],
   "cell_type": "markdown",
   "metadata": {}
  },
  {
   "cell_type": "code",
   "execution_count": 1,
   "metadata": {},
   "outputs": [],
   "source": [
    "import pandas as pd"
   ]
  },
  {
   "source": [
    "# Import the data set as a pandas DataFrame. \n",
    "df=pd.read_csv('data/tmdb_5000_movies.csv')\n",
    "df.info()"
   ],
   "cell_type": "code",
   "metadata": {},
   "execution_count": 2,
   "outputs": [
    {
     "output_type": "stream",
     "name": "stdout",
     "text": [
      "<class 'pandas.core.frame.DataFrame'>\nRangeIndex: 4803 entries, 0 to 4802\nData columns (total 20 columns):\nbudget                  4803 non-null int64\ngenres                  4803 non-null object\nhomepage                1712 non-null object\nid                      4803 non-null int64\nkeywords                4803 non-null object\noriginal_language       4803 non-null object\noriginal_title          4803 non-null object\noverview                4800 non-null object\npopularity              4803 non-null float64\nproduction_companies    4803 non-null object\nproduction_countries    4803 non-null object\nrelease_date            4802 non-null object\nrevenue                 4803 non-null int64\nruntime                 4801 non-null float64\nspoken_languages        4803 non-null object\nstatus                  4803 non-null object\ntagline                 3959 non-null object\ntitle                   4803 non-null object\nvote_average            4803 non-null float64\nvote_count              4803 non-null int64\ndtypes: float64(3), int64(4), object(13)\nmemory usage: 750.5+ KB\n"
     ]
    }
   ]
  },
  {
   "cell_type": "code",
   "execution_count": 21,
   "metadata": {},
   "outputs": [
    {
     "output_type": "execute_result",
     "data": {
      "text/plain": [
       "array(['King Kong', 'Titanic', 'Pearl Harbor', 'The Wolf of Wall Street',\n",
       "       'The Lord of the Rings: The Return of the King', 'Wyatt Earp',\n",
       "       'The Green Mile', 'Gods and Generals', 'Grindhouse', 'Nixon',\n",
       "       \"Heaven's Gate\", 'Cleopatra', 'JFK', 'Magnolia', 'Malcolm X',\n",
       "       'Bound by Honor', 'Reds', 'Once Upon a Time in America',\n",
       "       'The Right Stuff', \"Schindler's List\", 'Gettysburg', 'Gandhi',\n",
       "       'The Greatest Story Ever Told', 'Dances with Wolves',\n",
       "       'The Fall of the Roman Empire', 'Hamlet', 'Carlos',\n",
       "       'The Deer Hunter', 'Lawrence of Arabia', 'The Company',\n",
       "       'The Godfather: Part II', 'Doctor Zhivago', 'Barry Lyndon',\n",
       "       'Kabhi Alvida Naa Kehna', 'Fiddler on the Roof',\n",
       "       'The Legend of Suriyothai', 'Restless', 'Veer-Zaara', 'Emma',\n",
       "       'Anne of Green Gables', 'Gone with the Wind', 'The Secret',\n",
       "       'Judgment at Nuremberg', 'Chocolate: Deep Dark Secrets',\n",
       "       'Woodstock', 'Seven Samurai', 'Intolerance'], dtype=object)"
      ]
     },
     "metadata": {},
     "execution_count": 21
    }
   ],
   "source": [
    "# Find the names of all the movies whose length is at least 180min.\n",
    "d2 = df[(df.runtime >= 180)]\n",
    "d2.title.unique()"
   ]
  },
  {
   "cell_type": "code",
   "execution_count": 24,
   "metadata": {},
   "outputs": [
    {
     "output_type": "execute_result",
     "data": {
      "text/plain": [
       "array(['King Kong', 'Titanic', 'The Dark Knight', 'Inside Out',\n",
       "       'Interstellar', 'Inception', 'Pearl Harbor',\n",
       "       'The Lord of the Rings: The Fellowship of the Ring',\n",
       "       'The Wolf of Wall Street',\n",
       "       'The Lord of the Rings: The Return of the King',\n",
       "       'The Lord of the Rings: The Two Towers', 'Déjà Vu',\n",
       "       'The Lion King', 'Fight Club', 'Wyatt Earp', 'The Green Mile',\n",
       "       'Forrest Gump', 'Gods and Generals', 'Grindhouse', 'Nixon',\n",
       "       \"Heaven's Gate\", 'Cleopatra', 'JFK', 'The Prestige', 'Magnolia',\n",
       "       'Malcolm X', 'The Pianist', 'Bound by Honor', 'Reds',\n",
       "       'Apocalypse Now', 'The Grand Budapest Hotel', 'Se7en',\n",
       "       'Once Upon a Time in America', 'The Right Stuff',\n",
       "       \"Schindler's List\", 'GoodFellas', 'Scarface',\n",
       "       'The Shawshank Redemption', 'Gettysburg', \"Howl's Moving Castle\",\n",
       "       'The Empire Strikes Back', 'Gandhi', 'The Silence of the Lambs',\n",
       "       'Psycho', 'The Greatest Story Ever Told', 'Princess Mononoke',\n",
       "       'Dances with Wolves', 'The Shining', 'Back to the Future',\n",
       "       'Spirited Away', 'The Fall of the Roman Empire', 'Hamlet',\n",
       "       'Carlos', \"One Man's Hero\", 'Dead Poets Society',\n",
       "       'The Imitation Game', 'The Deer Hunter', 'Lawrence of Arabia',\n",
       "       'The Company', 'Metropolis', 'The Godfather: Part II', 'Room',\n",
       "       'The Prisoner of Zenda', 'Star Wars', 'Doctor Zhivago',\n",
       "       'Barry Lyndon', 'The Visual Bible: The Gospel of John',\n",
       "       'Kabhi Alvida Naa Kehna', 'There Goes My Baby',\n",
       "       'One Direction: This Is Us', 'Love Jones', 'American History X',\n",
       "       'Fiddler on the Roof', 'The Legend of Suriyothai',\n",
       "       'Star Wars: Clone Wars: Volume 1', 'Pulp Fiction', 'Restless',\n",
       "       'The Godfather', 'Veer-Zaara',\n",
       "       'The Work and the Glory II: American Zion', 'The Usual Suspects',\n",
       "       'Dolphins and Whales: Tribes of the Ocean', 'Lake of Fire', 'Emma',\n",
       "       'Stiff Upper Lips', 'Memento', 'Once Upon a Time in the West',\n",
       "       \"One Flew Over the Cuckoo's Nest\", 'Anne of Green Gables',\n",
       "       'Samsara', 'Guten Tag, Ramón', 'Gone with the Wind', 'The Secret',\n",
       "       'Whiplash', 'City of God', 'Dreaming of Joseph Lees',\n",
       "       \"It's a Wonderful Life\", 'The Apartment', 'Judgment at Nuremberg',\n",
       "       'Oldboy', 'Some Like It Hot', 'Sardaarji', 'Dancer, Texas Pop. 81',\n",
       "       'To Kill a Mockingbird',\n",
       "       'Dr. Strangelove or: How I Learned to Stop Worrying and Love the Bomb',\n",
       "       'Modern Times', 'Me You and Five Bucks', 'Reservoir Dogs',\n",
       "       'The Good, the Bad and the Ugly', 'Taxi Driver',\n",
       "       'Chocolate: Deep Dark Secrets', 'The Jimmy Show',\n",
       "       'Karachi se Lahore', 'On the Waterfront',\n",
       "       'Iraq for Sale: The War Profiteers', 'Woodstock', 'Seven Samurai',\n",
       "       'Rise of the Entrepreneur: The Search for a Better Way',\n",
       "       'Intolerance', '12 Angry Men', 'Tupac: Resurrection',\n",
       "       'Little Big Top', 'The Business of Fancydancing',\n",
       "       'Call + Response', 'Counting'], dtype=object)"
      ]
     },
     "metadata": {},
     "execution_count": 24
    }
   ],
   "source": [
    "# Using multiple filtering, find the names of all the movies whose length is at least 180min, or whose vote average is at least 8.0. (Hint: use the logical operator |)\n",
    "d2 = df[(df.runtime >= 180) | (df.vote_average >= 8) ]\n",
    "d2.title.unique()"
   ]
  },
  {
   "cell_type": "code",
   "execution_count": 25,
   "metadata": {},
   "outputs": [
    {
     "output_type": "execute_result",
     "data": {
      "text/plain": [
       "array(['The Lord of the Rings: The Return of the King', 'The Green Mile',\n",
       "       'Once Upon a Time in America', \"Schindler's List\",\n",
       "       'The Godfather: Part II', 'Anne of Green Gables', 'Seven Samurai'],\n",
       "      dtype=object)"
      ]
     },
     "metadata": {},
     "execution_count": 25
    }
   ],
   "source": [
    "# Using multiple filtering find the names of all the movies whose length is at least 180min, and whose vote average is at least 8.0. (Hint: use the logical operator & )\n",
    "\n",
    "d2 = df[(df.runtime >= 180) & (df.vote_average >= 8) ]\n",
    "d2.original_language.unique()"
   ]
  },
  {
   "cell_type": "code",
   "execution_count": 27,
   "metadata": {},
   "outputs": [
    {
     "output_type": "execute_result",
     "data": {
      "text/plain": [
       "array(['Seven Samurai'], dtype=object)"
      ]
     },
     "metadata": {},
     "execution_count": 27
    }
   ],
   "source": [
    "# Using multiple filtering, find the names of all the movies whose length is at least 180min, and whose vote average is at least 8.0 and whose original language is not English. (Hint: use the logical operator & twice )\n",
    "\n",
    "d2 = df[(df.runtime >= 180) & (df.vote_average >= 8) &(df.original_language !=  'en')]\n",
    "d2.title.unique()"
   ]
  },
  {
   "cell_type": "code",
   "execution_count": null,
   "metadata": {},
   "outputs": [],
   "source": []
  }
 ]
}