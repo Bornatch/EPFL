{
 "metadata": {
  "language_info": {
   "codemirror_mode": {
    "name": "ipython",
    "version": 3
   },
   "file_extension": ".py",
   "mimetype": "text/x-python",
   "name": "python",
   "nbconvert_exporter": "python",
   "pygments_lexer": "ipython3",
   "version": "3.6.13"
  },
  "orig_nbformat": 2,
  "kernelspec": {
   "name": "python3613jvsc74a57bd096112b273da02500fca82f24d37a320def3fe5535540567717f501ae01de40a6",
   "display_name": "Python 3.6.13 64-bit ('exts-ml': conda)"
  }
 },
 "nbformat": 4,
 "nbformat_minor": 2,
 "cells": [
  {
   "source": [
    "# 10. Course project\n",
    "\n",
    "## World Happiness Report\n",
    "\n",
    "* GDP per capita\n",
    "* healthy years of life expectancy\n",
    "* social support (as measured by having someone to count on in times of trouble)\n",
    "* trust (as measured by a perceived absence of corruption in government and business)\n",
    "* perceived freedom to make life decisions\n",
    "* generosity (as measured by recent donations)\n",
    "* dystopia (benchmark country corresponding to the lowest possible values in each of the criteria)"
   ],
   "cell_type": "markdown",
   "metadata": {}
  },
  {
   "cell_type": "code",
   "execution_count": 2,
   "metadata": {},
   "outputs": [],
   "source": [
    "#import\n",
    "import pandas as pd\n",
    "import numpy as np"
   ]
  },
  {
   "source": [
    "## A. Importing, cleaning and numerical summaries"
   ],
   "cell_type": "markdown",
   "metadata": {}
  },
  {
   "source": [
    "### 1. Download the data set data.csv from the Resources tab\n",
    "### 2. Import the data as a pandas DataFrame."
   ],
   "cell_type": "markdown",
   "metadata": {}
  },
  {
   "cell_type": "code",
   "execution_count": 3,
   "metadata": {},
   "outputs": [],
   "source": [
    "src_path = 'data\\happines_data.csv'\n",
    "df = pd.read_csv(src_path)"
   ]
  },
  {
   "source": [
    "### 3. Check the number of observations."
   ],
   "cell_type": "markdown",
   "metadata": {}
  },
  {
   "cell_type": "code",
   "execution_count": 4,
   "metadata": {},
   "outputs": [
    {
     "output_type": "execute_result",
     "data": {
      "text/plain": [
       "153"
      ]
     },
     "metadata": {},
     "execution_count": 4
    }
   ],
   "source": [
    "df.size ## number of cells (1836)\n",
    "len(df.index) ## number of rows\n",
    "#df.shape[0]"
   ]
  },
  {
   "source": [
    "### 4. Obtain the column headings."
   ],
   "cell_type": "markdown",
   "metadata": {}
  },
  {
   "cell_type": "code",
   "execution_count": 5,
   "metadata": {},
   "outputs": [
    {
     "output_type": "execute_result",
     "data": {
      "text/plain": [
       "Index(['Country', 'Happiness Rank', 'Happiness Score', 'Economy', 'Family',\n",
       "       'Health', 'Freedom', 'Generosity', 'Corruption', 'Dystopia',\n",
       "       'Job Satisfaction', 'Region'],\n",
       "      dtype='object')"
      ]
     },
     "metadata": {},
     "execution_count": 5
    }
   ],
   "source": [
    "df.columns"
   ]
  },
  {
   "source": [
    "### 5. Check the data type for each column."
   ],
   "cell_type": "markdown",
   "metadata": {}
  },
  {
   "cell_type": "code",
   "execution_count": 6,
   "metadata": {},
   "outputs": [
    {
     "output_type": "stream",
     "name": "stdout",
     "text": [
      "<class 'pandas.core.frame.DataFrame'>\nRangeIndex: 153 entries, 0 to 152\nData columns (total 12 columns):\nCountry             153 non-null object\nHappiness Rank      153 non-null int64\nHappiness Score     153 non-null float64\nEconomy             153 non-null float64\nFamily              153 non-null float64\nHealth              153 non-null float64\nFreedom             153 non-null float64\nGenerosity          153 non-null float64\nCorruption          153 non-null float64\nDystopia            153 non-null float64\nJob Satisfaction    151 non-null float64\nRegion              153 non-null object\ndtypes: float64(9), int64(1), object(2)\nmemory usage: 14.4+ KB\n"
     ]
    },
    {
     "output_type": "execute_result",
     "data": {
      "text/plain": [
       "Country              object\n",
       "Happiness Rank        int64\n",
       "Happiness Score     float64\n",
       "Economy             float64\n",
       "Family              float64\n",
       "Health              float64\n",
       "Freedom             float64\n",
       "Generosity          float64\n",
       "Corruption          float64\n",
       "Dystopia            float64\n",
       "Job Satisfaction    float64\n",
       "Region               object\n",
       "dtype: object"
      ]
     },
     "metadata": {},
     "execution_count": 6
    }
   ],
   "source": [
    "df.info() ## type and null \n",
    "df.dtypes"
   ]
  },
  {
   "source": [
    "### 6. Check if there are any missing values."
   ],
   "cell_type": "markdown",
   "metadata": {}
  },
  {
   "cell_type": "code",
   "execution_count": 7,
   "metadata": {},
   "outputs": [
    {
     "output_type": "execute_result",
     "data": {
      "text/plain": [
       "Country             0\n",
       "Happiness Rank      0\n",
       "Happiness Score     0\n",
       "Economy             0\n",
       "Family              0\n",
       "Health              0\n",
       "Freedom             0\n",
       "Generosity          0\n",
       "Corruption          0\n",
       "Dystopia            0\n",
       "Job Satisfaction    2\n",
       "Region              0\n",
       "dtype: int64"
      ]
     },
     "metadata": {},
     "execution_count": 7
    }
   ],
   "source": [
    "df.isnull().sum()\n"
   ]
  },
  {
   "source": [
    "### 7. Remove missing values"
   ],
   "cell_type": "markdown",
   "metadata": {}
  },
  {
   "cell_type": "code",
   "execution_count": 8,
   "metadata": {},
   "outputs": [
    {
     "output_type": "execute_result",
     "data": {
      "text/plain": [
       "151"
      ]
     },
     "metadata": {},
     "execution_count": 8
    }
   ],
   "source": [
    "    ## out null value\n",
    "    df2 = df.dropna()\n",
    "    df2.shape[0]"
   ]
  },
  {
   "cell_type": "code",
   "execution_count": 9,
   "metadata": {},
   "outputs": [],
   "source": [
    " #change index\n",
    "df2.set_index('Country', inplace=True)"
   ]
  },
  {
   "cell_type": "code",
   "execution_count": 10,
   "metadata": {},
   "outputs": [
    {
     "output_type": "stream",
     "name": "stderr",
     "text": [
      "C:\\Users\\valen\\anaconda3\\envs\\exts-ml\\lib\\site-packages\\pandas\\core\\indexing.py:543: SettingWithCopyWarning: \nA value is trying to be set on a copy of a slice from a DataFrame.\nTry using .loc[row_indexer,col_indexer] = value instead\n\nSee the caveats in the documentation: http://pandas.pydata.org/pandas-docs/stable/indexing.html#indexing-view-versus-copy\n  self.obj[item] = s\n"
     ]
    }
   ],
   "source": [
    "# set Ukraine on eastern Europe\n",
    "df2.loc[df2.Region =='Europe', 'Region']='Eastern Europe'"
   ]
  },
  {
   "source": [
    "### 8. Obtain the mean, minimum and maximum value"
   ],
   "cell_type": "markdown",
   "metadata": {}
  },
  {
   "cell_type": "code",
   "execution_count": 11,
   "metadata": {},
   "outputs": [
    {
     "output_type": "execute_result",
     "data": {
      "text/plain": [
       "       Happiness Rank  Happiness Score     Economy      Family      Health  \\\n",
       "count      153.000000       153.000000  153.000000  153.000000  153.000000   \n",
       "mean        78.169935         5.349281    0.982433    1.186630    0.550117   \n",
       "std         45.008741         1.134997    0.421901    0.288441    0.237769   \n",
       "min          1.000000         2.693000    0.000000    0.000000    0.000000   \n",
       "25%         40.000000         4.497000    0.659517    1.041990    0.364509   \n",
       "50%         78.000000         5.279000    1.064578    1.251826    0.606042   \n",
       "75%        117.000000         6.098000    1.315175    1.416404    0.719217   \n",
       "max        155.000000         7.537000    1.870766    1.610574    0.949492   \n",
       "\n",
       "          Freedom  Generosity  Corruption    Dystopia  Job Satisfaction  \n",
       "count  153.000000  153.000000  153.000000  153.000000        151.000000  \n",
       "mean     0.408489    0.245324    0.123179    1.853072         75.209934  \n",
       "std      0.150744    0.134395    0.102133    0.499490         12.962365  \n",
       "min      0.000000    0.000000    0.000000    0.377914         44.400000  \n",
       "25%      0.300741    0.153075    0.057070    1.597970         68.950000  \n",
       "50%      0.437454    0.231503    0.089848    1.832910         78.100000  \n",
       "75%      0.518631    0.322228    0.153066    2.150801         85.100000  \n",
       "max      0.658249    0.838075    0.464308    3.117485         95.100000  "
      ],
      "text/html": "<div>\n<style scoped>\n    .dataframe tbody tr th:only-of-type {\n        vertical-align: middle;\n    }\n\n    .dataframe tbody tr th {\n        vertical-align: top;\n    }\n\n    .dataframe thead th {\n        text-align: right;\n    }\n</style>\n<table border=\"1\" class=\"dataframe\">\n  <thead>\n    <tr style=\"text-align: right;\">\n      <th></th>\n      <th>Happiness Rank</th>\n      <th>Happiness Score</th>\n      <th>Economy</th>\n      <th>Family</th>\n      <th>Health</th>\n      <th>Freedom</th>\n      <th>Generosity</th>\n      <th>Corruption</th>\n      <th>Dystopia</th>\n      <th>Job Satisfaction</th>\n    </tr>\n  </thead>\n  <tbody>\n    <tr>\n      <th>count</th>\n      <td>153.000000</td>\n      <td>153.000000</td>\n      <td>153.000000</td>\n      <td>153.000000</td>\n      <td>153.000000</td>\n      <td>153.000000</td>\n      <td>153.000000</td>\n      <td>153.000000</td>\n      <td>153.000000</td>\n      <td>151.000000</td>\n    </tr>\n    <tr>\n      <th>mean</th>\n      <td>78.169935</td>\n      <td>5.349281</td>\n      <td>0.982433</td>\n      <td>1.186630</td>\n      <td>0.550117</td>\n      <td>0.408489</td>\n      <td>0.245324</td>\n      <td>0.123179</td>\n      <td>1.853072</td>\n      <td>75.209934</td>\n    </tr>\n    <tr>\n      <th>std</th>\n      <td>45.008741</td>\n      <td>1.134997</td>\n      <td>0.421901</td>\n      <td>0.288441</td>\n      <td>0.237769</td>\n      <td>0.150744</td>\n      <td>0.134395</td>\n      <td>0.102133</td>\n      <td>0.499490</td>\n      <td>12.962365</td>\n    </tr>\n    <tr>\n      <th>min</th>\n      <td>1.000000</td>\n      <td>2.693000</td>\n      <td>0.000000</td>\n      <td>0.000000</td>\n      <td>0.000000</td>\n      <td>0.000000</td>\n      <td>0.000000</td>\n      <td>0.000000</td>\n      <td>0.377914</td>\n      <td>44.400000</td>\n    </tr>\n    <tr>\n      <th>25%</th>\n      <td>40.000000</td>\n      <td>4.497000</td>\n      <td>0.659517</td>\n      <td>1.041990</td>\n      <td>0.364509</td>\n      <td>0.300741</td>\n      <td>0.153075</td>\n      <td>0.057070</td>\n      <td>1.597970</td>\n      <td>68.950000</td>\n    </tr>\n    <tr>\n      <th>50%</th>\n      <td>78.000000</td>\n      <td>5.279000</td>\n      <td>1.064578</td>\n      <td>1.251826</td>\n      <td>0.606042</td>\n      <td>0.437454</td>\n      <td>0.231503</td>\n      <td>0.089848</td>\n      <td>1.832910</td>\n      <td>78.100000</td>\n    </tr>\n    <tr>\n      <th>75%</th>\n      <td>117.000000</td>\n      <td>6.098000</td>\n      <td>1.315175</td>\n      <td>1.416404</td>\n      <td>0.719217</td>\n      <td>0.518631</td>\n      <td>0.322228</td>\n      <td>0.153066</td>\n      <td>2.150801</td>\n      <td>85.100000</td>\n    </tr>\n    <tr>\n      <th>max</th>\n      <td>155.000000</td>\n      <td>7.537000</td>\n      <td>1.870766</td>\n      <td>1.610574</td>\n      <td>0.949492</td>\n      <td>0.658249</td>\n      <td>0.838075</td>\n      <td>0.464308</td>\n      <td>3.117485</td>\n      <td>95.100000</td>\n    </tr>\n  </tbody>\n</table>\n</div>"
     },
     "metadata": {},
     "execution_count": 11
    }
   ],
   "source": [
    "df.describe()"
   ]
  },
  {
   "source": [
    "### 9. 10 happiest countries"
   ],
   "cell_type": "markdown",
   "metadata": {}
  },
  {
   "cell_type": "code",
   "execution_count": 12,
   "metadata": {},
   "outputs": [
    {
     "output_type": "execute_result",
     "data": {
      "text/plain": [
       "         Country  Happiness Rank  Happiness Score   Economy    Family  \\\n",
       "109       Norway               1            7.537  1.616463  1.533524   \n",
       "97       Denmark               2            7.522  1.482383  1.551122   \n",
       "47       Iceland               3            7.504  1.480633  1.610574   \n",
       "78   Switzerland               4            7.494  1.564980  1.516912   \n",
       "101      Finland               5            7.469  1.443572  1.540247   \n",
       "105  Netherlands               6            7.377  1.503945  1.428939   \n",
       "81        Canada               7            7.316  1.479204  1.481349   \n",
       "5    New Zealand               8            7.314  1.405706  1.548195   \n",
       "21        Sweden               9            7.284  1.494387  1.478162   \n",
       "148    Australia              10            7.284  1.484415  1.510042   \n",
       "\n",
       "       Health   Freedom  Generosity  Corruption  Dystopia  Job Satisfaction  \\\n",
       "109  0.796667  0.635423    0.362012    0.315964  2.277027              94.6   \n",
       "97   0.792566  0.626007    0.355280    0.400770  2.313707              93.5   \n",
       "47   0.833552  0.627163    0.475540    0.153527  2.322715              94.5   \n",
       "78   0.858131  0.620071    0.290549    0.367007  2.276716              93.7   \n",
       "101  0.809158  0.617951    0.245483    0.382612  2.430182              91.2   \n",
       "105  0.810696  0.585384    0.470490    0.282662  2.294804              93.8   \n",
       "81   0.834558  0.611101    0.435540    0.287372  2.187264              90.5   \n",
       "5    0.816760  0.614062    0.500005    0.382817  2.046456              88.6   \n",
       "21   0.830875  0.612924    0.385399    0.384399  2.097538              92.7   \n",
       "148  0.843887  0.601607    0.477699    0.301184  2.065211              89.2   \n",
       "\n",
       "             Region  \n",
       "109  Western Europe  \n",
       "97   Western Europe  \n",
       "47   Western Europe  \n",
       "78   Western Europe  \n",
       "101  Western Europe  \n",
       "105  Western Europe  \n",
       "81    North America  \n",
       "5      Asia-Pacific  \n",
       "21   Western Europe  \n",
       "148    Asia-Pacific  "
      ],
      "text/html": "<div>\n<style scoped>\n    .dataframe tbody tr th:only-of-type {\n        vertical-align: middle;\n    }\n\n    .dataframe tbody tr th {\n        vertical-align: top;\n    }\n\n    .dataframe thead th {\n        text-align: right;\n    }\n</style>\n<table border=\"1\" class=\"dataframe\">\n  <thead>\n    <tr style=\"text-align: right;\">\n      <th></th>\n      <th>Country</th>\n      <th>Happiness Rank</th>\n      <th>Happiness Score</th>\n      <th>Economy</th>\n      <th>Family</th>\n      <th>Health</th>\n      <th>Freedom</th>\n      <th>Generosity</th>\n      <th>Corruption</th>\n      <th>Dystopia</th>\n      <th>Job Satisfaction</th>\n      <th>Region</th>\n    </tr>\n  </thead>\n  <tbody>\n    <tr>\n      <th>109</th>\n      <td>Norway</td>\n      <td>1</td>\n      <td>7.537</td>\n      <td>1.616463</td>\n      <td>1.533524</td>\n      <td>0.796667</td>\n      <td>0.635423</td>\n      <td>0.362012</td>\n      <td>0.315964</td>\n      <td>2.277027</td>\n      <td>94.6</td>\n      <td>Western Europe</td>\n    </tr>\n    <tr>\n      <th>97</th>\n      <td>Denmark</td>\n      <td>2</td>\n      <td>7.522</td>\n      <td>1.482383</td>\n      <td>1.551122</td>\n      <td>0.792566</td>\n      <td>0.626007</td>\n      <td>0.355280</td>\n      <td>0.400770</td>\n      <td>2.313707</td>\n      <td>93.5</td>\n      <td>Western Europe</td>\n    </tr>\n    <tr>\n      <th>47</th>\n      <td>Iceland</td>\n      <td>3</td>\n      <td>7.504</td>\n      <td>1.480633</td>\n      <td>1.610574</td>\n      <td>0.833552</td>\n      <td>0.627163</td>\n      <td>0.475540</td>\n      <td>0.153527</td>\n      <td>2.322715</td>\n      <td>94.5</td>\n      <td>Western Europe</td>\n    </tr>\n    <tr>\n      <th>78</th>\n      <td>Switzerland</td>\n      <td>4</td>\n      <td>7.494</td>\n      <td>1.564980</td>\n      <td>1.516912</td>\n      <td>0.858131</td>\n      <td>0.620071</td>\n      <td>0.290549</td>\n      <td>0.367007</td>\n      <td>2.276716</td>\n      <td>93.7</td>\n      <td>Western Europe</td>\n    </tr>\n    <tr>\n      <th>101</th>\n      <td>Finland</td>\n      <td>5</td>\n      <td>7.469</td>\n      <td>1.443572</td>\n      <td>1.540247</td>\n      <td>0.809158</td>\n      <td>0.617951</td>\n      <td>0.245483</td>\n      <td>0.382612</td>\n      <td>2.430182</td>\n      <td>91.2</td>\n      <td>Western Europe</td>\n    </tr>\n    <tr>\n      <th>105</th>\n      <td>Netherlands</td>\n      <td>6</td>\n      <td>7.377</td>\n      <td>1.503945</td>\n      <td>1.428939</td>\n      <td>0.810696</td>\n      <td>0.585384</td>\n      <td>0.470490</td>\n      <td>0.282662</td>\n      <td>2.294804</td>\n      <td>93.8</td>\n      <td>Western Europe</td>\n    </tr>\n    <tr>\n      <th>81</th>\n      <td>Canada</td>\n      <td>7</td>\n      <td>7.316</td>\n      <td>1.479204</td>\n      <td>1.481349</td>\n      <td>0.834558</td>\n      <td>0.611101</td>\n      <td>0.435540</td>\n      <td>0.287372</td>\n      <td>2.187264</td>\n      <td>90.5</td>\n      <td>North America</td>\n    </tr>\n    <tr>\n      <th>5</th>\n      <td>New Zealand</td>\n      <td>8</td>\n      <td>7.314</td>\n      <td>1.405706</td>\n      <td>1.548195</td>\n      <td>0.816760</td>\n      <td>0.614062</td>\n      <td>0.500005</td>\n      <td>0.382817</td>\n      <td>2.046456</td>\n      <td>88.6</td>\n      <td>Asia-Pacific</td>\n    </tr>\n    <tr>\n      <th>21</th>\n      <td>Sweden</td>\n      <td>9</td>\n      <td>7.284</td>\n      <td>1.494387</td>\n      <td>1.478162</td>\n      <td>0.830875</td>\n      <td>0.612924</td>\n      <td>0.385399</td>\n      <td>0.384399</td>\n      <td>2.097538</td>\n      <td>92.7</td>\n      <td>Western Europe</td>\n    </tr>\n    <tr>\n      <th>148</th>\n      <td>Australia</td>\n      <td>10</td>\n      <td>7.284</td>\n      <td>1.484415</td>\n      <td>1.510042</td>\n      <td>0.843887</td>\n      <td>0.601607</td>\n      <td>0.477699</td>\n      <td>0.301184</td>\n      <td>2.065211</td>\n      <td>89.2</td>\n      <td>Asia-Pacific</td>\n    </tr>\n  </tbody>\n</table>\n</div>"
     },
     "metadata": {},
     "execution_count": 12
    }
   ],
   "source": [
    "df.nsmallest(10,'Happiness Rank')"
   ]
  },
  {
   "cell_type": "code",
   "execution_count": 13,
   "metadata": {},
   "outputs": [],
   "source": [
    "### 10. 10 least happy countries"
   ]
  },
  {
   "cell_type": "code",
   "execution_count": 14,
   "metadata": {},
   "outputs": [
    {
     "output_type": "execute_result",
     "data": {
      "text/plain": [
       "                      Country  Happiness Rank  Happiness Score   Economy  \\\n",
       "79   Central African Republic             155            2.693  0.000000   \n",
       "40                    Burundi             154            2.905  0.091623   \n",
       "45                   Tanzania             153            3.349  0.511136   \n",
       "39                      Syria             152            3.462  0.777153   \n",
       "133                    Rwanda             151            3.471  0.368746   \n",
       "53                       Togo             150            3.495  0.305445   \n",
       "107                    Guinea             149            3.507  0.244550   \n",
       "139                   Liberia             148            3.533  0.119042   \n",
       "61                South Sudan             147            3.591  0.397249   \n",
       "138                     Yemen             146            3.593  0.591683   \n",
       "\n",
       "       Family    Health   Freedom  Generosity  Corruption  Dystopia  \\\n",
       "79   0.000000  0.018773  0.270842    0.280876    0.056565  2.066005   \n",
       "40   0.629794  0.151611  0.059901    0.204435    0.084148  1.683024   \n",
       "45   1.041990  0.364509  0.390018    0.354256    0.066035  0.621130   \n",
       "39   0.396103  0.500533  0.081539    0.493664    0.151347  1.061574   \n",
       "133  0.945707  0.326425  0.581844    0.252756    0.455220  0.540061   \n",
       "53   0.431883  0.247106  0.380426    0.196896    0.095665  1.837229   \n",
       "107  0.791245  0.194129  0.348588    0.264815    0.110938  1.552312   \n",
       "139  0.872118  0.229918  0.332881    0.266550    0.038948  1.673286   \n",
       "61   0.601323  0.163486  0.147062    0.285671    0.116794  1.879567   \n",
       "138  0.935382  0.310081  0.249464    0.104125    0.056767  1.345601   \n",
       "\n",
       "     Job Satisfaction        Region  \n",
       "79               70.4        Africa  \n",
       "40               54.3        Africa  \n",
       "45               57.8        Africa  \n",
       "39               62.7  Asia-Pacific  \n",
       "133              51.7        Africa  \n",
       "53               44.8        Africa  \n",
       "107              55.1        Africa  \n",
       "139              56.6        Africa  \n",
       "61                NaN        Africa  \n",
       "138              58.9  Asia-Pacific  "
      ],
      "text/html": "<div>\n<style scoped>\n    .dataframe tbody tr th:only-of-type {\n        vertical-align: middle;\n    }\n\n    .dataframe tbody tr th {\n        vertical-align: top;\n    }\n\n    .dataframe thead th {\n        text-align: right;\n    }\n</style>\n<table border=\"1\" class=\"dataframe\">\n  <thead>\n    <tr style=\"text-align: right;\">\n      <th></th>\n      <th>Country</th>\n      <th>Happiness Rank</th>\n      <th>Happiness Score</th>\n      <th>Economy</th>\n      <th>Family</th>\n      <th>Health</th>\n      <th>Freedom</th>\n      <th>Generosity</th>\n      <th>Corruption</th>\n      <th>Dystopia</th>\n      <th>Job Satisfaction</th>\n      <th>Region</th>\n    </tr>\n  </thead>\n  <tbody>\n    <tr>\n      <th>79</th>\n      <td>Central African Republic</td>\n      <td>155</td>\n      <td>2.693</td>\n      <td>0.000000</td>\n      <td>0.000000</td>\n      <td>0.018773</td>\n      <td>0.270842</td>\n      <td>0.280876</td>\n      <td>0.056565</td>\n      <td>2.066005</td>\n      <td>70.4</td>\n      <td>Africa</td>\n    </tr>\n    <tr>\n      <th>40</th>\n      <td>Burundi</td>\n      <td>154</td>\n      <td>2.905</td>\n      <td>0.091623</td>\n      <td>0.629794</td>\n      <td>0.151611</td>\n      <td>0.059901</td>\n      <td>0.204435</td>\n      <td>0.084148</td>\n      <td>1.683024</td>\n      <td>54.3</td>\n      <td>Africa</td>\n    </tr>\n    <tr>\n      <th>45</th>\n      <td>Tanzania</td>\n      <td>153</td>\n      <td>3.349</td>\n      <td>0.511136</td>\n      <td>1.041990</td>\n      <td>0.364509</td>\n      <td>0.390018</td>\n      <td>0.354256</td>\n      <td>0.066035</td>\n      <td>0.621130</td>\n      <td>57.8</td>\n      <td>Africa</td>\n    </tr>\n    <tr>\n      <th>39</th>\n      <td>Syria</td>\n      <td>152</td>\n      <td>3.462</td>\n      <td>0.777153</td>\n      <td>0.396103</td>\n      <td>0.500533</td>\n      <td>0.081539</td>\n      <td>0.493664</td>\n      <td>0.151347</td>\n      <td>1.061574</td>\n      <td>62.7</td>\n      <td>Asia-Pacific</td>\n    </tr>\n    <tr>\n      <th>133</th>\n      <td>Rwanda</td>\n      <td>151</td>\n      <td>3.471</td>\n      <td>0.368746</td>\n      <td>0.945707</td>\n      <td>0.326425</td>\n      <td>0.581844</td>\n      <td>0.252756</td>\n      <td>0.455220</td>\n      <td>0.540061</td>\n      <td>51.7</td>\n      <td>Africa</td>\n    </tr>\n    <tr>\n      <th>53</th>\n      <td>Togo</td>\n      <td>150</td>\n      <td>3.495</td>\n      <td>0.305445</td>\n      <td>0.431883</td>\n      <td>0.247106</td>\n      <td>0.380426</td>\n      <td>0.196896</td>\n      <td>0.095665</td>\n      <td>1.837229</td>\n      <td>44.8</td>\n      <td>Africa</td>\n    </tr>\n    <tr>\n      <th>107</th>\n      <td>Guinea</td>\n      <td>149</td>\n      <td>3.507</td>\n      <td>0.244550</td>\n      <td>0.791245</td>\n      <td>0.194129</td>\n      <td>0.348588</td>\n      <td>0.264815</td>\n      <td>0.110938</td>\n      <td>1.552312</td>\n      <td>55.1</td>\n      <td>Africa</td>\n    </tr>\n    <tr>\n      <th>139</th>\n      <td>Liberia</td>\n      <td>148</td>\n      <td>3.533</td>\n      <td>0.119042</td>\n      <td>0.872118</td>\n      <td>0.229918</td>\n      <td>0.332881</td>\n      <td>0.266550</td>\n      <td>0.038948</td>\n      <td>1.673286</td>\n      <td>56.6</td>\n      <td>Africa</td>\n    </tr>\n    <tr>\n      <th>61</th>\n      <td>South Sudan</td>\n      <td>147</td>\n      <td>3.591</td>\n      <td>0.397249</td>\n      <td>0.601323</td>\n      <td>0.163486</td>\n      <td>0.147062</td>\n      <td>0.285671</td>\n      <td>0.116794</td>\n      <td>1.879567</td>\n      <td>NaN</td>\n      <td>Africa</td>\n    </tr>\n    <tr>\n      <th>138</th>\n      <td>Yemen</td>\n      <td>146</td>\n      <td>3.593</td>\n      <td>0.591683</td>\n      <td>0.935382</td>\n      <td>0.310081</td>\n      <td>0.249464</td>\n      <td>0.104125</td>\n      <td>0.056767</td>\n      <td>1.345601</td>\n      <td>58.9</td>\n      <td>Asia-Pacific</td>\n    </tr>\n  </tbody>\n</table>\n</div>"
     },
     "metadata": {},
     "execution_count": 14
    }
   ],
   "source": [
    "df.nlargest(10,'Happiness Rank',keep='first')"
   ]
  },
  {
   "source": [
    "## B. Indexing and grouping"
   ],
   "cell_type": "markdown",
   "metadata": {}
  },
  {
   "source": [
    "### 1. Group the data points by region"
   ],
   "cell_type": "markdown",
   "metadata": {}
  },
  {
   "cell_type": "code",
   "execution_count": 15,
   "metadata": {},
   "outputs": [],
   "source": [
    "# crete list of regions\n",
    "regions = df2['Region'].unique()"
   ]
  },
  {
   "cell_type": "code",
   "execution_count": 16,
   "metadata": {
    "tags": []
   },
   "outputs": [],
   "source": [
    "# for each, create a new file on ./data folder\n",
    "for i  in range(len(regions)):\n",
    "    region = df2[df2['Region'] == regions[i]]\n",
    "    # COMMENT FOR THE RESTART OF THE KERNEL \n",
    "    # region.to_csv('data\\happiness_r_'+ regions[i]+'.csv')\n",
    "## df2.region"
   ]
  },
  {
   "cell_type": "code",
   "execution_count": 17,
   "metadata": {},
   "outputs": [],
   "source": [
    "# create dataframe with data for eac region, columns create on demand\n",
    "group_info = pd.DataFrame(regions, columns=['name'])\n",
    "\n"
   ]
  },
  {
   "source": [
    "### 2.  Mean happiness score for each region"
   ],
   "cell_type": "markdown",
   "metadata": {}
  },
  {
   "cell_type": "code",
   "execution_count": 18,
   "metadata": {},
   "outputs": [
    {
     "output_type": "execute_result",
     "data": {
      "text/plain": [
       "             name  Happiness mean\n",
       "5   North America        7.154500\n",
       "0  Western Europe        6.880474\n",
       "4   Latin America        5.957818\n",
       "2  Eastern Europe        5.435182\n",
       "3    Asia-Pacific        5.358326\n",
       "1          Africa        4.254581"
      ],
      "text/html": "<div>\n<style scoped>\n    .dataframe tbody tr th:only-of-type {\n        vertical-align: middle;\n    }\n\n    .dataframe tbody tr th {\n        vertical-align: top;\n    }\n\n    .dataframe thead th {\n        text-align: right;\n    }\n</style>\n<table border=\"1\" class=\"dataframe\">\n  <thead>\n    <tr style=\"text-align: right;\">\n      <th></th>\n      <th>name</th>\n      <th>Happiness mean</th>\n    </tr>\n  </thead>\n  <tbody>\n    <tr>\n      <th>5</th>\n      <td>North America</td>\n      <td>7.154500</td>\n    </tr>\n    <tr>\n      <th>0</th>\n      <td>Western Europe</td>\n      <td>6.880474</td>\n    </tr>\n    <tr>\n      <th>4</th>\n      <td>Latin America</td>\n      <td>5.957818</td>\n    </tr>\n    <tr>\n      <th>2</th>\n      <td>Eastern Europe</td>\n      <td>5.435182</td>\n    </tr>\n    <tr>\n      <th>3</th>\n      <td>Asia-Pacific</td>\n      <td>5.358326</td>\n    </tr>\n    <tr>\n      <th>1</th>\n      <td>Africa</td>\n      <td>4.254581</td>\n    </tr>\n  </tbody>\n</table>\n</div>"
     },
     "metadata": {},
     "execution_count": 18
    }
   ],
   "source": [
    "group_info['Happiness mean'] = np.nan\n",
    "# for loop, separate for reading purpose\n",
    "for i  in range(len(regions)):\n",
    "    region = df2[df2['Region'] == regions[i]]\n",
    "    group_info.loc[group_info.index == i, 'Happiness mean'] = region['Happiness Score'].mean()\n",
    "\n",
    "group_info.sort_values(by='Happiness mean', ascending=False)"
   ]
  },
  {
   "source": [
    "### 3. number of countries in each region that have a happiness score above 6.0"
   ],
   "cell_type": "markdown",
   "metadata": {}
  },
  {
   "cell_type": "code",
   "execution_count": 19,
   "metadata": {},
   "outputs": [],
   "source": [
    "group_info['Happiness above 6'] = np.nan\n",
    "# for loop, separate for reading purpose\n",
    "for i  in range(len(regions)):\n",
    "    region = df2[df2['Region'] == regions[i]]\n",
    "    #print(region[region['Happiness Score']>6].count().unique())\n",
    "    group_info.loc[group_info.index == i, 'Happiness above 6']=region[region['Happiness Score']>6].count().unique()"
   ]
  },
  {
   "source": [
    "### 4. difference between the maximum and minimum happiness score"
   ],
   "cell_type": "markdown",
   "metadata": {}
  },
  {
   "cell_type": "code",
   "execution_count": 20,
   "metadata": {
    "tags": []
   },
   "outputs": [],
   "source": [
    "group_info['Max Happiness'] = np.nan\n",
    "group_info['Min Happiness'] = np.nan\n",
    "group_info['Difference Happiness'] = np.nan\n",
    "# for loop, separate for reading purpose\n",
    "for i  in range(len(regions)):\n",
    "    region = df2[df2['Region'] == regions[i]]\n",
    "    max_value = region['Happiness Score'].max()\n",
    "    min_value = region['Happiness Score'].min()\n",
    "    group_info.loc[group_info.index == i, 'Max Happiness']=max_value\n",
    "    group_info.loc[group_info.index == i, 'Min Happiness']=min_value\n",
    "    group_info.loc[group_info.index == i, 'Difference Happiness']=max_value-min_value"
   ]
  },
  {
   "source": [
    "## C. Bar plot of the Happiness Score\n",
    "\n",
    "Obtain a horizontal bar plot of the Happiness Score of the top 10 happiest countries. Your bar chart should have the names of the countries are listed vertically along the y-axis and the x-axis should have labels for each number from 0 to 8. Ensure that the chart has an appropriate title and labels."
   ],
   "cell_type": "markdown",
   "metadata": {}
  },
  {
   "cell_type": "code",
   "execution_count": 23,
   "metadata": {},
   "outputs": [],
   "source": [
    "import matplotlib.pyplot as plt # plot library "
   ]
  },
  {
   "cell_type": "code",
   "execution_count": 21,
   "metadata": {},
   "outputs": [],
   "source": [
    "df_plot = df.nsmallest(10,'Happiness Rank')"
   ]
  },
  {
   "cell_type": "code",
   "execution_count": 25,
   "metadata": {},
   "outputs": [
    {
     "output_type": "execute_result",
     "data": {
      "text/plain": [
       "109    7.537\n",
       "97     7.522\n",
       "47     7.504\n",
       "78     7.494\n",
       "101    7.469\n",
       "105    7.377\n",
       "81     7.316\n",
       "5      7.314\n",
       "21     7.284\n",
       "148    7.284\n",
       "Name: Happiness Score, dtype: float64"
      ]
     },
     "metadata": {},
     "execution_count": 25
    }
   ],
   "source": [
    "df_plot['Happiness Score']"
   ]
  },
  {
   "cell_type": "code",
   "execution_count": null,
   "metadata": {},
   "outputs": [],
   "source": []
  }
 ]
}