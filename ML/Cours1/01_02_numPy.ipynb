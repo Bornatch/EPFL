{
 "cells": [
  {
   "cell_type": "markdown",
   "id": "80a1e87f",
   "metadata": {},
   "source": [
    "# NumPy"
   ]
  },
  {
   "cell_type": "code",
   "execution_count": null,
   "id": "1d48603f",
   "metadata": {},
   "outputs": [],
   "source": [
    "import numpy as np"
   ]
  },
  {
   "cell_type": "markdown",
   "id": "b47276b1",
   "metadata": {},
   "source": [
    "## 03. The NumPy array"
   ]
  },
  {
   "cell_type": "code",
   "execution_count": 4,
   "id": "8846ffb8",
   "metadata": {},
   "outputs": [
    {
     "data": {
      "text/plain": [
       "(3,)"
      ]
     },
     "execution_count": 4,
     "metadata": {},
     "output_type": "execute_result"
    }
   ],
   "source": [
    "a1 = np.array([1,2,3])\n",
    "a1.shape\n",
    "#(3,)\n",
    "np.arange(0,15)\n",
    "#array([ 0,  1,  2,  3,  4,  5,  6,  7,  8,  9, 10, 11, 12, 13, 14])\n",
    "np.arange(0,15,2)\n",
    "#array([ 0,  2,  4,  6,  8, 10, 12, 14])\n",
    "np.arange(1,15,2)\n",
    "#array([ 1,  3,  5,  7,  9, 11, 13])\n",
    "\n",
    "np.linspace(0,100,3)\n",
    "#array([  0.,  50., 100.])\n",
    "np.linspace(0,100,3, endpoint=False)\n",
    "#array([ 0.        , 33.33333333, 66.66666667])"
   ]
  },
  {
   "cell_type": "markdown",
   "id": "47ee0817",
   "metadata": {},
   "source": [
    "## 04. Basic operations with arrays"
   ]
  },
  {
   "cell_type": "code",
   "execution_count": 8,
   "id": "b661efa4",
   "metadata": {},
   "outputs": [
    {
     "data": {
      "text/plain": [
       "array([[5, 4],\n",
       "       [3, 4]])"
      ]
     },
     "execution_count": 8,
     "metadata": {},
     "output_type": "execute_result"
    }
   ],
   "source": [
    "##SHAPE\n",
    "\n",
    "a = np.arange(12)\n",
    "##a.reshape(4,3)\n",
    "#array([[ 0,  1,  2],\n",
    "#       [ 3,  4,  5],\n",
    "#       [ 6,  7,  8],\n",
    "#       [ 9, 10, 11]])\n",
    "\n",
    "##a.reshape(2,2,3)\n",
    "#array([[[ 0,  1,  2],\n",
    "#        [ 3,  4,  5]],\n",
    "#\n",
    "#       [[ 6,  7,  8],\n",
    "#        [ 9, 10, 11]]])\n",
    "\n",
    "## VECTEURS\n",
    "A = np.array( [[1,1], [0,1]] )\n",
    "B = np.array( [[2,0], [3,4]] )\n",
    "A*B                \n",
    "#array([[2, 0],\n",
    "#       [0, 4]])\n",
    "A.dot(B)                \n",
    "#array([[5, 4],\n",
    "#       [3, 4]])\n",
    "\n",
    "## CONCATENATION\n",
    "a = np.array([11,22])\n",
    "b = np.array([18,7,6])\n",
    "c = np.array([1,3,5])\n",
    "d = np.concatenate((a,b,c))\n",
    "# d ==> array([11, 22, 18,  7,  6,  1,  3,  5])\n",
    "\n",
    "a = np.array([[1, 2], [3, 4]])\n",
    "b = np.array([[5, 6], [7, 8]])\n",
    "\n",
    "np.concatenate((a, b), axis=0)\n",
    "#array([[1, 2],\n",
    "#       [3, 4],\n",
    "#       [5, 6],\n",
    "#       [7, 8]])\n",
    "\n",
    "np.concatenate((a, b), axis=1)\n",
    "#array([[1, 2, 5, 6],\n",
    "#       [3, 4, 7, 8]])"
   ]
  },
  {
   "cell_type": "markdown",
   "id": "c7f6e292",
   "metadata": {},
   "source": [
    "## 05. Indexing and slicing"
   ]
  },
  {
   "cell_type": "code",
   "execution_count": 22,
   "id": "35e9bf98",
   "metadata": {},
   "outputs": [
    {
     "data": {
      "text/plain": [
       "array([[[11],\n",
       "        [22]],\n",
       "\n",
       "       [[33],\n",
       "        [44]],\n",
       "\n",
       "       [[55],\n",
       "        [66]]])"
      ]
     },
     "execution_count": 22,
     "metadata": {},
     "output_type": "execute_result"
    }
   ],
   "source": [
    "a = np.reshape(np.arange(12),(4,3))\n",
    "a\n",
    "#array([[ 0,  1,  2],\n",
    "#       [ 3,  4,  5],\n",
    "#       [ 6,  7,  8],\n",
    "#       [ 9, 10, 11]])\n",
    "\n",
    "a[1:3,0]\n",
    "#array([3, 6])\n",
    "\n",
    "a = np.array([1, 2, 3, 4, 5])\n",
    "b = a[1:4]\n",
    "b[0] = 200\n",
    "a\n",
    "##la vue modifi l'objet d'origine !?!?!? WTF\n",
    "\n",
    "b = np.array([[11, 22],[33, 44],[55, 66]])\n",
    "c = b.reshape((b.shape[0], b.shape[1], 1))\n",
    "c\n",
    "## ?? "
   ]
  },
  {
   "cell_type": "markdown",
   "id": "d013a601",
   "metadata": {},
   "source": [
    "## 06. Exercise: slicing arrays"
   ]
  },
  {
   "cell_type": "code",
   "execution_count": 103,
   "id": "c72ccce5",
   "metadata": {},
   "outputs": [
    {
     "data": {
      "text/plain": [
       "array([[13, 15, 17],\n",
       "       [25, 27, 29]])"
      ]
     },
     "execution_count": 103,
     "metadata": {},
     "output_type": "execute_result"
    }
   ],
   "source": [
    "oneDim = np.arange(start = 1, stop=37) #1\n",
    "twoDim = oneDim.reshape(6,6) #2\n",
    "twoDim[:,1]#3\n",
    "twoDim[0:2,4:6]#4\n",
    "twoDim[5,4:6]#5\n",
    "twoDim[2::2,0::2]#4#5"
   ]
  },
  {
   "cell_type": "markdown",
   "id": "579147c3",
   "metadata": {},
   "source": [
    "## 07. Solution to slicing arrays"
   ]
  },
  {
   "cell_type": "code",
   "execution_count": 87,
   "id": "1af42976",
   "metadata": {},
   "outputs": [
    {
     "data": {
      "text/plain": [
       "array([[13, 14, 15, 16, 17],\n",
       "       [19, 20, 21, 22, 23],\n",
       "       [25, 26, 27, 28, 29]])"
      ]
     },
     "execution_count": 87,
     "metadata": {},
     "output_type": "execute_result"
    }
   ],
   "source": [
    "#tiptop"
   ]
  },
  {
   "cell_type": "markdown",
   "id": "0f7fe6ff",
   "metadata": {},
   "source": [
    "## 08. Boolean masking of arrays"
   ]
  },
  {
   "cell_type": "code",
   "execution_count": 110,
   "id": "537a6a33",
   "metadata": {},
   "outputs": [
    {
     "data": {
      "text/plain": [
       "array([[0, 1, 2],\n",
       "       [3, 4, 5],\n",
       "       [6, 7, 8],\n",
       "       [0, 0, 0]])"
      ]
     },
     "execution_count": 110,
     "metadata": {},
     "output_type": "execute_result"
    }
   ],
   "source": [
    "a = np.reshape(np.arange(12),(4,3))\n",
    "a>8\n",
    "#array([[False, False, False],\n",
    "#       [False, False, False],\n",
    "#       [False, False, False],\n",
    "#       [ True,  True,  True]], dtype=bool)\n",
    "a[a>8]\n",
    "#array([ 9, 10, 11])\n",
    "a[a>8]=0\n",
    "a"
   ]
  },
  {
   "cell_type": "markdown",
   "id": "f408c0ce",
   "metadata": {},
   "source": [
    "## 09. Broadcasting"
   ]
  },
  {
   "cell_type": "markdown",
   "id": "a07c8959",
   "metadata": {},
   "source": [
    "Broadcasting rule\n",
    "* Take the tuples giving the shape of each array.\n",
    "* If one of the tuples is shorter (because the array has fewer axes) then pad it with 1's from the front until it has the same size as the longer tuple.\n",
    "* Now compare the tuples element by element and check whether at each position either (i) the entries are equal, or (ii) one of the entries is 1. If this is true for each position, then broadcasting can occur. Otherwise, broadcasting cannot occur."
   ]
  },
  {
   "cell_type": "markdown",
   "id": "23b1de0b",
   "metadata": {},
   "source": [
    "## 10. Exercise: distance matrix with broadcasting"
   ]
  },
  {
   "cell_type": "code",
   "execution_count": 147,
   "id": "175c45db",
   "metadata": {},
   "outputs": [
    {
     "data": {
      "text/plain": [
       "array([[   0, 1498, 1063, 1968, 1498, 1758, 1469, 1472, 2230, 2391],\n",
       "       [1498,    0,  435,  470,    0,  260,   29,   26,  732,  893],\n",
       "       [1063,  435,    0,  905,  435,  695,  406,  409, 1167, 1328],\n",
       "       [1968,  470,  905,    0,  470,  210,  499,  496,  262,  423],\n",
       "       [1498,    0,  435,  470,    0,  260,   29,   26,  732,  893],\n",
       "       [1758,  260,  695,  210,  260,    0,  289,  286,  472,  633],\n",
       "       [1469,   29,  406,  499,   29,  289,    0,    3,  761,  922],\n",
       "       [1472,   26,  409,  496,   26,  286,    3,    0,  758,  919],\n",
       "       [2230,  732, 1167,  262,  732,  472,  761,  758,    0,  161],\n",
       "       [2391,  893, 1328,  423,  893,  633,  922,  919,  161,    0]])"
      ]
     },
     "execution_count": 147,
     "metadata": {},
     "output_type": "execute_result"
    }
   ],
   "source": [
    "dist_to_origin = np.array([0, 1498, 1063, 1968, 1498, 1758, 1469, 1472, 2230, 2391])\n",
    "dist_to_origin\n",
    "alter_dist_to_origin = np.reshape(dist_to_origin,(10,1))\n",
    "alter_dist_to_origin\n",
    "np.absolute(alter_dist_to_origin - dist_to_origin)"
   ]
  },
  {
   "cell_type": "markdown",
   "id": "22a5ddc4",
   "metadata": {},
   "source": [
    "## 11. Solution to distance matrix with broadcasting"
   ]
  },
  {
   "cell_type": "code",
   "execution_count": 149,
   "id": "9f1af47a",
   "metadata": {},
   "outputs": [],
   "source": [
    "#top"
   ]
  },
  {
   "cell_type": "markdown",
   "id": "23ba19e7",
   "metadata": {},
   "source": [
    "## 12. Copies and views"
   ]
  },
  {
   "cell_type": "raw",
   "id": "fe0fcf84",
   "metadata": {},
   "source": [
    "vue ==> autre nom pour mêmes données\n",
    "    /!\\ reshape ==> vue\n",
    "copy ==> objets différents"
   ]
  },
  {
   "cell_type": "code",
   "execution_count": null,
   "id": "ad32e5b4",
   "metadata": {},
   "outputs": [],
   "source": []
  }
 ],
 "metadata": {
  "kernelspec": {
   "display_name": "Python 3",
   "language": "python",
   "name": "python3"
  },
  "language_info": {
   "codemirror_mode": {
    "name": "ipython",
    "version": 3
   },
   "file_extension": ".py",
   "mimetype": "text/x-python",
   "name": "python",
   "nbconvert_exporter": "python",
   "pygments_lexer": "ipython3",
   "version": "3.6.13"
  }
 },
 "nbformat": 4,
 "nbformat_minor": 5
}
