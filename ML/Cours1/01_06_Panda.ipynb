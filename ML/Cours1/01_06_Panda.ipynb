{
 "cells": [
  {
   "cell_type": "markdown",
   "id": "2c97a40a",
   "metadata": {},
   "source": [
    "# Panda"
   ]
  },
  {
   "cell_type": "markdown",
   "id": "026af92e",
   "metadata": {},
   "source": [
    "### diverses infos\n",
    "* tools for reading and writing data\n",
    "* data alignment and integrated handling of missing data\n",
    "* the ability to perform arithmetic operations on the data\n",
    "* easy reshaping and pivoting of data sets\n",
    "* user-friendly operations for merging and joining data\n",
    "* the ability to handle time series\n",
    "\n",
    "### fonctions vues \n",
    "* The iloc operator allows us to slice both rows and columns using their position. The general syntax is as follows \n",
    "```python\n",
    "df.iloc[rows, columns]\n",
    "```"
   ]
  },
  {
   "cell_type": "code",
   "execution_count": 1,
   "id": "a87c8e2d",
   "metadata": {},
   "outputs": [],
   "source": [
    "#import\n",
    "import pandas as pd\n",
    "import numpy as np"
   ]
  },
  {
   "cell_type": "markdown",
   "id": "b04569c9",
   "metadata": {},
   "source": [
    "## 03. Series and DataFrames"
   ]
  },
  {
   "cell_type": "code",
   "execution_count": 2,
   "id": "55ba9ab4",
   "metadata": {},
   "outputs": [
    {
     "output_type": "execute_result",
     "data": {
      "text/plain": [
       "0    technician\n",
       "1      musician\n",
       "2       student\n",
       "Name: occupation, dtype: object"
      ]
     },
     "metadata": {},
     "execution_count": 2
    }
   ],
   "source": [
    "## SERIES \n",
    "my_Series = pd.Series([1,'cat',10.2,'dog'])\n",
    "my_Series\n",
    "#0       1\n",
    "#1     cat\n",
    "#2    10.2\n",
    "#3     dog\n",
    "\n",
    "### POSSIBILITE DE CHANGER L'INDEX \n",
    "\n",
    "ages = pd.Series([20,53,68], index=['John', 'Allen', 'Mary'])\n",
    "ages\n",
    "#John     20\n",
    "#Allen    53\n",
    "#Mary     68\n",
    "#dtype: int64\n",
    "ages['John']\n",
    "\n",
    "## DATAFRAMES\n",
    "\n",
    "df = pd.DataFrame( {'user' : [1,2,3],\n",
    "            'age' : [24,54,17],\n",
    "            'sex' : ['F','F','M'],\n",
    "            'occupation' : ['technician','musician','student']})\n",
    "df.set_index('user')\n",
    "#displaying the number of rows\n",
    "df.shape[0]\n",
    "#displaying the number of columns\n",
    "df.shape[1]\n",
    "#displaying the labels of all the columns\n",
    "df.columns\n",
    "#displaying the data types of each column\n",
    "df.dtypes\n",
    "\n",
    "df.describe()\n",
    "\n",
    "df['occupation']"
   ]
  },
  {
   "cell_type": "markdown",
   "id": "416c9d95",
   "metadata": {},
   "source": [
    "## 05. Manipulating the data"
   ]
  },
  {
   "cell_type": "code",
   "execution_count": 3,
   "id": "264fc17b",
   "metadata": {},
   "outputs": [
    {
     "output_type": "execute_result",
     "data": {
      "text/plain": [
       "   name  age  occupation\n",
       "0  Mark   50      writer\n",
       "1  Kate   46  journalist"
      ],
      "text/html": "<div>\n<style scoped>\n    .dataframe tbody tr th:only-of-type {\n        vertical-align: middle;\n    }\n\n    .dataframe tbody tr th {\n        vertical-align: top;\n    }\n\n    .dataframe thead th {\n        text-align: right;\n    }\n</style>\n<table border=\"1\" class=\"dataframe\">\n  <thead>\n    <tr style=\"text-align: right;\">\n      <th></th>\n      <th>name</th>\n      <th>age</th>\n      <th>occupation</th>\n    </tr>\n  </thead>\n  <tbody>\n    <tr>\n      <th>0</th>\n      <td>Mark</td>\n      <td>50</td>\n      <td>writer</td>\n    </tr>\n    <tr>\n      <th>1</th>\n      <td>Kate</td>\n      <td>46</td>\n      <td>journalist</td>\n    </tr>\n  </tbody>\n</table>\n</div>"
     },
     "metadata": {},
     "execution_count": 3
    }
   ],
   "source": [
    "df = pd.DataFrame(np.arange(9).reshape(3,3), columns=['a','b', 'c'])\n",
    "#df.drop(0, axis=0)\n",
    "df.add(df.loc[0:1,:], fill_value=0)\n",
    "\n",
    "df1= pd.DataFrame([['Mark', 50], ['Kate', 46]],\n",
    "                 columns=['name', 'age'])\n",
    "df2 = pd.DataFrame([['Jon', 3], ['David', 4]],\n",
    "                columns=['name', 'age'])\n",
    "pd.concat([df1,df2])\n",
    "\n",
    "df3 = pd.DataFrame(['writer', 'journalist'], columns=['occupation'])\n",
    "pd.concat([df1,df3], axis = 1)"
   ]
  },
  {
   "cell_type": "markdown",
   "id": "2c01c2b5",
   "metadata": {},
   "source": [
    "## 06. Indexing, selecting and filtering"
   ]
  },
  {
   "cell_type": "code",
   "execution_count": 4,
   "id": "742bdb89",
   "metadata": {},
   "outputs": [
    {
     "output_type": "execute_result",
     "data": {
      "text/plain": [
       "                                          Height (m)  First ascent  \\\n",
       "Mountain                                                             \n",
       "Mount Everest / Sagarmatha / Chomolungma        8848          1953   \n",
       "K2 / Qogir / Godwin Austen                      8611          1954   \n",
       "Kangchenjunga                                   8586          1955   \n",
       "Lhotse                                          8516          1956   \n",
       "Makalu                                          8485          1955   \n",
       "Cho Oyu                                         8188          1954   \n",
       "Dhaulagiri I                                    8167          1960   \n",
       "Manaslu                                         8163          1956   \n",
       "Nanga Parbat                                    8126          1953   \n",
       "Annapurna I                                     8091          1950   \n",
       "\n",
       "                                         Ascents bef. 2004  \n",
       "Mountain                                                    \n",
       "Mount Everest / Sagarmatha / Chomolungma            >>145   \n",
       "K2 / Qogir / Godwin Austen                              45  \n",
       "Kangchenjunga                                           38  \n",
       "Lhotse                                                  26  \n",
       "Makalu                                                  45  \n",
       "Cho Oyu                                                 79  \n",
       "Dhaulagiri I                                            51  \n",
       "Manaslu                                                 49  \n",
       "Nanga Parbat                                            52  \n",
       "Annapurna I                                             36  "
      ],
      "text/html": "<div>\n<style scoped>\n    .dataframe tbody tr th:only-of-type {\n        vertical-align: middle;\n    }\n\n    .dataframe tbody tr th {\n        vertical-align: top;\n    }\n\n    .dataframe thead th {\n        text-align: right;\n    }\n</style>\n<table border=\"1\" class=\"dataframe\">\n  <thead>\n    <tr style=\"text-align: right;\">\n      <th></th>\n      <th>Height (m)</th>\n      <th>First ascent</th>\n      <th>Ascents bef. 2004</th>\n    </tr>\n    <tr>\n      <th>Mountain</th>\n      <th></th>\n      <th></th>\n      <th></th>\n    </tr>\n  </thead>\n  <tbody>\n    <tr>\n      <th>Mount Everest / Sagarmatha / Chomolungma</th>\n      <td>8848</td>\n      <td>1953</td>\n      <td>&gt;&gt;145</td>\n    </tr>\n    <tr>\n      <th>K2 / Qogir / Godwin Austen</th>\n      <td>8611</td>\n      <td>1954</td>\n      <td>45</td>\n    </tr>\n    <tr>\n      <th>Kangchenjunga</th>\n      <td>8586</td>\n      <td>1955</td>\n      <td>38</td>\n    </tr>\n    <tr>\n      <th>Lhotse</th>\n      <td>8516</td>\n      <td>1956</td>\n      <td>26</td>\n    </tr>\n    <tr>\n      <th>Makalu</th>\n      <td>8485</td>\n      <td>1955</td>\n      <td>45</td>\n    </tr>\n    <tr>\n      <th>Cho Oyu</th>\n      <td>8188</td>\n      <td>1954</td>\n      <td>79</td>\n    </tr>\n    <tr>\n      <th>Dhaulagiri I</th>\n      <td>8167</td>\n      <td>1960</td>\n      <td>51</td>\n    </tr>\n    <tr>\n      <th>Manaslu</th>\n      <td>8163</td>\n      <td>1956</td>\n      <td>49</td>\n    </tr>\n    <tr>\n      <th>Nanga Parbat</th>\n      <td>8126</td>\n      <td>1953</td>\n      <td>52</td>\n    </tr>\n    <tr>\n      <th>Annapurna I</th>\n      <td>8091</td>\n      <td>1950</td>\n      <td>36</td>\n    </tr>\n  </tbody>\n</table>\n</div>"
     },
     "metadata": {},
     "execution_count": 4
    }
   ],
   "source": [
    "# We will work on a subset of the columns\n",
    "columns = [\n",
    "    'Mountain', 'Height (m)', 'Range', 'Coordinates', 'Parent mountain',\n",
    "    'First ascent', 'Ascents bef. 2004', 'Failed attempts bef. 2004'\n",
    "]\n",
    "# Load the DataFrame, we will work on the first 10 rows (ten highest mountains)\n",
    "df = pd.read_csv('data\\Mountains.csv', nrows=10, usecols=columns)\n",
    "df.set_index('Mountain', inplace=True)\n",
    "df.Range\n",
    "getattr(df, 'Height (m)')\n",
    "df[df['Parent mountain'] == 'Mount Everest']\n",
    "\n",
    "# Mountains with Mount Everest as parent with a first ascent after 1955\n",
    "df[(df['Parent mountain'] == 'Mount Everest') & (df['First ascent'] > 1955)]\n",
    "\n",
    "col_criteria = [True, False, False, False, True, True, False]\n",
    "df.loc[df['Height (m)'] > 8000, col_criteria]"
   ]
  },
  {
   "cell_type": "markdown",
   "id": "06314ae2",
   "metadata": {},
   "source": [
    "## 07. Views vs copies"
   ]
  },
  {
   "cell_type": "code",
   "execution_count": 5,
   "id": "06fca6fa",
   "metadata": {},
   "outputs": [],
   "source": [
    "df = pd.DataFrame( {\n",
    "    'user' : [1,2,3], \n",
    "    'age' : [24,54,17], \n",
    "    'sex' : ['F','F','M'], \n",
    "    'occupation' : ['technician','musician','student']\n",
    "})\n",
    "df2 = df.loc[df.sex=='F'].copy()\n",
    "df2.loc[0:1,'sex']='Female'"
   ]
  },
  {
   "cell_type": "markdown",
   "id": "9e386a20",
   "metadata": {},
   "source": [
    "## 08. Applying functions\n",
    "* map()\n",
    "* apply()\n",
    "* applymap()"
   ]
  },
  {
   "cell_type": "code",
   "execution_count": 6,
   "id": "5821d026",
   "metadata": {},
   "outputs": [
    {
     "output_type": "execute_result",
     "data": {
      "text/plain": [
       "       a       b       c\n",
       "0  Small   Small   Small\n",
       "1  Small  Medium  Medium\n",
       "2  Large   Large   Large"
      ],
      "text/html": "<div>\n<style scoped>\n    .dataframe tbody tr th:only-of-type {\n        vertical-align: middle;\n    }\n\n    .dataframe tbody tr th {\n        vertical-align: top;\n    }\n\n    .dataframe thead th {\n        text-align: right;\n    }\n</style>\n<table border=\"1\" class=\"dataframe\">\n  <thead>\n    <tr style=\"text-align: right;\">\n      <th></th>\n      <th>a</th>\n      <th>b</th>\n      <th>c</th>\n    </tr>\n  </thead>\n  <tbody>\n    <tr>\n      <th>0</th>\n      <td>Small</td>\n      <td>Small</td>\n      <td>Small</td>\n    </tr>\n    <tr>\n      <th>1</th>\n      <td>Small</td>\n      <td>Medium</td>\n      <td>Medium</td>\n    </tr>\n    <tr>\n      <th>2</th>\n      <td>Large</td>\n      <td>Large</td>\n      <td>Large</td>\n    </tr>\n  </tbody>\n</table>\n</div>"
     },
     "metadata": {},
     "execution_count": 6
    }
   ],
   "source": [
    "df = pd.DataFrame( {\n",
    "    'user': [1, 2, 3],\n",
    "    'age': [24, 54, 17],\n",
    "    'sex': ['F', 'F', 'M'],\n",
    "    'occupation': ['technician', 'musician', 'student']\n",
    "})\n",
    "# map : donne un dico, si connait pas le mot ==> NaN\n",
    "df['sex'] = df['sex'].map({'F': 'Female', 'M': 'Male'})\n",
    "#replace : remplace la valeur détectée ==> si connait pas le mot ==> valeur pas remplacée\n",
    "df['sex'].replace('Female', '1')\n",
    "# apply : applique une méthode de là à de là\n",
    "df2 = pd.DataFrame(\n",
    "    data=np.arange(9).reshape(3,3), columns=['a','b', 'c'])\n",
    "df2.apply(sum, axis=0)\n",
    "## applymap : applique une fonction et créer une vue (pas opti en terme d'éxécution)\n",
    "def my_func(x):\n",
    "    if x > 5:\n",
    "        size = 'Large'\n",
    "    elif x >3:\n",
    "        size = 'Medium'\n",
    "    else:\n",
    "        size = 'Small'\n",
    "    return size\n",
    "df2.applymap(my_func)"
   ]
  },
  {
   "cell_type": "markdown",
   "id": "99046491",
   "metadata": {},
   "source": [
    "## 09. Sorting"
   ]
  },
  {
   "cell_type": "code",
   "execution_count": 7,
   "id": "6f12c09a",
   "metadata": {},
   "outputs": [
    {
     "output_type": "execute_result",
     "data": {
      "text/plain": [
       "    A  B   C\n",
       "2   1  7   5\n",
       "4   3  6   2\n",
       "0   3  0  10\n",
       "1   6  0   4\n",
       "3  12  5   8"
      ],
      "text/html": "<div>\n<style scoped>\n    .dataframe tbody tr th:only-of-type {\n        vertical-align: middle;\n    }\n\n    .dataframe tbody tr th {\n        vertical-align: top;\n    }\n\n    .dataframe thead th {\n        text-align: right;\n    }\n</style>\n<table border=\"1\" class=\"dataframe\">\n  <thead>\n    <tr style=\"text-align: right;\">\n      <th></th>\n      <th>A</th>\n      <th>B</th>\n      <th>C</th>\n    </tr>\n  </thead>\n  <tbody>\n    <tr>\n      <th>2</th>\n      <td>1</td>\n      <td>7</td>\n      <td>5</td>\n    </tr>\n    <tr>\n      <th>4</th>\n      <td>3</td>\n      <td>6</td>\n      <td>2</td>\n    </tr>\n    <tr>\n      <th>0</th>\n      <td>3</td>\n      <td>0</td>\n      <td>10</td>\n    </tr>\n    <tr>\n      <th>1</th>\n      <td>6</td>\n      <td>0</td>\n      <td>4</td>\n    </tr>\n    <tr>\n      <th>3</th>\n      <td>12</td>\n      <td>5</td>\n      <td>8</td>\n    </tr>\n  </tbody>\n</table>\n</div>"
     },
     "metadata": {},
     "execution_count": 7
    }
   ],
   "source": [
    "df = pd.DataFrame({'A':[3,6,1,12,3],'B':[0,0,7,5,6],'C':[10,4,5,8,2]})\n",
    "df.sort_index(ascending=False, axis=1)\n",
    "df.sort_values(['A','C'])"
   ]
  },
  {
   "cell_type": "markdown",
   "id": "4c89911a",
   "metadata": {},
   "source": [
    "## 10. Grouping"
   ]
  },
  {
   "cell_type": "code",
   "execution_count": 8,
   "id": "8030793c",
   "metadata": {},
   "outputs": [
    {
     "output_type": "error",
     "ename": "SyntaxError",
     "evalue": "invalid syntax (<ipython-input-8-c20d1acf2d08>, line 2)",
     "traceback": [
      "\u001b[1;36m  File \u001b[1;32m\"<ipython-input-8-c20d1acf2d08>\"\u001b[1;36m, line \u001b[1;32m2\u001b[0m\n\u001b[1;33m    'A' : ['dog', 'cat', 'dog', 'cat', 'dog', 'cat', 'dog', ra'dog'],\u001b[0m\n\u001b[1;37m                                                                  ^\u001b[0m\n\u001b[1;31mSyntaxError\u001b[0m\u001b[1;31m:\u001b[0m invalid syntax\n"
     ]
    }
   ],
   "source": [
    "df = pd.DataFrame({\n",
    "       'A' : ['dog', 'cat', 'dog', 'cat', 'dog', 'cat', 'dog', ra'dog'],\n",
    "       'B' : ['one', 'one', 'two', 'three','two', 'two', 'one', 'three'],\n",
    "       'C' : np.random.randint(10, size=8)})\n",
    "\n",
    "df.groupby('A')['C'].mean()\n",
    "\n",
    "dfMusic = pd.read_csv('data\\songs_requested.csv')\n",
    "grouped_df = dfMusic.groupby('Musician').agg({'Name': 'count',\n",
    "                                    'Decade': lambda x: str(min(x))+\"-\"+str(max(x)), \n",
    "                                    'Requested': ['sum', 'max', np.mean]}\n",
    "                                    )\n",
    "# renaming some columns\n",
    "grouped_df.rename(columns={\"count\":\"Total\",\n",
    "                           \"<lambda>\":\"span\"})"
   ]
  },
  {
   "cell_type": "markdown",
   "id": "cd9d2784",
   "metadata": {},
   "source": [
    "## 11. Handling missing values"
   ]
  },
  {
   "cell_type": "code",
   "execution_count": 91,
   "id": "ea79d040",
   "metadata": {},
   "outputs": [
    {
     "data": {
      "text/plain": [
       "a    0\n",
       "b    3\n",
       "c    0\n",
       "d    3\n",
       "e    0\n",
       "f    3\n",
       "dtype: int64"
      ]
     },
     "execution_count": 91,
     "metadata": {},
     "output_type": "execute_result"
    }
   ],
   "source": [
    "df = pd.DataFrame(np.random.randint(10, size=(3, 3)), index=['a', 'c', 'e'], columns=['A', 'B', 'C'])\n",
    "df2 = df.reindex(['a', 'b', 'c', 'd', 'e', 'f'])\n",
    "df2.isnull().sum() ## count null value of column\n",
    "df2.isnull().sum(axis=1) ## count null value of row\n",
    "\n",
    "## out null value\n",
    "df2.dropna() \n",
    "# drop a row if it has a missing value in all of the columns\n",
    "df2.dropna(how='all')\n",
    "# drop a row if it has a missing value in column 'A'\n",
    "df2.dropna(subset=['A'])\n",
    "# drop a row if it has a missing value in column 'A' or column B\n",
    "df2.dropna(subset=['A','B'])\n",
    "# drop a row if it has a missing value in both column 'A' and column B\n",
    " df2.dropna(subset=['A','B'], how='all')\n",
    "    \n",
    "## put data on NaN\n",
    "df2.fillna(value=0)"
   ]
  },
  {
   "cell_type": "code",
   "execution_count": null,
   "id": "3c97bece",
   "metadata": {},
   "outputs": [],
   "source": []
  }
 ],
 "metadata": {
  "kernelspec": {
   "name": "python3613jvsc74a57bd096112b273da02500fca82f24d37a320def3fe5535540567717f501ae01de40a6",
   "display_name": "Python 3.6.13 64-bit ('exts-ml': conda)"
  },
  "language_info": {
   "codemirror_mode": {
    "name": "ipython",
    "version": 3
   },
   "file_extension": ".py",
   "mimetype": "text/x-python",
   "name": "python",
   "nbconvert_exporter": "python",
   "pygments_lexer": "ipython3",
   "version": "3.6.13"
  }
 },
 "nbformat": 4,
 "nbformat_minor": 5
}