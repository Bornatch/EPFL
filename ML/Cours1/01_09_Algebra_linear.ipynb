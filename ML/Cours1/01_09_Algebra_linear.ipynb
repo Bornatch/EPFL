{
 "metadata": {
  "language_info": {
   "codemirror_mode": {
    "name": "ipython",
    "version": 3
   },
   "file_extension": ".py",
   "mimetype": "text/x-python",
   "name": "python",
   "nbconvert_exporter": "python",
   "pygments_lexer": "ipython3",
   "version": "3.6.13-final"
  },
  "orig_nbformat": 2,
  "kernelspec": {
   "name": "python3613jvsc74a57bd096112b273da02500fca82f24d37a320def3fe5535540567717f501ae01de40a6",
   "display_name": "Python 3.6.13 64-bit ('exts-ml': conda)"
  }
 },
 "nbformat": 4,
 "nbformat_minor": 2,
 "cells": [
  {
   "source": [
    "# 02. Why do we need linear algebra for data science?\n",
    "\n",
    "* associative: A(BC)=(AB)C\n",
    "* distributive: A(B+C)=AB+AC\n",
    "* not commutative AB≠BA\n",
    "\n"
   ],
   "cell_type": "markdown",
   "metadata": {}
  },
  {
   "cell_type": "code",
   "execution_count": 8,
   "metadata": {},
   "outputs": [
    {
     "output_type": "execute_result",
     "data": {
      "text/plain": [
       "array([ 20,  35, -24,   0])"
      ]
     },
     "metadata": {},
     "execution_count": 8
    }
   ],
   "source": [
    "import numpy as np\n",
    "\n",
    "x = [5,7,-2,2]\n",
    "y = [4,5,12,0]\n",
    "\n",
    "# Linear algebra version\n",
    "np.array(x)*np.array(y)\n",
    "# Out: array([ 20,  35, -24,   0])"
   ]
  },
  {
   "source": [
    "## 04. Vectors and matrices in NumPy"
   ],
   "cell_type": "markdown",
   "metadata": {}
  },
  {
   "cell_type": "code",
   "execution_count": 9,
   "metadata": {},
   "outputs": [
    {
     "output_type": "execute_result",
     "data": {
      "text/plain": [
       "array([[ 1,  9],\n",
       "       [ 2, 12]])"
      ]
     },
     "metadata": {},
     "execution_count": 9
    }
   ],
   "source": [
    "A = np.array([[1,2],[2,1]])\n",
    "B =np.array([[1,5],[0,2]])\n",
    "#A+5*B\n",
    "#Out: array([[ 6, 27],[ 2, 11]])\n",
    "np.dot(A, B)"
   ]
  },
  {
   "cell_type": "code",
   "execution_count": 10,
   "metadata": {},
   "outputs": [
    {
     "output_type": "execute_result",
     "data": {
      "text/plain": [
       "array([0, 1, 2])"
      ]
     },
     "metadata": {},
     "execution_count": 10
    }
   ],
   "source": [
    "a = np.array([0, 1, 2])\n",
    "a.T"
   ]
  },
  {
   "cell_type": "code",
   "execution_count": 11,
   "metadata": {},
   "outputs": [
    {
     "output_type": "execute_result",
     "data": {
      "text/plain": [
       "array([[0, 1, 2]])"
      ]
     },
     "metadata": {},
     "execution_count": 11
    }
   ],
   "source": [
    "b = np.array([[0],[1],[2]])\n",
    "b.T"
   ]
  },
  {
   "cell_type": "code",
   "execution_count": 12,
   "metadata": {},
   "outputs": [
    {
     "output_type": "execute_result",
     "data": {
      "text/plain": [
       "array([[ 0,  0],\n",
       "       [ 0, 42]])"
      ]
     },
     "metadata": {},
     "execution_count": 12
    }
   ],
   "source": [
    "a = np.array([\n",
    " [0],\n",
    " [7]\n",
    "])\n",
    "b = np.array([\n",
    " [1,2],\n",
    " [0,6]\n",
    "])\n",
    "c = np.array([\n",
    " [2,2]\n",
    "])\n",
    "a.shape\n",
    "#Out: (2,1)\n",
    "b.shape\n",
    "#Out: (2,2)\n",
    "c.shape\n",
    "#Out: (1,2)\n",
    "a*b\n",
    "#Out: array([[ 0,  0],[ 0, 42]])"
   ]
  },
  {
   "source": [
    "## 05. The inverse of a matrix"
   ],
   "cell_type": "markdown",
   "metadata": {}
  },
  {
   "cell_type": "code",
   "execution_count": null,
   "metadata": {},
   "outputs": [],
   "source": []
  },
  {
   "source": [
    "## 06. The linalg module in NumPy"
   ],
   "cell_type": "markdown",
   "metadata": {}
  },
  {
   "cell_type": "code",
   "execution_count": 13,
   "metadata": {},
   "outputs": [
    {
     "output_type": "execute_result",
     "data": {
      "text/plain": [
       "array([[ 3., -4.],\n",
       "       [-2.,  3.]])"
      ]
     },
     "metadata": {},
     "execution_count": 13
    }
   ],
   "source": [
    "A = np.array([[3,4],[2,3]])\n",
    "A.T\n",
    "#Out: array([[3, 2],[4, 3]])\n",
    "np.linalg.inv(A)\n",
    "#Out: array([[ 3., -4.], [-2.,  3.]])"
   ]
  },
  {
   "cell_type": "code",
   "execution_count": 14,
   "metadata": {},
   "outputs": [
    {
     "output_type": "execute_result",
     "data": {
      "text/plain": [
       "2"
      ]
     },
     "metadata": {},
     "execution_count": 14
    }
   ],
   "source": [
    "np.linalg.matrix_rank(A)\n",
    "#Out: 2"
   ]
  },
  {
   "source": [
    "## 07. Exercise: solving a system of linear equations"
   ],
   "cell_type": "markdown",
   "metadata": {}
  },
  {
   "cell_type": "code",
   "execution_count": 15,
   "metadata": {},
   "outputs": [
    {
     "output_type": "execute_result",
     "data": {
      "text/plain": [
       "array([[ 2,  1,  1],\n",
       "       [-5, -3,  0],\n",
       "       [ 1,  1, -1]])"
      ]
     },
     "metadata": {},
     "execution_count": 15
    }
   ],
   "source": [
    "# system\n",
    "A = np.array([[2,1,1],[-5,-3,0],[1,1,-1]])\n",
    "b = np.array([[-1],[1],[-2]])\n",
    "A"
   ]
  },
  {
   "cell_type": "code",
   "execution_count": 16,
   "metadata": {},
   "outputs": [
    {
     "output_type": "execute_result",
     "data": {
      "text/plain": [
       "3"
      ]
     },
     "metadata": {},
     "execution_count": 16
    }
   ],
   "source": [
    "# 2 rank of A\n",
    "np.linalg.matrix_rank(A)"
   ]
  },
  {
   "cell_type": "code",
   "execution_count": 17,
   "metadata": {},
   "outputs": [],
   "source": [
    "#inverse of A \n",
    "A_inv=np.linalg.inv(A)"
   ]
  },
  {
   "cell_type": "code",
   "execution_count": 18,
   "metadata": {},
   "outputs": [
    {
     "output_type": "execute_result",
     "data": {
      "text/plain": [
       "array([[  7.],\n",
       "       [-12.],\n",
       "       [ -3.]])"
      ]
     },
     "metadata": {},
     "execution_count": 18
    }
   ],
   "source": [
    "np.dot(A_inv,b)"
   ]
  },
  {
   "cell_type": "code",
   "execution_count": 19,
   "metadata": {},
   "outputs": [
    {
     "output_type": "execute_result",
     "data": {
      "text/plain": [
       "array([[  7.],\n",
       "       [-12.],\n",
       "       [ -3.]])"
      ]
     },
     "metadata": {},
     "execution_count": 19
    }
   ],
   "source": [
    "np.linalg.solve(A,b)"
   ]
  },
  {
   "cell_type": "code",
   "execution_count": null,
   "metadata": {},
   "outputs": [],
   "source": []
  }
 ]
}